{
 "cells": [
  {
   "cell_type": "code",
   "execution_count": 2,
   "metadata": {
    "nbpresent": {
     "id": "a47fa6c9-af4d-43f4-adc4-f30644aae2c1"
    }
   },
   "outputs": [],
   "source": [
    "#header\n",
    "\n",
    "import numpy as np\n",
    "import cv2\n",
    "import glob\n",
    "import matplotlib.pyplot as plt\n",
    "%matplotlib qt\n",
    "%matplotlib inline\n",
    "import pickle\n",
    "\n",
    "def show(img,cvt=1):\n",
    "    img = np.uint8(img)\n",
    "    if cvt:\n",
    "        img = cv2.cvtColor(img, cv2.COLOR_BGR2RGB)\n",
    "    plt.figure()\n",
    "    plt.imshow(img)\n",
    "    return\n",
    "    \n",
    "def prin(sth):\n",
    "    print(sth)\n",
    "    return"
   ]
  },
  {
   "cell_type": "code",
   "execution_count": 6,
   "metadata": {
    "nbpresent": {
     "id": "d3a70d6f-ba2c-41d7-a07c-16dbd4d237a7"
    }
   },
   "outputs": [],
   "source": [
    "#calculates the camera distortion\n",
    "\n",
    "# prepare object points, like (0,0,0), (1,0,0), (2,0,0) ....,(6,5,0)\n",
    "h_chessboard = 6\n",
    "b_chessboard = 9\n",
    "\n",
    "objp = np.zeros((h_chessboard*b_chessboard,3), np.float32)\n",
    "objp[:,:2] = np.mgrid[0:b_chessboard, 0:h_chessboard].T.reshape(-1,2)\n",
    "\n",
    "# Arrays to store object points and image points from all the images.\n",
    "objpoints = [] # 3d points in real world space\n",
    "imgpoints = [] # 2d points in image plane.\n",
    "\n",
    "# Make a list of calibration images\n",
    "images = glob.glob('camera_cal/calibration*.jpg')\n",
    "# Step through the list and search for chessboard corners\n",
    "for idx, fname in enumerate(images):\n",
    "    #prin(fname)\n",
    "    img = cv2.imread(fname)\n",
    "    gray = cv2.cvtColor(img, cv2.COLOR_BGR2GRAY)\n",
    "    #show(gray)\n",
    "    #prin(idx)\n",
    "    # Find the chessboard corners\n",
    "    ret, corners = cv2.findChessboardCorners(gray, (b_chessboard,h_chessboard), None)\n",
    "    #prin(corners)\n",
    "    #prin(ret)\n",
    "    # If found, add object points, image points\n",
    "    if ret == True:\n",
    "        objpoints.append(objp)\n",
    "        imgpoints.append(corners)   \n",
    "\n",
    "img_size = img.shape[:2]\n",
    "# Do camera calibration given object points and image points  \n",
    "ret, mtx, dist, rvecs, tvecs = cv2.calibrateCamera(objpoints, imgpoints, img_size,None,None)\n",
    "# Save the camera calibration result for later use (we won't worry about rvecs / tvecs)\n",
    "dist_pickle = {}\n",
    "dist_pickle[\"mtx\"] = mtx\n",
    "dist_pickle[\"dist\"] = dist\n",
    "pickle.dump( dist_pickle, open( \"camera_cal/dist_pickle.p\", \"wb\" ) )\n",
    "\n"
   ]
  },
  {
   "cell_type": "code",
   "execution_count": 17,
   "metadata": {
    "nbpresent": {
     "id": "f13ac75e-75b0-4c4f-9dad-ad9fb706bf8d"
    }
   },
   "outputs": [],
   "source": [
    "# undistort the test images\n",
    "images = glob.glob('test_images/*.jpg')\n",
    "\n",
    "for idx, fname in enumerate(images):\n",
    "    img = cv2.imread(fname)\n",
    "    img_size = (img.shape[1], img.shape[0])\n",
    "    undist = cv2.undistort(img, mtx, dist, None, mtx)\n",
    "    cv2.imwrite('output_images/undist' + str(idx) + '.jpg',undist)\n",
    "    \n"
   ]
  },
  {
   "cell_type": "raw",
   "metadata": {},
   "source": [
    "#process with gradient thresholds\n",
    "\n",
    "def abs_sobel_thresh(img, orient='x', sobel_kernel=3, thresh=(0, 255)):\n",
    "    # Calculate directional gradient\n",
    "    # Apply threshold\n",
    "    # Convert to grayscale\n",
    "    gray = cv2.cvtColor(img, cv2.COLOR_BGR2GRAY)\n",
    "    # Apply x or y gradient with the OpenCV Sobel() function\n",
    "    # and take the absolute value\n",
    "    if orient == 'x':\n",
    "        abs_sobel = np.absolute(cv2.Sobel(gray, cv2.CV_64F, 1, 0, ksize=sobel_kernel))\n",
    "    if orient == 'y':\n",
    "        abs_sobel = np.absolute(cv2.Sobel(gray, cv2.CV_64F, 0, 1, ksize=sobel_kernel))\n",
    "    # Rescale back to 8 bit integer\n",
    "    scaled_sobel = np.uint8(255*abs_sobel/np.max(abs_sobel))\n",
    "    # Create a copy and apply the threshold\n",
    "    grad_binary = np.zeros_like(scaled_sobel)\n",
    "    # Here I'm using inclusive (>=, <=) thresholds, but exclusive is ok too\n",
    "    grad_binary[(scaled_sobel >= thresh[0]) & (scaled_sobel <= thresh[1])] = 1\n",
    "\n",
    "    # Return the result\n",
    "    return grad_binary\n",
    "\n",
    "def mag_thresh(image, sobel_kernel=3, mag_thresh=(0, 255)):\n",
    "    # Calculate gradient magnitude\n",
    "    # Apply threshold\n",
    "    # Convert to grayscale\n",
    "    gray = cv2.cvtColor(img, cv2.COLOR_BGR2GRAY)\n",
    "    # Take both Sobel x and y gradients\n",
    "    sobelx = cv2.Sobel(gray, cv2.CV_64F, 1, 0, ksize=sobel_kernel)\n",
    "    sobely = cv2.Sobel(gray, cv2.CV_64F, 0, 1, ksize=sobel_kernel)\n",
    "    # Calculate the gradient magnitude\n",
    "    gradmag = np.sqrt(sobelx**2 + sobely**2)\n",
    "    # Rescale to 8 bit\n",
    "    scale_factor = np.max(gradmag)/255 \n",
    "    gradmag = (gradmag/scale_factor).astype(np.uint8) \n",
    "    # Create a binary image of ones where threshold is met, zeros otherwise\n",
    "    mag_binary = np.zeros_like(gradmag)\n",
    "    mag_binary[(gradmag >= mag_thresh[0]) & (gradmag <= mag_thresh[1])] = 1\n",
    "\n",
    "    # Return the binary image\n",
    "    return mag_binary\n",
    "\n",
    "def dir_threshold(image, sobel_kernel=3, thresh=(0, np.pi/2)):\n",
    "    # Calculate gradient direction\n",
    "    # Apply threshold\n",
    "    # Grayscale\n",
    "    gray = cv2.cvtColor(img, cv2.COLOR_BGR2GRAY)\n",
    "    # Calculate the x and y gradients\n",
    "    sobelx = cv2.Sobel(gray, cv2.CV_64F, 1, 0, ksize=sobel_kernel)\n",
    "    sobely = cv2.Sobel(gray, cv2.CV_64F, 0, 1, ksize=sobel_kernel)\n",
    "    # Take the absolute value of the gradient direction, \n",
    "    # apply a threshold, and create a binary image result\n",
    "    absgraddir = np.arctan2(np.absolute(sobely), np.absolute(sobelx))\n",
    "    dir_binary =  np.zeros_like(absgraddir)\n",
    "    dir_binary[(absgraddir >= thresh[0]) & (absgraddir <= thresh[1])] = 1\n",
    "\n",
    "    # Return the binary image\n",
    "    return dir_binary\n",
    "\n",
    "def process_grad_thresholds(image):\n",
    "    # Choose a Sobel kernel size\n",
    "    ksize = 9 # Choose a larger odd number to smooth gradient measurements\n",
    "\n",
    "    # Apply each of the thresholding functions\n",
    "    gradx = abs_sobel_thresh(image, orient='x', sobel_kernel=ksize, thresh=(30, 255))\n",
    "    grady = abs_sobel_thresh(image, orient='y', sobel_kernel=ksize, thresh=(20, 100))\n",
    "    mag_binary = mag_thresh(image, sobel_kernel=15, mag_thresh=(30, 255))\n",
    "    dir_binary = dir_threshold(image, sobel_kernel=15, thresh=(0.7, 1.3))\n",
    "\n",
    "    combined1 = np.zeros_like(dir_binary)\n",
    "    combined2 = np.zeros_like(dir_binary)\n",
    "    combined3 = np.zeros_like(dir_binary)\n",
    "    combined1[(gradx == 1)] = 1\n",
    "    combined2[((mag_binary == 1) & (dir_binary == 1))] = 1\n",
    "    combined3 = cv2.bitwise_or(combined1, combined2)\n",
    "    #combined = np.uint8(np.rint(combined3*255))\n",
    "    combined = combined3\n",
    "    \n",
    "#    show(gradx,0)\n",
    "#    show(grady,0)\n",
    "#   show(mag_binary,0)\n",
    "#    show(dir_binary,0)\n",
    "#    show(combined,0)\n",
    "    row1 = np.concatenate((image,cv2.cvtColor(gradx*255,cv2.COLOR_GRAY2BGR)),axis=1)\n",
    "    row2 = np.concatenate((mag_binary,dir_binary),axis=1)\n",
    "    row2 = np.uint8(np.rint(row2*255))\n",
    "    row2 = cv2.cvtColor(row2,cv2.COLOR_GRAY2BGR)\n",
    "    row3 = np.concatenate((combined2,combined3),axis=1)\n",
    "    row3 = np.uint8(np.rint(row3*255))\n",
    "    row3 = cv2.cvtColor(row3,cv2.COLOR_GRAY2BGR)\n",
    "    processed_analyse = np.concatenate((row1,row2,row3),axis=0)\n",
    "    \n",
    "#    show(processed_analyse)\n",
    "    return processed_analyse, combined\n",
    "\n",
    "images = glob.glob('output_images/undist*.jpg')\n",
    "for idx,fname in enumerate(images):\n",
    "    img = cv2.imread(fname)\n",
    "    processed_analyse, mask_grad_thres = process_grad_thresholds(img)\n",
    "    cv2.imwrite('output_images/processed_' + str(idx) + '.jpg', processed_analyse)\n",
    "    cv2.imwrite('output_images/mask_grad_thres_' + str(idx) + '.jpg', mask_grad_thres*255)\n",
    "\n"
   ]
  },
  {
   "cell_type": "raw",
   "metadata": {},
   "source": [
    "# pipeline adds color threshold\n",
    "#sx_thresh is not needed here, was for gradient threshold\n",
    "\n",
    "def color_thresh(img, s_thresh=(170, 255), l_thresh=(170, 255)):\n",
    "    img = np.copy(img)\n",
    "    # Convert to HLS color space and separate the V channel\n",
    "    hls = cv2.cvtColor(img, cv2.COLOR_RGB2HLS)\n",
    "    l_channel = hls[:,:,1]\n",
    "    s_channel = hls[:,:,2]\n",
    "        \n",
    "    # Threshold color channel\n",
    "    s_binary = np.zeros_like(s_channel)\n",
    "    s_binary[(s_channel >= s_thresh[0]) & (s_channel <= s_thresh[1])] = 1\n",
    "\n",
    "    l_binary = np.zeros_like(l_channel)\n",
    "    l_binary[(l_channel >= l_thresh[0]) & (l_channel <= l_thresh[1])] = 1\n",
    "    return s_binary, l_binary\n",
    "\n",
    "def combine_grad_color_thresh(img):\n",
    "    analyse_grad,grad_binary=process_grad_thresholds(img)\n",
    "    s_binary, l_binary = color_thresh(img)\n",
    "    \n",
    "    rgb_combined = np.dstack(( np.zeros_like(grad_binary), grad_binary, s_binary)) * 255\n",
    "    binary_combined = np.zeros_like(grad_binary)\n",
    "    binary_combined[(grad_binary == 1) | (s_binary == 1)] = 1\n",
    "    \n",
    "    s_rgb = np.dstack((s_binary,s_binary,s_binary))*255\n",
    "    l_rgb = np.dstack((l_binary,l_binary,l_binary))*255\n",
    "    column = np.concatenate((l_rgb,s_rgb,rgb_combined),axis=0)\n",
    "    analyse_grad_color = np.concatenate((analyse_grad,column),axis=1)\n",
    "    return binary_combined, rgb_combined, analyse_grad_color\n",
    "\n",
    "images = glob.glob('output_images/undist*.jpg')\n",
    "for idx,fname in enumerate(images):\n",
    "    img = cv2.imread(fname)\n",
    "    binary_combined, rgb_combined, analyse_grad_color = combine_grad_color_thresh(img)\n",
    "\n",
    "    cv2.imwrite('output_images/pipeline' + str(idx) + '.jpg', binary_combined*255)\n",
    "    cv2.imwrite('output_images/analyse_grad_color' + str(idx) + '.jpg', analyse_grad_color)"
   ]
  },
  {
   "cell_type": "raw",
   "metadata": {},
   "source": [
    "def process_perspective(image):\n",
    "    # to get an image from the top view perspective\n",
    "    imshape = image.shape\n",
    "    cut_y = 60\n",
    "    h_mod = imshape[0]*0.932-cut_y\n",
    "    h_trapezoid = h_mod*0.47\n",
    "    a_trapezoid = imshape[1]*(h_mod/2-h_trapezoid)/(h_mod/2)\n",
    "\n",
    "    vertices_mask= np.array([[(0,imshape[0]-cut_y),(imshape[1]/2-a_trapezoid/2, imshape[0]-h_trapezoid), (imshape[1]/2+a_trapezoid/2, imshape[0]-h_trapezoid), (imshape[1],imshape[0]-cut_y)]], dtype=np.float32)\n",
    "    h_new = imshape[0]*3\n",
    "    w_new = imshape[1]*1\n",
    "    vertices_dst= np.array([[(0,h_new),(0,0), (w_new, 0), (w_new,h_new)]], dtype=np.float32)\n",
    "\n",
    "    matrix_transform = cv2.getPerspectiveTransform(vertices_mask,vertices_dst)\n",
    "    image_dst = cv2.warpPerspective(image,matrix_transform,(w_new,h_new),flags=cv2.INTER_LINEAR)\n",
    "\n",
    "    matrix_transform_back = cv2.getPerspectiveTransform(vertices_dst,vertices_mask)\n",
    "\n",
    "    return image_dst, matrix_transform_back\n",
    "\n",
    "images = glob.glob('output_images/undist*.jpg')\n",
    "for idx,fname in enumerate(images):\n",
    "    img = cv2.imread(fname)\n",
    "    binary_combined, rgb_combined, analyse_grad_color = combine_grad_color_thresh(img)\n",
    "    processed_analyse, matrix_transform_back = process_perspective(binary_combined)\n",
    "\n",
    "    \n",
    "    cv2.imwrite('output_images/perspective' + str(idx) + '.jpg', processed_analyse*255)"
   ]
  },
  {
   "cell_type": "code",
   "execution_count": null,
   "metadata": {
    "nbpresent": {
     "id": "099c1e2e-042e-4f57-8f38-4a19b4e12274"
    }
   },
   "outputs": [],
   "source": []
  },
  {
   "cell_type": "code",
   "execution_count": 136,
   "metadata": {
    "nbpresent": {
     "id": "61059bbd-4974-49ec-902d-3fd35a42389b"
    }
   },
   "outputs": [
    {
     "name": "stdout",
     "output_type": "stream",
     "text": [
      "1064.10112545 m 636.724605711 m\n",
      "4213.41926392 m 891.884145517 m\n",
      "365.803946042 m 509.785479631 m\n",
      "2866.34481345 m 3087.31597437 m\n",
      "731.459426912 m 711.841351071 m\n",
      "1200.04099023 m 2123.78330977 m\n",
      "477.493395438 m 533.90792798 m\n",
      "423.235255939 m 354.32140537 m\n"
     ]
    }
   ],
   "source": [
    "def abs_sobel_thresh(img, orient='x', sobel_kernel=3, thresh=(0, 255)):\n",
    "    # Calculate directional gradient\n",
    "    # Apply threshold\n",
    "    # Convert to grayscale\n",
    "    gray = cv2.cvtColor(img, cv2.COLOR_BGR2GRAY)\n",
    "    # Apply x or y gradient with the OpenCV Sobel() function\n",
    "    # and take the absolute value\n",
    "    if orient == 'x':\n",
    "        abs_sobel = np.absolute(cv2.Sobel(gray, cv2.CV_64F, 1, 0, ksize=sobel_kernel))\n",
    "    if orient == 'y':\n",
    "        abs_sobel = np.absolute(cv2.Sobel(gray, cv2.CV_64F, 0, 1, ksize=sobel_kernel))\n",
    "    # Rescale back to 8 bit integer\n",
    "    scaled_sobel = np.uint8(255*abs_sobel/np.max(abs_sobel))\n",
    "    # Create a copy and apply the threshold\n",
    "    grad_binary = np.zeros_like(scaled_sobel)\n",
    "    # Here I'm using inclusive (>=, <=) thresholds, but exclusive is ok too\n",
    "    grad_binary[(scaled_sobel >= thresh[0]) & (scaled_sobel <= thresh[1])] = 1\n",
    "\n",
    "    # Return the result\n",
    "    return grad_binary\n",
    "\n",
    "def mag_thresh(image, sobel_kernel=3, mag_thresh=(0, 255)):\n",
    "    # Calculate gradient magnitude\n",
    "    # Apply threshold\n",
    "    # Convert to grayscale\n",
    "    gray = cv2.cvtColor(img, cv2.COLOR_BGR2GRAY)\n",
    "    # Take both Sobel x and y gradients\n",
    "    sobelx = cv2.Sobel(gray, cv2.CV_64F, 1, 0, ksize=sobel_kernel)\n",
    "    sobely = cv2.Sobel(gray, cv2.CV_64F, 0, 1, ksize=sobel_kernel)\n",
    "    # Calculate the gradient magnitude\n",
    "    gradmag = np.sqrt(sobelx**2 + sobely**2)\n",
    "    # Rescale to 8 bit\n",
    "    scale_factor = np.max(gradmag)/255 \n",
    "    gradmag = (gradmag/scale_factor).astype(np.uint8) \n",
    "    # Create a binary image of ones where threshold is met, zeros otherwise\n",
    "    mag_binary = np.zeros_like(gradmag)\n",
    "    mag_binary[(gradmag >= mag_thresh[0]) & (gradmag <= mag_thresh[1])] = 1\n",
    "\n",
    "    # Return the binary image\n",
    "    return mag_binary\n",
    "\n",
    "def dir_threshold(image, sobel_kernel=3, thresh=(0, np.pi/2)):\n",
    "    # Calculate gradient direction\n",
    "    # Apply threshold\n",
    "    # Grayscale\n",
    "    gray = cv2.cvtColor(img, cv2.COLOR_BGR2GRAY)\n",
    "    # Calculate the x and y gradients\n",
    "    sobelx = cv2.Sobel(gray, cv2.CV_64F, 1, 0, ksize=sobel_kernel)\n",
    "    sobely = cv2.Sobel(gray, cv2.CV_64F, 0, 1, ksize=sobel_kernel)\n",
    "    # Take the absolute value of the gradient direction, \n",
    "    # apply a threshold, and create a binary image result\n",
    "    absgraddir = np.arctan2(np.absolute(sobely), np.absolute(sobelx))\n",
    "    dir_binary =  np.zeros_like(absgraddir)\n",
    "    dir_binary[(absgraddir >= thresh[0]) & (absgraddir <= thresh[1])] = 1\n",
    "\n",
    "    # Return the binary image\n",
    "    return dir_binary\n",
    "\n",
    "def process_grad_thresholds(image):\n",
    "    # Choose a Sobel kernel size\n",
    "    ksize = 9 # Choose a larger odd number to smooth gradient measurements\n",
    "\n",
    "    # Apply each of the thresholding functions\n",
    "    gradx = abs_sobel_thresh(image, orient='x', sobel_kernel=ksize, thresh=(30, 255))\n",
    "    grady = abs_sobel_thresh(image, orient='y', sobel_kernel=ksize, thresh=(20, 100))\n",
    "    mag_binary = mag_thresh(image, sobel_kernel=15, mag_thresh=(30, 255))\n",
    "    dir_binary = dir_threshold(image, sobel_kernel=15, thresh=(0.7, 1.3))\n",
    "\n",
    "    combined1 = np.zeros_like(dir_binary)\n",
    "    combined2 = np.zeros_like(dir_binary)\n",
    "    combined3 = np.zeros_like(dir_binary)\n",
    "    combined1[(gradx == 1)] = 1\n",
    "    combined2[((mag_binary == 1) & (dir_binary == 1))] = 1\n",
    "    combined3 = cv2.bitwise_or(combined1, combined2)\n",
    "    #combined = np.uint8(np.rint(combined3*255))\n",
    "    result = gradx\n",
    "    \n",
    "#    show(gradx,0)\n",
    "#    show(grady,0)\n",
    "#   show(mag_binary,0)\n",
    "#    show(dir_binary,0)\n",
    "#    show(combined,0)\n",
    "\n",
    "    image_poly = np.copy(image)\n",
    "    mask_poly = np.zeros_like(gradx)\n",
    "    cut_y, vertices_poly = region_masking_vertices(image.shape)\n",
    "    vertices_poly = np.int32(vertices_poly)\n",
    "    cv2.fillPoly(mask_poly, vertices_poly, 1)\n",
    "    image_poly[mask_poly == 0,:] = [0, 0, 0]\n",
    "    image_poly = cv2.addWeighted(image_poly,0.5,image,0.5,1)\n",
    "\n",
    "    row1 = np.concatenate((image_poly,cv2.cvtColor(gradx*255,cv2.COLOR_GRAY2BGR)),axis=1)\n",
    "    row2 = np.concatenate((mag_binary,dir_binary),axis=1)\n",
    "    row2 = np.uint8(np.rint(row2*255))\n",
    "    row2 = cv2.cvtColor(row2,cv2.COLOR_GRAY2BGR)\n",
    "    row3 = np.concatenate((combined2,result),axis=1)\n",
    "    row3 = np.uint8(np.rint(row3*255))\n",
    "    row3 = cv2.cvtColor(row3,cv2.COLOR_GRAY2BGR)\n",
    "    processed_analyse = np.concatenate((row1,row2,row3),axis=0)\n",
    "    \n",
    "#    show(processed_analyse)\n",
    "    return processed_analyse, result\n",
    "\n",
    "def color_thresh(img, s_thresh=(170, 255), l_thresh=(170, 255)):\n",
    "    img = np.copy(img)\n",
    "    # Convert to HLS color space and separate the V channel\n",
    "    hls = cv2.cvtColor(img, cv2.COLOR_RGB2HLS)\n",
    "    l_channel = hls[:,:,1]\n",
    "    s_channel = hls[:,:,2]\n",
    "        \n",
    "    # Threshold color channel\n",
    "    s_binary = np.zeros_like(s_channel)\n",
    "    s_binary[(s_channel >= s_thresh[0]) & (s_channel <= s_thresh[1])] = 1\n",
    "\n",
    "    l_binary = np.zeros_like(l_channel)\n",
    "    l_binary[(l_channel >= l_thresh[0]) & (l_channel <= l_thresh[1])] = 1\n",
    "    return s_binary, l_binary\n",
    "\n",
    "def combine_grad_color_thresh(img):\n",
    "    analyse_grad,grad_binary=process_grad_thresholds(img)\n",
    "    s_binary, l_binary = color_thresh(img)\n",
    "    \n",
    "    rgb_combined = np.dstack(( np.zeros_like(grad_binary), grad_binary, s_binary)) * 255\n",
    "    binary_combined = np.zeros_like(grad_binary)\n",
    "    binary_combined[(grad_binary == 1) | (s_binary == 1)] = 1\n",
    "    \n",
    "    s_rgb = np.dstack((s_binary,s_binary,s_binary))*255\n",
    "    l_rgb = np.dstack((l_binary,l_binary,l_binary))*255\n",
    "    column = np.concatenate((s_rgb,rgb_combined),axis=1)\n",
    "    analyse_grad_color = np.concatenate((analyse_grad,column),axis=0)\n",
    "    return binary_combined, rgb_combined, analyse_grad_color\n",
    "\n",
    "def region_masking_vertices(imshape):\n",
    "    cut_y = 60\n",
    "    cut_b_trapezoid = 100\n",
    "    h_mod = imshape[0]*0.95-cut_y\n",
    "    h_trapezoid = h_mod*0.43\n",
    "    a_trapezoid = (imshape[1]-2*cut_b_trapezoid)*(h_mod/2-h_trapezoid)/(h_mod/2)\n",
    "    vertices_mask= np.array([[(cut_b_trapezoid,imshape[0]-cut_y),(imshape[1]/2-a_trapezoid/2, imshape[0]-h_trapezoid), (imshape[1]/2+a_trapezoid/2, imshape[0]-h_trapezoid), (imshape[1]-cut_b_trapezoid,imshape[0]-cut_y)]], dtype=np.float32)\n",
    "    vertices_mask = np.rint(vertices_mask)\n",
    "    return cut_y, vertices_mask\n",
    "\n",
    "def process_perspective(image):\n",
    "    # to get an image from the top view perspective\n",
    "    imshape = image.shape\n",
    "\n",
    "    cut_y, vertices_mask = region_masking_vertices(imshape)\n",
    "    \n",
    "    h_new = imshape[0]*4\n",
    "    w_new = imshape[1]*1\n",
    "    vertices_dst= np.array([[(0,h_new),(0,0), (w_new, 0), (w_new,h_new)]], dtype=np.float32)\n",
    "    \n",
    "    matrix_transform = cv2.getPerspectiveTransform(vertices_mask,vertices_dst)\n",
    "    image_dst = cv2.warpPerspective(image,matrix_transform,(w_new,h_new),flags=cv2.INTER_LINEAR)\n",
    "\n",
    "    matrix_transform_back = cv2.getPerspectiveTransform(vertices_dst,vertices_mask)\n",
    "\n",
    "    return image_dst, matrix_transform_back\n",
    "\n",
    "def find_lane_pixels(binary_warped):\n",
    "    # Take a histogram of the bottom half of the image\n",
    "    histogram = np.sum(binary_warped[binary_warped.shape[0]//2:,:], axis=0)\n",
    "    # Create an output image to draw on and visualize the result\n",
    "    out_img = np.dstack((binary_warped, binary_warped, binary_warped))\n",
    "    # Find the peak of the left and right halves of the histogram\n",
    "    # These will be the starting point for the left and right lines\n",
    "    midpoint = np.int(histogram.shape[0]//2)\n",
    "    leftx_base = np.argmax(histogram[:midpoint])\n",
    "    rightx_base = np.argmax(histogram[midpoint:]) + midpoint\n",
    "\n",
    "    # HYPERPARAMETERS\n",
    "    # Choose the number of sliding windows\n",
    "    nwindows = 9\n",
    "    # Set the width of the windows +/- margin\n",
    "    margin = 100\n",
    "    # Set minimum number of pixels found to recenter window\n",
    "    minpix = 50\n",
    "\n",
    "    # Set height of windows - based on nwindows above and image shape\n",
    "    window_height = np.int(binary_warped.shape[0]//nwindows)\n",
    "    # Identify the x and y positions of all nonzero pixels in the image\n",
    "    nonzero = binary_warped.nonzero()\n",
    "    nonzeroy = np.array(nonzero[0])\n",
    "    nonzerox = np.array(nonzero[1])\n",
    "    # Current positions to be updated later for each window in nwindows\n",
    "    leftx_current = leftx_base\n",
    "    rightx_current = rightx_base\n",
    "\n",
    "    # Create empty lists to receive left and right lane pixel indices\n",
    "    left_lane_inds = []\n",
    "    right_lane_inds = []\n",
    "\n",
    "    # Step through the windows one by one\n",
    "    for window in range(nwindows):\n",
    "        # Identify window boundaries in x and y (and right and left)\n",
    "        win_y_low = binary_warped.shape[0] - (window+1)*window_height\n",
    "        win_y_high = binary_warped.shape[0] - window*window_height\n",
    "        win_xleft_low = leftx_current - margin\n",
    "        win_xleft_high = leftx_current + margin\n",
    "        win_xright_low = rightx_current - margin\n",
    "        win_xright_high = rightx_current + margin\n",
    "        \n",
    "        # Draw the windows on the visualization image\n",
    "        cv2.rectangle(out_img,(win_xleft_low,win_y_low),\n",
    "        (win_xleft_high,win_y_high),(0,255,0), 2) \n",
    "        cv2.rectangle(out_img,(win_xright_low,win_y_low),\n",
    "        (win_xright_high,win_y_high),(0,255,0), 2) \n",
    "        \n",
    "        # Identify the nonzero pixels in x and y within the window #\n",
    "        good_left_inds = ((nonzeroy >= win_y_low) & (nonzeroy < win_y_high) & \n",
    "        (nonzerox >= win_xleft_low) &  (nonzerox < win_xleft_high)).nonzero()[0]\n",
    "        good_right_inds = ((nonzeroy >= win_y_low) & (nonzeroy < win_y_high) & \n",
    "        (nonzerox >= win_xright_low) &  (nonzerox < win_xright_high)).nonzero()[0]\n",
    "        \n",
    "        # Append these indices to the lists\n",
    "        left_lane_inds.append(good_left_inds)\n",
    "        right_lane_inds.append(good_right_inds)\n",
    "        \n",
    "        # If you found > minpix pixels, recenter next window on their mean position\n",
    "        if len(good_left_inds) > minpix:\n",
    "            leftx_current = np.int(np.mean(nonzerox[good_left_inds]))\n",
    "        if len(good_right_inds) > minpix:        \n",
    "            rightx_current = np.int(np.mean(nonzerox[good_right_inds]))\n",
    "\n",
    "    # Concatenate the arrays of indices (previously was a list of lists of pixels)\n",
    "    try:\n",
    "        left_lane_inds = np.concatenate(left_lane_inds)\n",
    "        right_lane_inds = np.concatenate(right_lane_inds)\n",
    "    except ValueError:\n",
    "        # Avoids an error if the above is not implemented fully\n",
    "        pass\n",
    "\n",
    "    # Extract left and right line pixel positions\n",
    "    leftx = nonzerox[left_lane_inds]\n",
    "    lefty = nonzeroy[left_lane_inds] \n",
    "    rightx = nonzerox[right_lane_inds]\n",
    "    righty = nonzeroy[right_lane_inds]\n",
    "\n",
    "    return leftx, lefty, rightx, righty, out_img\n",
    "\n",
    "\n",
    "def fit_polynomial(binary_warped):\n",
    "    # Find our lane pixels first\n",
    "    leftx, lefty, rightx, righty, out_img = find_lane_pixels(binary_warped)\n",
    "    # Fit a second order polynomial to each using `np.polyfit`\n",
    "    left_fit = np.polyfit(lefty, leftx, 2)\n",
    "    right_fit = np.polyfit(righty, rightx, 2)\n",
    "\n",
    "    # Generate x and y values for plotting\n",
    "    ploty = np.linspace(0, binary_warped.shape[0]-1, binary_warped.shape[0] )\n",
    "    try:\n",
    "        left_fitx = left_fit[0]*ploty**2 + left_fit[1]*ploty + left_fit[2]\n",
    "        right_fitx = right_fit[0]*ploty**2 + right_fit[1]*ploty + right_fit[2]\n",
    "    except TypeError:\n",
    "        # Avoids an error if `left` and `right_fit` are still none or incorrect\n",
    "        print('The function failed to fit a line!')\n",
    "        left_fitx = 0*ploty**2 + 1*ploty\n",
    "        right_fitx = 0*ploty**2 + 1*ploty\n",
    "\n",
    "    ## Visualization ##\n",
    "    # Colors in the left and right lane regions\n",
    "    out_img[lefty, leftx] = [255, 0, 0]\n",
    "    out_img[righty, rightx] = [0, 0, 255]\n",
    "\n",
    "    # Plots the left and right polynomials on the lane lines\n",
    "    idx_inscope_left_fitx = (left_fitx >= 0) & (left_fitx < (binary_warped.shape[1]-0.5))\n",
    "    idx_inscope_right_fitx = (right_fitx >= 0) & (right_fitx < (binary_warped.shape[1]-0.5))\n",
    "    # converts float arrays to integer arrays\n",
    "    ploty = np.rint(ploty).astype(int)\n",
    "    left_fitx = np.rint(left_fitx).astype(int)\n",
    "    right_fitx = np.rint(right_fitx).astype(int)\n",
    "    #prin(np.max(right_fitx[idx_inscope_right_fitx]))\n",
    "   # show(binary_warped)\n",
    "    \n",
    "    out_img[ploty[idx_inscope_left_fitx], left_fitx[idx_inscope_left_fitx]] = [255, 255, 255]\n",
    "    out_img[ploty[idx_inscope_right_fitx], right_fitx[idx_inscope_right_fitx]] = [255, 255, 255]\n",
    "    #plt.plot(left_fitx, ploty, color='yellow')\n",
    "    #plt.plot(right_fitx, ploty, color='yellow')\n",
    "\n",
    "    # Define conversions in x and y from pixels space to meters\n",
    "    yscale = 30/2880 # meters per pixel in y dimension\n",
    "    xscale = 3.7/800 # meters per pixel in x dimension\n",
    "    afactor = xscale/yscale**2\n",
    "    bfactor = xscale/yscale\n",
    "    aleftscaled = left_fit[0]*afactor\n",
    "    bleftscaled = left_fit[1]*bfactor\n",
    "    arightscaled = right_fit[0]*afactor\n",
    "    brightscaled = right_fit[1]*bfactor\n",
    "    \n",
    "    # Define y-value where we want radius of curvature\n",
    "    # We'll choose the maximum y-value, corresponding to the bottom of the image\n",
    "    y_eval_scaled = np.max(ploty)*yscale\n",
    "    \n",
    "    # Calculation of R_curve (radius of curvature)\n",
    "    left_curverad = ((1 + (2*aleftscaled*y_eval_scaled + bleftscaled)**2)**1.5) / np.absolute(2*aleftscaled)\n",
    "    right_curverad = ((1 + (2*arightscaled*y_eval_scaled + brightscaled)**2)**1.5) / np.absolute(2*arightscaled)\n",
    "    print(left_curverad,'m', right_curverad,'m')\n",
    "   \n",
    "    return out_img#,left_curverad,right_curverad\n",
    "\n",
    "# Define a class to receive the characteristics of each line detection\n",
    "class Line():\n",
    "    def __init__(self):\n",
    "        # was the line detected in the last iteration?\n",
    "        self.detected = False  \n",
    "        # x values of the last n fits of the line\n",
    "        self.recent_xfitted = [] \n",
    "        #average x values of the fitted line over the last n iterations\n",
    "        self.bestx = None     \n",
    "        #polynomial coefficients averaged over the last n iterations\n",
    "        self.best_fit = None  \n",
    "        #polynomial coefficients for the most recent fit\n",
    "        self.current_fit = [np.array([False])]  \n",
    "        #radius of curvature of the line in some units\n",
    "        self.radius_of_curvature = None \n",
    "        #distance in meters of vehicle center from the line\n",
    "        self.line_base_pos = None \n",
    "        #difference in fit coefficients between last and new fits\n",
    "        self.diffs = np.array([0,0,0], dtype='float') \n",
    "        #x values for detected line pixels\n",
    "        self.allx = None  \n",
    "        #y values for detected line pixels\n",
    "        self.ally = None  \n",
    "\n",
    "images = glob.glob('output_images/undist*.jpg')\n",
    "for idx,fname in enumerate(images):\n",
    "    img = cv2.imread(fname)\n",
    "    binary_combined, rgb_combined, analyse_grad_color = combine_grad_color_thresh(img)\n",
    "    processed_analyse, matrix_transform_back = process_perspective(binary_combined)\n",
    "    perspec_rgb, matrix_transform_back = process_perspective(rgb_combined)\n",
    "    #show(processed_perspective)\n",
    "    left_lane = Line()\n",
    "    right_lane = Line()\n",
    "    out_img = fit_polynomial(processed_analyse)\n",
    "    #column = cv2.addWeighted(np.float64(out_img), 0.5, perspec_rgb, 0.5, 0)\n",
    "    analyse_overall = np.concatenate((analyse_grad_color,perspec_rgb,out_img),axis=1)\n",
    "    \n",
    "    cv2.imwrite('output_images/sliding_histo'+str(idx)+'.jpg',out_img)\n",
    "    cv2.imwrite('output_images/analyse_overall'+str(idx)+'.jpg',analyse_overall)\n",
    "    #show(out_img)\n"
   ]
  },
  {
   "cell_type": "code",
   "execution_count": null,
   "metadata": {},
   "outputs": [],
   "source": [
    "import cv2\n",
    "import numpy as np\n",
    "import matplotlib.image as mpimg\n",
    "import matplotlib.pyplot as plt\n",
    "\n",
    "# Load our image - this should be a new frame since last time!\n",
    "binary_warped = mpimg.imread('warped_example.jpg')\n",
    "\n",
    "# Polynomial fit values from the previous frame\n",
    "# Make sure to grab the actual values from the previous step in your project!\n",
    "left_fit = np.array([ 2.13935315e-04, -3.77507980e-01,  4.76902175e+02])\n",
    "right_fit = np.array([4.17622148e-04, -4.93848953e-01,  1.11806170e+03])\n",
    "\n",
    "def fit_poly(img_shape, leftx, lefty, rightx, righty):\n",
    "     ### TO-DO: Fit a second order polynomial to each with np.polyfit() ###\n",
    "    left_fit = np.polyfit(lefty, leftx, 2)\n",
    "    right_fit = np.polyfit(righty, rightx, 2)\n",
    "    # Generate x and y values for plotting\n",
    "    ploty = np.linspace(0, img_shape[0]-1, img_shape[0])\n",
    "    ### TO-DO: Calc both polynomials using ploty, left_fit and right_fit ###\n",
    "    left_fitx = left_fit[0]*ploty**2 + left_fit[1]*ploty + left_fit[2]\n",
    "    right_fitx = right_fit[0]*ploty**2 + right_fit[1]*ploty + right_fit[2]\n",
    "    \n",
    "    return left_fitx, right_fitx, ploty\n",
    "\n",
    "def search_around_poly(binary_warped):\n",
    "    # HYPERPARAMETER\n",
    "    # Choose the width of the margin around the previous polynomial to search\n",
    "    # The quiz grader expects 100 here, but feel free to tune on your own!\n",
    "    margin = 100\n",
    "\n",
    "    # Grab activated pixels\n",
    "    nonzero = binary_warped.nonzero()\n",
    "    nonzeroy = np.array(nonzero[0])\n",
    "    nonzerox = np.array(nonzero[1])\n",
    "    \n",
    "    ### TO-DO: Set the area of search based on activated x-values ###\n",
    "    ### within the +/- margin of our polynomial function ###\n",
    "    ### Hint: consider the window areas for the similarly named variables ###\n",
    "    ### in the previous quiz, but change the windows to our new search area ###\n",
    "    left_lane_inds = ((nonzerox > (left_fit[0]*(nonzeroy**2) + left_fit[1]*nonzeroy + \n",
    "                    left_fit[2] - margin)) & (nonzerox < (left_fit[0]*(nonzeroy**2) + \n",
    "                    left_fit[1]*nonzeroy + left_fit[2] + margin)))\n",
    "    right_lane_inds = ((nonzerox > (right_fit[0]*(nonzeroy**2) + right_fit[1]*nonzeroy + \n",
    "                    right_fit[2] - margin)) & (nonzerox < (right_fit[0]*(nonzeroy**2) + \n",
    "                    right_fit[1]*nonzeroy + right_fit[2] + margin)))\n",
    "    \n",
    "    # Again, extract left and right line pixel positions\n",
    "    leftx = nonzerox[left_lane_inds]\n",
    "    lefty = nonzeroy[left_lane_inds] \n",
    "    rightx = nonzerox[right_lane_inds]\n",
    "    righty = nonzeroy[right_lane_inds]\n",
    "\n",
    "    # Fit new polynomials\n",
    "    left_fitx, right_fitx, ploty = fit_poly(binary_warped.shape, leftx, lefty, rightx, righty)\n",
    "    \n",
    "    ## Visualization ##\n",
    "    # Create an image to draw on and an image to show the selection window\n",
    "    out_img = np.dstack((binary_warped, binary_warped, binary_warped))*255\n",
    "    window_img = np.zeros_like(out_img)\n",
    "    # Color in left and right line pixels\n",
    "    out_img[nonzeroy[left_lane_inds], nonzerox[left_lane_inds]] = [255, 0, 0]\n",
    "    out_img[nonzeroy[right_lane_inds], nonzerox[right_lane_inds]] = [0, 0, 255]\n",
    "\n",
    "    # Generate a polygon to illustrate the search window area\n",
    "    # And recast the x and y points into usable format for cv2.fillPoly()\n",
    "    left_line_window1 = np.array([np.transpose(np.vstack([left_fitx-margin, ploty]))])\n",
    "    left_line_window2 = np.array([np.flipud(np.transpose(np.vstack([left_fitx+margin, \n",
    "                              ploty])))])\n",
    "    left_line_pts = np.hstack((left_line_window1, left_line_window2))\n",
    "    right_line_window1 = np.array([np.transpose(np.vstack([right_fitx-margin, ploty]))])\n",
    "    right_line_window2 = np.array([np.flipud(np.transpose(np.vstack([right_fitx+margin, \n",
    "                              ploty])))])\n",
    "    right_line_pts = np.hstack((right_line_window1, right_line_window2))\n",
    "\n",
    "    # Draw the lane onto the warped blank image\n",
    "    cv2.fillPoly(window_img, np.int_([left_line_pts]), (0,255, 0))\n",
    "    cv2.fillPoly(window_img, np.int_([right_line_pts]), (0,255, 0))\n",
    "    result = cv2.addWeighted(out_img, 1, window_img, 0.3, 0)\n",
    "    \n",
    "    # Plot the polynomial lines onto the image\n",
    "    plt.plot(left_fitx, ploty, color='yellow')\n",
    "    plt.plot(right_fitx, ploty, color='yellow')\n",
    "    ## End visualization steps ##\n",
    "    \n",
    "    return result\n",
    "\n",
    "# Run image through the pipeline\n",
    "# Note that in your project, you'll also want to feed in the previous fits\n",
    "result = search_around_poly(binary_warped)\n",
    "\n",
    "# View your output\n",
    "plt.imshow(result)\n",
    "\n",
    "\n",
    "Sanity Check\n",
    "Ok, so your algorithm found some lines. Before moving on, you should check that the detection makes sense. To confirm that your detected lane lines are real, you might consider:\n",
    "\n",
    "Checking that they have similar curvature\n",
    "Checking that they are separated by approximately the right distance horizontally\n",
    "Checking that they are roughly parallel\n",
    "\n",
    "Look-Ahead Filter\n",
    "\n",
    "Reset\n",
    "\n",
    "Smoothing\n",
    "\n",
    "Drawing"
   ]
  },
  {
   "cell_type": "code",
   "execution_count": 26,
   "metadata": {
    "scrolled": true
   },
   "outputs": [
    {
     "name": "stdout",
     "output_type": "stream",
     "text": [
      "[[[ 100  660]\n",
      "  [ 564  452]\n",
      "  [ 716  452]\n",
      "  [1180  660]]]\n",
      "89.7580284999 m 167.649925376 m\n"
     ]
    },
    {
     "name": "stderr",
     "output_type": "stream",
     "text": [
      "                                                              \n",
      "t:   2%|▏         | 20/1260 [3:49:42<13:39,  1.51it/s, now=None]\n",
      "                                                                \u001b[A\n",
      "t:   2%|▏         | 20/1260 [3:49:42<13:39,  1.51it/s, now=None]\n",
      "t:   1%|          | 15/1260 [3:48:10<14:01,  1.48it/s, now=None]\u001b[A\n",
      "\n",
      "t:   0%|          | 0/485 [00:00<?, ?it/s, now=None]\u001b[A\u001b[A"
     ]
    },
    {
     "name": "stdout",
     "output_type": "stream",
     "text": [
      "Moviepy - Building video out_put_challenge_video.mp4.\n",
      "Moviepy - Writing video out_put_challenge_video.mp4\n",
      "\n",
      "[[[ 100  660]\n",
      "  [ 564  452]\n",
      "  [ 716  452]\n",
      "  [1180  660]]]\n",
      "89.7580284999 m 167.649925376 m\n"
     ]
    },
    {
     "name": "stderr",
     "output_type": "stream",
     "text": [
      "\n",
      "\n",
      "t:   0%|          | 2/485 [00:00<02:16,  3.54it/s, now=None]\u001b[A\u001b[A"
     ]
    },
    {
     "name": "stdout",
     "output_type": "stream",
     "text": [
      "[[[ 100  660]\n",
      "  [ 564  452]\n",
      "  [ 716  452]\n",
      "  [1180  660]]]\n",
      "81.2854453789 m 157.610963456 m\n"
     ]
    },
    {
     "name": "stderr",
     "output_type": "stream",
     "text": [
      "\n",
      "\n",
      "t:   1%|          | 3/485 [00:01<02:47,  2.88it/s, now=None]\u001b[A\u001b[A"
     ]
    },
    {
     "name": "stdout",
     "output_type": "stream",
     "text": [
      "[[[ 100  660]\n",
      "  [ 564  452]\n",
      "  [ 716  452]\n",
      "  [1180  660]]]\n",
      "96.4492299256 m 157.169713792 m\n"
     ]
    },
    {
     "name": "stderr",
     "output_type": "stream",
     "text": [
      "\n",
      "\n",
      "t:   1%|          | 4/485 [00:01<03:07,  2.57it/s, now=None]\u001b[A\u001b[A"
     ]
    },
    {
     "name": "stdout",
     "output_type": "stream",
     "text": [
      "[[[ 100  660]\n",
      "  [ 564  452]\n",
      "  [ 716  452]\n",
      "  [1180  660]]]\n",
      "949.287339042 m 157.172004718 m\n"
     ]
    },
    {
     "name": "stderr",
     "output_type": "stream",
     "text": [
      "\n",
      "\n",
      "t:   1%|          | 5/485 [00:02<03:23,  2.36it/s, now=None]\u001b[A\u001b[A"
     ]
    },
    {
     "name": "stdout",
     "output_type": "stream",
     "text": [
      "[[[ 100  660]\n",
      "  [ 564  452]\n",
      "  [ 716  452]\n",
      "  [1180  660]]]\n",
      "42.1718793938 m 165.089376751 m\n"
     ]
    },
    {
     "name": "stderr",
     "output_type": "stream",
     "text": [
      "\n",
      "\n",
      "t:   1%|          | 6/485 [00:02<03:31,  2.27it/s, now=None]\u001b[A\u001b[A"
     ]
    },
    {
     "name": "stdout",
     "output_type": "stream",
     "text": [
      "[[[ 100  660]\n",
      "  [ 564  452]\n",
      "  [ 716  452]\n",
      "  [1180  660]]]\n",
      "66.2289518695 m 164.362864577 m\n"
     ]
    },
    {
     "name": "stderr",
     "output_type": "stream",
     "text": [
      "\n",
      "\n",
      "t:   1%|▏         | 7/485 [00:03<03:38,  2.19it/s, now=None]\u001b[A\u001b[A"
     ]
    },
    {
     "name": "stdout",
     "output_type": "stream",
     "text": [
      "[[[ 100  660]\n",
      "  [ 564  452]\n",
      "  [ 716  452]\n",
      "  [1180  660]]]\n",
      "43.5920829072 m 211.79688692 m\n"
     ]
    },
    {
     "name": "stderr",
     "output_type": "stream",
     "text": [
      "\n",
      "\n",
      "t:   2%|▏         | 8/485 [00:03<03:43,  2.14it/s, now=None]\u001b[A\u001b[A"
     ]
    },
    {
     "name": "stdout",
     "output_type": "stream",
     "text": [
      "[[[ 100  660]\n",
      "  [ 564  452]\n",
      "  [ 716  452]\n",
      "  [1180  660]]]\n",
      "37.0543114788 m 182.149643266 m\n"
     ]
    },
    {
     "name": "stderr",
     "output_type": "stream",
     "text": [
      "\n",
      "\n",
      "t:   2%|▏         | 9/485 [00:04<03:48,  2.08it/s, now=None]\u001b[A\u001b[A\n",
      "\n",
      "t:   2%|▏         | 10/485 [00:04<03:47,  2.08it/s, now=None]"
     ]
    },
    {
     "name": "stdout",
     "output_type": "stream",
     "text": [
      "[[[ 100  660]\n",
      "  [ 564  452]\n",
      "  [ 716  452]\n",
      "  [1180  660]]]\n",
      "37.106640364 m 153.382327317 m\n"
     ]
    },
    {
     "name": "stderr",
     "output_type": "stream",
     "text": [
      "\u001b[A\u001b[A"
     ]
    },
    {
     "name": "stdout",
     "output_type": "stream",
     "text": [
      "[[[ 100  660]\n",
      "  [ 564  452]\n",
      "  [ 716  452]\n",
      "  [1180  660]]]\n",
      "43.4706592745 m 155.907736296 m\n"
     ]
    },
    {
     "name": "stderr",
     "output_type": "stream",
     "text": [
      "\n",
      "\n",
      "t:   2%|▏         | 11/485 [00:05<03:49,  2.07it/s, now=None]\u001b[A\u001b[A"
     ]
    },
    {
     "name": "stdout",
     "output_type": "stream",
     "text": [
      "[[[ 100  660]\n",
      "  [ 564  452]\n",
      "  [ 716  452]\n",
      "  [1180  660]]]\n",
      "49.8432373391 m 146.536578532 m\n"
     ]
    },
    {
     "name": "stderr",
     "output_type": "stream",
     "text": [
      "\n",
      "\n",
      "t:   2%|▏         | 12/485 [00:05<03:49,  2.06it/s, now=None]\u001b[A\u001b[A\n",
      "\n",
      "t:   3%|▎         | 13/485 [00:05<03:47,  2.07it/s, now=None]"
     ]
    },
    {
     "name": "stdout",
     "output_type": "stream",
     "text": [
      "[[[ 100  660]\n",
      "  [ 564  452]\n",
      "  [ 716  452]\n",
      "  [1180  660]]]\n",
      "58.2363734374 m 160.634466064 m\n"
     ]
    },
    {
     "name": "stderr",
     "output_type": "stream",
     "text": [
      "\u001b[A\u001b[A\n",
      "\n",
      "t:   3%|▎         | 14/485 [00:06<03:46,  2.08it/s, now=None]\u001b[A\u001b[A"
     ]
    },
    {
     "name": "stdout",
     "output_type": "stream",
     "text": [
      "[[[ 100  660]\n",
      "  [ 564  452]\n",
      "  [ 716  452]\n",
      "  [1180  660]]]\n",
      "98.1275646239 m 160.305945357 m\n"
     ]
    },
    {
     "name": "stderr",
     "output_type": "stream",
     "text": [
      "\n",
      "\n",
      "t:   3%|▎         | 15/485 [00:06<03:46,  2.07it/s, now=None]\u001b[A\u001b[A"
     ]
    },
    {
     "name": "stdout",
     "output_type": "stream",
     "text": [
      "[[[ 100  660]\n",
      "  [ 564  452]\n",
      "  [ 716  452]\n",
      "  [1180  660]]]\n",
      "280.145202637 m 162.915347994 m\n",
      "[[[ 100  660]\n",
      "  [ 564  452]\n",
      "  [ 716  452]\n",
      "  [1180  660]]]\n",
      "179.500689768 m 206.060134467 m\n"
     ]
    },
    {
     "name": "stderr",
     "output_type": "stream",
     "text": [
      "\n",
      "\n",
      "t:   3%|▎         | 16/485 [00:07<03:52,  2.02it/s, now=None]\u001b[A\u001b[A"
     ]
    },
    {
     "name": "stdout",
     "output_type": "stream",
     "text": [
      "[[[ 100  660]\n",
      "  [ 564  452]\n",
      "  [ 716  452]\n",
      "  [1180  660]]]\n",
      "93.2106502911 m 205.996860081 m\n"
     ]
    },
    {
     "name": "stderr",
     "output_type": "stream",
     "text": [
      "\n",
      "\n",
      "t:   4%|▎         | 17/485 [00:07<03:49,  2.04it/s, now=None]\u001b[A\u001b[A"
     ]
    },
    {
     "name": "stdout",
     "output_type": "stream",
     "text": [
      "[[[ 100  660]\n",
      "  [ 564  452]\n",
      "  [ 716  452]\n",
      "  [1180  660]]]\n",
      "95.5099798 m 210.852029995 m\n"
     ]
    },
    {
     "name": "stderr",
     "output_type": "stream",
     "text": [
      "\n",
      "\n",
      "t:   4%|▎         | 18/485 [00:08<03:49,  2.03it/s, now=None]\u001b[A\u001b[A\n",
      "\n",
      "t:   4%|▍         | 19/485 [00:08<03:46,  2.06it/s, now=None]"
     ]
    },
    {
     "name": "stdout",
     "output_type": "stream",
     "text": [
      "[[[ 100  660]\n",
      "  [ 564  452]\n",
      "  [ 716  452]\n",
      "  [1180  660]]]\n",
      "68.9769997275 m 343.486456112 m\n"
     ]
    },
    {
     "name": "stderr",
     "output_type": "stream",
     "text": [
      "\u001b[A\u001b[A\n",
      "\n"
     ]
    },
    {
     "name": "stdout",
     "output_type": "stream",
     "text": [
      "[[[ 100  660]\n",
      "  [ 564  452]\n",
      "  [ 716  452]\n",
      "  [1180  660]]]\n",
      "30.8803958624 m 197.42241657 m\n"
     ]
    },
    {
     "name": "stderr",
     "output_type": "stream",
     "text": [
      "t:   4%|▍         | 20/485 [00:09<03:45,  2.07it/s, now=None]\u001b[A\u001b[A\n",
      "\n",
      "t:   4%|▍         | 21/485 [00:09<03:45,  2.05it/s, now=None]"
     ]
    },
    {
     "name": "stdout",
     "output_type": "stream",
     "text": [
      "[[[ 100  660]\n",
      "  [ 564  452]\n",
      "  [ 716  452]\n",
      "  [1180  660]]]\n",
      "5322.02214792 m 3688.31922121 m\n"
     ]
    },
    {
     "name": "stderr",
     "output_type": "stream",
     "text": [
      "\u001b[A\u001b[A\n",
      "\n"
     ]
    },
    {
     "name": "stdout",
     "output_type": "stream",
     "text": [
      "[[[ 100  660]\n",
      "  [ 564  452]\n",
      "  [ 716  452]\n",
      "  [1180  660]]]\n",
      "40.1937818188 m 667.867868156 m\n"
     ]
    },
    {
     "name": "stderr",
     "output_type": "stream",
     "text": [
      "t:   5%|▍         | 22/485 [00:10<03:46,  2.05it/s, now=None]\u001b[A\u001b[A\n",
      "\n",
      "t:   5%|▍         | 23/485 [00:10<03:45,  2.04it/s, now=None]\u001b[A\u001b[A"
     ]
    },
    {
     "name": "stdout",
     "output_type": "stream",
     "text": [
      "[[[ 100  660]\n",
      "  [ 564  452]\n",
      "  [ 716  452]\n",
      "  [1180  660]]]\n",
      "13065.9056889 m 255.807127023 m\n",
      "[[[ 100  660]\n",
      "  [ 564  452]\n",
      "  [ 716  452]\n",
      "  [1180  660]]]\n",
      "993.029107946 m 173.336053361 m\n"
     ]
    },
    {
     "name": "stderr",
     "output_type": "stream",
     "text": [
      "\n",
      "\n",
      "t:   5%|▍         | 24/485 [00:11<03:44,  2.06it/s, now=None]\u001b[A\u001b[A\n",
      "\n",
      "t:   5%|▌         | 25/485 [00:11<03:42,  2.07it/s, now=None]\u001b[A\u001b[A"
     ]
    },
    {
     "name": "stdout",
     "output_type": "stream",
     "text": [
      "[[[ 100  660]\n",
      "  [ 564  452]\n",
      "  [ 716  452]\n",
      "  [1180  660]]]\n",
      "280.795735574 m 136.105580828 m\n"
     ]
    },
    {
     "name": "stderr",
     "output_type": "stream",
     "text": [
      "\n",
      "\n",
      "t:   5%|▌         | 26/485 [00:12<03:41,  2.07it/s, now=None]"
     ]
    },
    {
     "name": "stdout",
     "output_type": "stream",
     "text": [
      "[[[ 100  660]\n",
      "  [ 564  452]\n",
      "  [ 716  452]\n",
      "  [1180  660]]]\n",
      "274.02587729 m 140.621393355 m\n"
     ]
    },
    {
     "name": "stderr",
     "output_type": "stream",
     "text": [
      "\u001b[A\u001b[A\n",
      "\n",
      "t:   6%|▌         | 27/485 [00:12<03:43,  2.05it/s, now=None]"
     ]
    },
    {
     "name": "stdout",
     "output_type": "stream",
     "text": [
      "[[[ 100  660]\n",
      "  [ 564  452]\n",
      "  [ 716  452]\n",
      "  [1180  660]]]\n",
      "90.1911145475 m 344.092381544 m\n"
     ]
    },
    {
     "name": "stderr",
     "output_type": "stream",
     "text": [
      "\u001b[A\u001b[A\n",
      "\n",
      "t:   6%|▌         | 28/485 [00:13<03:41,  2.06it/s, now=None]\u001b[A\u001b[A"
     ]
    },
    {
     "name": "stdout",
     "output_type": "stream",
     "text": [
      "[[[ 100  660]\n",
      "  [ 564  452]\n",
      "  [ 716  452]\n",
      "  [1180  660]]]\n",
      "131.319062783 m 388.11586889 m\n"
     ]
    },
    {
     "name": "stderr",
     "output_type": "stream",
     "text": [
      "\n",
      "\n",
      "t:   6%|▌         | 29/485 [00:13<03:43,  2.04it/s, now=None]\u001b[A\u001b[A"
     ]
    },
    {
     "name": "stdout",
     "output_type": "stream",
     "text": [
      "[[[ 100  660]\n",
      "  [ 564  452]\n",
      "  [ 716  452]\n",
      "  [1180  660]]]\n",
      "106.444484526 m 495.10727039 m\n"
     ]
    },
    {
     "name": "stderr",
     "output_type": "stream",
     "text": [
      "\n",
      "\n",
      "t:   6%|▌         | 30/485 [00:14<03:43,  2.04it/s, now=None]\u001b[A\u001b[A"
     ]
    },
    {
     "name": "stdout",
     "output_type": "stream",
     "text": [
      "[[[ 100  660]\n",
      "  [ 564  452]\n",
      "  [ 716  452]\n",
      "  [1180  660]]]\n",
      "89.7745703846 m 383.636768928 m\n"
     ]
    },
    {
     "name": "stderr",
     "output_type": "stream",
     "text": [
      "\n",
      "\n",
      "t:   6%|▋         | 31/485 [00:14<03:40,  2.06it/s, now=None]"
     ]
    },
    {
     "name": "stdout",
     "output_type": "stream",
     "text": [
      "[[[ 100  660]\n",
      "  [ 564  452]\n",
      "  [ 716  452]\n",
      "  [1180  660]]]\n",
      "32.382039223 m 474.898100051 m\n"
     ]
    },
    {
     "name": "stderr",
     "output_type": "stream",
     "text": [
      "\u001b[A\u001b[A\n",
      "\n",
      "t:   7%|▋         | 32/485 [00:15<03:39,  2.06it/s, now=None]"
     ]
    },
    {
     "name": "stdout",
     "output_type": "stream",
     "text": [
      "[[[ 100  660]\n",
      "  [ 564  452]\n",
      "  [ 716  452]\n",
      "  [1180  660]]]\n",
      "67.1459820711 m 182.664551631 m\n"
     ]
    },
    {
     "name": "stderr",
     "output_type": "stream",
     "text": [
      "\u001b[A\u001b[A\n",
      "\n",
      "t:   7%|▋         | 33/485 [00:15<03:37,  2.08it/s, now=None]\u001b[A\u001b[A"
     ]
    },
    {
     "name": "stdout",
     "output_type": "stream",
     "text": [
      "[[[ 100  660]\n",
      "  [ 564  452]\n",
      "  [ 716  452]\n",
      "  [1180  660]]]\n",
      "78.7126159948 m 284.808010676 m\n"
     ]
    },
    {
     "name": "stderr",
     "output_type": "stream",
     "text": [
      "\n",
      "\n",
      "t:   7%|▋         | 34/485 [00:16<03:39,  2.05it/s, now=None]\u001b[A\u001b[A"
     ]
    },
    {
     "name": "stdout",
     "output_type": "stream",
     "text": [
      "[[[ 100  660]\n",
      "  [ 564  452]\n",
      "  [ 716  452]\n",
      "  [1180  660]]]\n",
      "90.5500823896 m 228.709688747 m\n"
     ]
    },
    {
     "name": "stderr",
     "output_type": "stream",
     "text": [
      "\n",
      "\n",
      "t:   7%|▋         | 35/485 [00:16<03:39,  2.05it/s, now=None]\u001b[A\u001b[A"
     ]
    },
    {
     "name": "stdout",
     "output_type": "stream",
     "text": [
      "[[[ 100  660]\n",
      "  [ 564  452]\n",
      "  [ 716  452]\n",
      "  [1180  660]]]\n",
      "95.6350569105 m 265.704830195 m\n"
     ]
    },
    {
     "name": "stderr",
     "output_type": "stream",
     "text": [
      "\n",
      "\n"
     ]
    },
    {
     "name": "stdout",
     "output_type": "stream",
     "text": [
      "[[[ 100  660]\n",
      "  [ 564  452]\n",
      "  [ 716  452]\n",
      "  [1180  660]]]\n",
      "228.39965801 m 224.162235543 m\n"
     ]
    },
    {
     "name": "stderr",
     "output_type": "stream",
     "text": [
      "t:   7%|▋         | 36/485 [00:17<03:39,  2.05it/s, now=None]\u001b[A\u001b[A\n",
      "\n",
      "t:   8%|▊         | 37/485 [00:17<03:36,  2.07it/s, now=None]\u001b[A\u001b[A"
     ]
    },
    {
     "name": "stdout",
     "output_type": "stream",
     "text": [
      "[[[ 100  660]\n",
      "  [ 564  452]\n",
      "  [ 716  452]\n",
      "  [1180  660]]]\n",
      "83.7028371244 m 221.705614957 m\n"
     ]
    },
    {
     "name": "stderr",
     "output_type": "stream",
     "text": [
      "\n",
      "\n",
      "t:   8%|▊         | 38/485 [00:18<03:35,  2.07it/s, now=None]\u001b[A\u001b[A"
     ]
    },
    {
     "name": "stdout",
     "output_type": "stream",
     "text": [
      "[[[ 100  660]\n",
      "  [ 564  452]\n",
      "  [ 716  452]\n",
      "  [1180  660]]]\n",
      "79.6753892375 m 122.278782559 m\n"
     ]
    },
    {
     "name": "stderr",
     "output_type": "stream",
     "text": [
      "\n",
      "\n",
      "t:   8%|▊         | 39/485 [00:18<03:35,  2.07it/s, now=None]\u001b[A\u001b[A"
     ]
    },
    {
     "name": "stdout",
     "output_type": "stream",
     "text": [
      "[[[ 100  660]\n",
      "  [ 564  452]\n",
      "  [ 716  452]\n",
      "  [1180  660]]]\n",
      "2942.10171796 m 131.201284567 m\n"
     ]
    },
    {
     "name": "stderr",
     "output_type": "stream",
     "text": [
      "\n",
      "\n",
      "t:   8%|▊         | 40/485 [00:19<03:33,  2.09it/s, now=None]\u001b[A\u001b[A"
     ]
    },
    {
     "name": "stdout",
     "output_type": "stream",
     "text": [
      "[[[ 100  660]\n",
      "  [ 564  452]\n",
      "  [ 716  452]\n",
      "  [1180  660]]]\n",
      "2372.6288512 m 224.499813457 m\n"
     ]
    },
    {
     "name": "stderr",
     "output_type": "stream",
     "text": [
      "\n",
      "\n",
      "t:   8%|▊         | 41/485 [00:19<03:31,  2.09it/s, now=None]\u001b[A\u001b[A"
     ]
    },
    {
     "name": "stdout",
     "output_type": "stream",
     "text": [
      "[[[ 100  660]\n",
      "  [ 564  452]\n",
      "  [ 716  452]\n",
      "  [1180  660]]]\n",
      "35.1395680687 m 107.477847982 m\n"
     ]
    },
    {
     "name": "stderr",
     "output_type": "stream",
     "text": [
      "\n",
      "\n",
      "t:   9%|▊         | 42/485 [00:20<03:32,  2.09it/s, now=None]\u001b[A\u001b[A"
     ]
    },
    {
     "name": "stdout",
     "output_type": "stream",
     "text": [
      "[[[ 100  660]\n",
      "  [ 564  452]\n",
      "  [ 716  452]\n",
      "  [1180  660]]]\n",
      "36.1265926537 m 361.627535811 m\n"
     ]
    },
    {
     "name": "stderr",
     "output_type": "stream",
     "text": [
      "\n",
      "\n",
      "t:   9%|▉         | 43/485 [00:20<03:31,  2.09it/s, now=None]\u001b[A\u001b[A"
     ]
    },
    {
     "name": "stdout",
     "output_type": "stream",
     "text": [
      "[[[ 100  660]\n",
      "  [ 564  452]\n",
      "  [ 716  452]\n",
      "  [1180  660]]]\n",
      "34.087084638 m 137.568028282 m\n",
      "[[[ 100  660]\n",
      "  [ 564  452]\n",
      "  [ 716  452]\n",
      "  [1180  660]]]\n",
      "34.372048159 m 1269.46661216 m\n"
     ]
    },
    {
     "name": "stderr",
     "output_type": "stream",
     "text": [
      "\n",
      "\n",
      "t:   9%|▉         | 44/485 [00:21<03:33,  2.06it/s, now=None]\u001b[A\u001b[A"
     ]
    },
    {
     "name": "stdout",
     "output_type": "stream",
     "text": [
      "[[[ 100  660]\n",
      "  [ 564  452]\n",
      "  [ 716  452]\n",
      "  [1180  660]]]\n",
      "34.5087924445 m 117.339338381 m\n"
     ]
    },
    {
     "name": "stderr",
     "output_type": "stream",
     "text": [
      "\n",
      "\n",
      "t:   9%|▉         | 45/485 [00:21<03:48,  1.93it/s, now=None]\u001b[A\u001b[A"
     ]
    },
    {
     "name": "stdout",
     "output_type": "stream",
     "text": [
      "[[[ 100  660]\n",
      "  [ 564  452]\n",
      "  [ 716  452]\n",
      "  [1180  660]]]\n",
      "122.045812864 m 314.134435688 m\n"
     ]
    },
    {
     "name": "stderr",
     "output_type": "stream",
     "text": [
      "\n",
      "\n",
      "t:   9%|▉         | 46/485 [00:22<03:52,  1.89it/s, now=None]\u001b[A\u001b[A"
     ]
    },
    {
     "name": "stdout",
     "output_type": "stream",
     "text": [
      "[[[ 100  660]\n",
      "  [ 564  452]\n",
      "  [ 716  452]\n",
      "  [1180  660]]]\n",
      "112.556933258 m 321.689947291 m\n"
     ]
    },
    {
     "name": "stderr",
     "output_type": "stream",
     "text": [
      "\n",
      "\n",
      "t:  10%|▉         | 47/485 [00:22<04:01,  1.82it/s, now=None]\u001b[A\u001b[A"
     ]
    },
    {
     "name": "stdout",
     "output_type": "stream",
     "text": [
      "[[[ 100  660]\n",
      "  [ 564  452]\n",
      "  [ 716  452]\n",
      "  [1180  660]]]\n",
      "121.479241796 m 128.945896373 m\n"
     ]
    },
    {
     "name": "stderr",
     "output_type": "stream",
     "text": [
      "\n",
      "\n",
      "t:  10%|▉         | 48/485 [00:25<07:50,  1.08s/it, now=None]\u001b[A\u001b[A"
     ]
    },
    {
     "name": "stdout",
     "output_type": "stream",
     "text": [
      "[[[ 100  660]\n",
      "  [ 564  452]\n",
      "  [ 716  452]\n",
      "  [1180  660]]]\n"
     ]
    },
    {
     "name": "stderr",
     "output_type": "stream",
     "text": [
      "\n",
      "\n",
      "t:  10%|█         | 49/485 [00:25<06:59,  1.04it/s, now=None]\u001b[A\u001b[A"
     ]
    },
    {
     "name": "stdout",
     "output_type": "stream",
     "text": [
      "35.4259159136 m 357.123687814 m\n",
      "[[[ 100  660]\n",
      "  [ 564  452]\n",
      "  [ 716  452]\n",
      "  [1180  660]]]\n",
      "34.5736533128 m 388.313554488 m\n"
     ]
    },
    {
     "name": "stderr",
     "output_type": "stream",
     "text": [
      "\n",
      "\n",
      "t:  10%|█         | 50/485 [00:26<06:06,  1.19it/s, now=None]\u001b[A\u001b[A"
     ]
    },
    {
     "name": "stdout",
     "output_type": "stream",
     "text": [
      "[[[ 100  660]\n",
      "  [ 564  452]\n",
      "  [ 716  452]\n",
      "  [1180  660]]]\n",
      "37.2768170688 m 121.879265447 m\n"
     ]
    },
    {
     "name": "stderr",
     "output_type": "stream",
     "text": [
      "\n",
      "\n",
      "t:  11%|█         | 51/485 [00:26<05:21,  1.35it/s, now=None]\u001b[A\u001b[A"
     ]
    },
    {
     "name": "stdout",
     "output_type": "stream",
     "text": [
      "[[[ 100  660]\n",
      "  [ 564  452]\n",
      "  [ 716  452]\n",
      "  [1180  660]]]\n",
      "98.5455023578 m 268.449684645 m\n"
     ]
    },
    {
     "name": "stderr",
     "output_type": "stream",
     "text": [
      "\n",
      "\n",
      "t:  11%|█         | 52/485 [00:27<04:50,  1.49it/s, now=None]\u001b[A\u001b[A"
     ]
    },
    {
     "name": "stdout",
     "output_type": "stream",
     "text": [
      "[[[ 100  660]\n",
      "  [ 564  452]\n",
      "  [ 716  452]\n",
      "  [1180  660]]]\n",
      "110.48862783 m 115.508620496 m\n"
     ]
    },
    {
     "name": "stderr",
     "output_type": "stream",
     "text": [
      "\n",
      "\n",
      "t:  11%|█         | 53/485 [00:27<04:41,  1.53it/s, now=None]\u001b[A\u001b[A"
     ]
    },
    {
     "name": "stdout",
     "output_type": "stream",
     "text": [
      "[[[ 100  660]\n",
      "  [ 564  452]\n",
      "  [ 716  452]\n",
      "  [1180  660]]]\n",
      "88.7849773564 m 119.332984086 m\n"
     ]
    },
    {
     "name": "stderr",
     "output_type": "stream",
     "text": [
      "\n",
      "\n",
      "t:  11%|█         | 54/485 [00:28<04:26,  1.62it/s, now=None]\u001b[A\u001b[A"
     ]
    },
    {
     "name": "stdout",
     "output_type": "stream",
     "text": [
      "[[[ 100  660]\n",
      "  [ 564  452]\n",
      "  [ 716  452]\n",
      "  [1180  660]]]\n",
      "105.991765624 m 123.812566624 m\n"
     ]
    },
    {
     "name": "stderr",
     "output_type": "stream",
     "text": [
      "\n",
      "\n",
      "t:  11%|█▏        | 55/485 [00:29<04:16,  1.68it/s, now=None]\u001b[A\u001b[A"
     ]
    },
    {
     "name": "stdout",
     "output_type": "stream",
     "text": [
      "[[[ 100  660]\n",
      "  [ 564  452]\n",
      "  [ 716  452]\n",
      "  [1180  660]]]\n",
      "104.865117297 m 123.131999243 m\n"
     ]
    },
    {
     "name": "stderr",
     "output_type": "stream",
     "text": [
      "\n",
      "\n",
      "t:  12%|█▏        | 56/485 [00:29<04:03,  1.76it/s, now=None]\u001b[A\u001b[A"
     ]
    },
    {
     "name": "stdout",
     "output_type": "stream",
     "text": [
      "[[[ 100  660]\n",
      "  [ 564  452]\n",
      "  [ 716  452]\n",
      "  [1180  660]]]\n",
      "89.9236594561 m 110.085800923 m\n"
     ]
    },
    {
     "name": "stderr",
     "output_type": "stream",
     "text": [
      "\n",
      "\n",
      "t:  12%|█▏        | 57/485 [00:30<04:01,  1.77it/s, now=None]\u001b[A\u001b[A"
     ]
    },
    {
     "name": "stdout",
     "output_type": "stream",
     "text": [
      "[[[ 100  660]\n",
      "  [ 564  452]\n",
      "  [ 716  452]\n",
      "  [1180  660]]]\n",
      "148.50565953 m 134.822985066 m\n"
     ]
    },
    {
     "name": "stderr",
     "output_type": "stream",
     "text": [
      "\n",
      "\n",
      "t:  12%|█▏        | 58/485 [00:30<04:04,  1.74it/s, now=None]\u001b[A\u001b[A"
     ]
    },
    {
     "name": "stdout",
     "output_type": "stream",
     "text": [
      "[[[ 100  660]\n",
      "  [ 564  452]\n",
      "  [ 716  452]\n",
      "  [1180  660]]]\n",
      "100.49020772 m 139.441140806 m\n"
     ]
    },
    {
     "name": "stderr",
     "output_type": "stream",
     "text": [
      "\n",
      "\n",
      "t:  12%|█▏        | 59/485 [00:31<03:57,  1.79it/s, now=None]\u001b[A\u001b[A"
     ]
    },
    {
     "name": "stdout",
     "output_type": "stream",
     "text": [
      "[[[ 100  660]\n",
      "  [ 564  452]\n",
      "  [ 716  452]\n",
      "  [1180  660]]]\n",
      "83.452383605 m 142.928395127 m\n"
     ]
    },
    {
     "name": "stderr",
     "output_type": "stream",
     "text": [
      "\n",
      "\n",
      "t:  12%|█▏        | 60/485 [00:31<03:52,  1.83it/s, now=None]\u001b[A\u001b[A"
     ]
    },
    {
     "name": "stdout",
     "output_type": "stream",
     "text": [
      "[[[ 100  660]\n",
      "  [ 564  452]\n",
      "  [ 716  452]\n",
      "  [1180  660]]]\n"
     ]
    },
    {
     "name": "stderr",
     "output_type": "stream",
     "text": [
      "\n",
      "\n",
      "t:  13%|█▎        | 61/485 [00:32<04:00,  1.77it/s, now=None]\u001b[A\u001b[A"
     ]
    },
    {
     "name": "stdout",
     "output_type": "stream",
     "text": [
      "150.955507447 m 143.072642153 m\n",
      "[[[ 100  660]\n",
      "  [ 564  452]\n",
      "  [ 716  452]\n",
      "  [1180  660]]]\n",
      "250.436819071 m 142.315843534 m\n"
     ]
    },
    {
     "name": "stderr",
     "output_type": "stream",
     "text": [
      "\n",
      "\n",
      "t:  13%|█▎        | 62/485 [00:32<03:55,  1.80it/s, now=None]\u001b[A\u001b[A"
     ]
    },
    {
     "name": "stdout",
     "output_type": "stream",
     "text": [
      "[[[ 100  660]\n",
      "  [ 564  452]\n",
      "  [ 716  452]\n",
      "  [1180  660]]]\n",
      "179.068690442 m 149.107635098 m\n"
     ]
    },
    {
     "name": "stderr",
     "output_type": "stream",
     "text": [
      "\n",
      "\n",
      "t:  13%|█▎        | 63/485 [00:33<03:50,  1.83it/s, now=None]\u001b[A\u001b[A"
     ]
    },
    {
     "name": "stdout",
     "output_type": "stream",
     "text": [
      "[[[ 100  660]\n",
      "  [ 564  452]\n",
      "  [ 716  452]\n",
      "  [1180  660]]]\n",
      "183.007616589 m 623.902031672 m\n"
     ]
    },
    {
     "name": "stderr",
     "output_type": "stream",
     "text": [
      "\n",
      "\n",
      "t:  13%|█▎        | 64/485 [00:33<03:52,  1.81it/s, now=None]\u001b[A\u001b[A"
     ]
    },
    {
     "name": "stdout",
     "output_type": "stream",
     "text": [
      "[[[ 100  660]\n",
      "  [ 564  452]\n",
      "  [ 716  452]\n",
      "  [1180  660]]]\n",
      "225.33309119 m 135.112019374 m\n"
     ]
    },
    {
     "name": "stderr",
     "output_type": "stream",
     "text": [
      "\n",
      "\n",
      "t:  13%|█▎        | 65/485 [00:34<03:52,  1.81it/s, now=None]\u001b[A\u001b[A"
     ]
    },
    {
     "name": "stdout",
     "output_type": "stream",
     "text": [
      "[[[ 100  660]\n",
      "  [ 564  452]\n",
      "  [ 716  452]\n",
      "  [1180  660]]]\n",
      "158.641024853 m 125.466345795 m\n"
     ]
    },
    {
     "name": "stderr",
     "output_type": "stream",
     "text": [
      "\n",
      "\n",
      "t:  14%|█▎        | 66/485 [00:35<03:49,  1.82it/s, now=None]\u001b[A\u001b[A"
     ]
    },
    {
     "name": "stdout",
     "output_type": "stream",
     "text": [
      "[[[ 100  660]\n",
      "  [ 564  452]\n",
      "  [ 716  452]\n",
      "  [1180  660]]]\n",
      "195.90643732 m 139.585898488 m\n"
     ]
    },
    {
     "name": "stderr",
     "output_type": "stream",
     "text": [
      "\n",
      "\n",
      "t:  14%|█▍        | 67/485 [00:35<03:46,  1.84it/s, now=None]\u001b[A\u001b[A"
     ]
    },
    {
     "name": "stdout",
     "output_type": "stream",
     "text": [
      "[[[ 100  660]\n",
      "  [ 564  452]\n",
      "  [ 716  452]\n",
      "  [1180  660]]]\n"
     ]
    },
    {
     "name": "stderr",
     "output_type": "stream",
     "text": [
      "\n",
      "\n",
      "t:  14%|█▍        | 68/485 [00:36<03:55,  1.77it/s, now=None]\u001b[A\u001b[A"
     ]
    },
    {
     "name": "stdout",
     "output_type": "stream",
     "text": [
      "286.629507801 m 114.009454969 m\n",
      "[[[ 100  660]\n",
      "  [ 564  452]\n",
      "  [ 716  452]\n",
      "  [1180  660]]]\n",
      "336.146261136 m 114.930164776 m\n"
     ]
    },
    {
     "name": "stderr",
     "output_type": "stream",
     "text": [
      "\n",
      "\n",
      "t:  14%|█▍        | 69/485 [00:36<03:53,  1.78it/s, now=None]\u001b[A\u001b[A"
     ]
    },
    {
     "name": "stdout",
     "output_type": "stream",
     "text": [
      "[[[ 100  660]\n",
      "  [ 564  452]\n",
      "  [ 716  452]\n",
      "  [1180  660]]]\n",
      "110.122934043 m 117.27647297 m\n"
     ]
    },
    {
     "name": "stderr",
     "output_type": "stream",
     "text": [
      "\n",
      "\n",
      "t:  14%|█▍        | 70/485 [00:37<03:47,  1.82it/s, now=None]\u001b[A\u001b[A"
     ]
    },
    {
     "name": "stdout",
     "output_type": "stream",
     "text": [
      "[[[ 100  660]\n",
      "  [ 564  452]\n",
      "  [ 716  452]\n",
      "  [1180  660]]]\n",
      "172.037806145 m 123.001741242 m\n"
     ]
    },
    {
     "name": "stderr",
     "output_type": "stream",
     "text": [
      "\n",
      "\n",
      "t:  15%|█▍        | 71/485 [00:37<03:40,  1.87it/s, now=None]\u001b[A\u001b[A"
     ]
    },
    {
     "name": "stdout",
     "output_type": "stream",
     "text": [
      "[[[ 100  660]\n",
      "  [ 564  452]\n",
      "  [ 716  452]\n",
      "  [1180  660]]]\n",
      "184.217432143 m 127.625696148 m\n"
     ]
    },
    {
     "name": "stderr",
     "output_type": "stream",
     "text": [
      "\n",
      "\n",
      "t:  15%|█▍        | 72/485 [00:38<03:49,  1.80it/s, now=None]\u001b[A\u001b[A"
     ]
    },
    {
     "name": "stdout",
     "output_type": "stream",
     "text": [
      "[[[ 100  660]\n",
      "  [ 564  452]\n",
      "  [ 716  452]\n",
      "  [1180  660]]]\n",
      "138.926615086 m 142.528823946 m\n"
     ]
    },
    {
     "name": "stderr",
     "output_type": "stream",
     "text": [
      "\n",
      "\n",
      "t:  15%|█▌        | 73/485 [00:38<03:48,  1.80it/s, now=None]\u001b[A\u001b[A"
     ]
    },
    {
     "name": "stdout",
     "output_type": "stream",
     "text": [
      "[[[ 100  660]\n",
      "  [ 564  452]\n",
      "  [ 716  452]\n",
      "  [1180  660]]]\n",
      "98.7822338183 m 145.693234257 m\n"
     ]
    },
    {
     "name": "stderr",
     "output_type": "stream",
     "text": [
      "\n",
      "\n",
      "t:  15%|█▌        | 74/485 [00:39<03:44,  1.83it/s, now=None]\u001b[A\u001b[A"
     ]
    },
    {
     "name": "stdout",
     "output_type": "stream",
     "text": [
      "[[[ 100  660]\n",
      "  [ 564  452]\n",
      "  [ 716  452]\n",
      "  [1180  660]]]\n",
      "118.822235993 m 164.749352445 m\n"
     ]
    },
    {
     "name": "stderr",
     "output_type": "stream",
     "text": [
      "\n",
      "\n",
      "t:  15%|█▌        | 75/485 [00:39<03:38,  1.88it/s, now=None]\u001b[A\u001b[A"
     ]
    },
    {
     "name": "stdout",
     "output_type": "stream",
     "text": [
      "[[[ 100  660]\n",
      "  [ 564  452]\n",
      "  [ 716  452]\n",
      "  [1180  660]]]\n",
      "117.816983932 m 166.87437017 m\n"
     ]
    },
    {
     "name": "stderr",
     "output_type": "stream",
     "text": [
      "\n",
      "\n",
      "t:  16%|█▌        | 76/485 [00:40<03:39,  1.86it/s, now=None]\u001b[A\u001b[A"
     ]
    },
    {
     "name": "stdout",
     "output_type": "stream",
     "text": [
      "[[[ 100  660]\n",
      "  [ 564  452]\n",
      "  [ 716  452]\n",
      "  [1180  660]]]\n",
      "125.570721021 m 172.84472782 m\n"
     ]
    },
    {
     "name": "stderr",
     "output_type": "stream",
     "text": [
      "\n",
      "\n",
      "t:  16%|█▌        | 77/485 [00:41<03:45,  1.81it/s, now=None]\u001b[A\u001b[A"
     ]
    },
    {
     "name": "stdout",
     "output_type": "stream",
     "text": [
      "[[[ 100  660]\n",
      "  [ 564  452]\n",
      "  [ 716  452]\n",
      "  [1180  660]]]\n",
      "1454.6462062 m 195.534308011 m\n"
     ]
    },
    {
     "name": "stderr",
     "output_type": "stream",
     "text": [
      "\n",
      "\n",
      "t:  16%|█▌        | 78/485 [00:41<03:39,  1.85it/s, now=None]\u001b[A\u001b[A"
     ]
    },
    {
     "name": "stdout",
     "output_type": "stream",
     "text": [
      "[[[ 100  660]\n",
      "  [ 564  452]\n",
      "  [ 716  452]\n",
      "  [1180  660]]]\n",
      "11159.4086716 m 118.479989555 m\n"
     ]
    },
    {
     "name": "stderr",
     "output_type": "stream",
     "text": [
      "\n",
      "\n",
      "t:  16%|█▋        | 79/485 [00:42<03:47,  1.78it/s, now=None]\u001b[A\u001b[A"
     ]
    },
    {
     "name": "stdout",
     "output_type": "stream",
     "text": [
      "[[[ 100  660]\n",
      "  [ 564  452]\n",
      "  [ 716  452]\n",
      "  [1180  660]]]\n",
      "240.574891321 m 200.673314203 m\n"
     ]
    },
    {
     "name": "stderr",
     "output_type": "stream",
     "text": [
      "\n",
      "\n",
      "t:  16%|█▋        | 80/485 [00:42<03:40,  1.83it/s, now=None]\u001b[A\u001b[A"
     ]
    },
    {
     "name": "stdout",
     "output_type": "stream",
     "text": [
      "[[[ 100  660]\n",
      "  [ 564  452]\n",
      "  [ 716  452]\n",
      "  [1180  660]]]\n",
      "145.345765639 m 225.281871563 m\n"
     ]
    },
    {
     "name": "stderr",
     "output_type": "stream",
     "text": [
      "\n",
      "\n",
      "t:  17%|█▋        | 81/485 [00:43<03:39,  1.84it/s, now=None]\u001b[A\u001b[A"
     ]
    },
    {
     "name": "stdout",
     "output_type": "stream",
     "text": [
      "[[[ 100  660]\n",
      "  [ 564  452]\n",
      "  [ 716  452]\n",
      "  [1180  660]]]\n",
      "143.738436798 m 254.328240854 m\n"
     ]
    },
    {
     "name": "stderr",
     "output_type": "stream",
     "text": [
      "\n",
      "\n",
      "t:  17%|█▋        | 82/485 [00:43<03:42,  1.81it/s, now=None]\u001b[A\u001b[A"
     ]
    },
    {
     "name": "stdout",
     "output_type": "stream",
     "text": [
      "[[[ 100  660]\n",
      "  [ 564  452]\n",
      "  [ 716  452]\n",
      "  [1180  660]]]\n",
      "958.958862693 m 422.196194098 m\n"
     ]
    },
    {
     "name": "stderr",
     "output_type": "stream",
     "text": [
      "\n",
      "\n",
      "t:  17%|█▋        | 83/485 [00:44<03:39,  1.83it/s, now=None]\u001b[A\u001b[A"
     ]
    },
    {
     "name": "stdout",
     "output_type": "stream",
     "text": [
      "[[[ 100  660]\n",
      "  [ 564  452]\n",
      "  [ 716  452]\n",
      "  [1180  660]]]\n",
      "421.436423488 m 477.654728833 m\n"
     ]
    },
    {
     "name": "stderr",
     "output_type": "stream",
     "text": [
      "\n",
      "\n",
      "t:  17%|█▋        | 84/485 [00:44<03:36,  1.85it/s, now=None]\u001b[A\u001b[A"
     ]
    },
    {
     "name": "stdout",
     "output_type": "stream",
     "text": [
      "[[[ 100  660]\n",
      "  [ 564  452]\n",
      "  [ 716  452]\n",
      "  [1180  660]]]\n",
      "225.55750879 m 60.3262483975 m\n"
     ]
    },
    {
     "name": "stderr",
     "output_type": "stream",
     "text": [
      "\n",
      "\n",
      "t:  18%|█▊        | 85/485 [00:45<03:31,  1.89it/s, now=None]\u001b[A\u001b[A"
     ]
    },
    {
     "name": "stdout",
     "output_type": "stream",
     "text": [
      "[[[ 100  660]\n",
      "  [ 564  452]\n",
      "  [ 716  452]\n",
      "  [1180  660]]]\n",
      "186.101648313 m 103.454939483 m\n"
     ]
    },
    {
     "name": "stderr",
     "output_type": "stream",
     "text": [
      "\n",
      "\n",
      "t:  18%|█▊        | 86/485 [00:45<03:35,  1.85it/s, now=None]\u001b[A\u001b[A"
     ]
    },
    {
     "name": "stdout",
     "output_type": "stream",
     "text": [
      "[[[ 100  660]\n",
      "  [ 564  452]\n",
      "  [ 716  452]\n",
      "  [1180  660]]]\n",
      "241.696303227 m 162.448656237 m\n"
     ]
    },
    {
     "name": "stderr",
     "output_type": "stream",
     "text": [
      "\n",
      "\n",
      "t:  18%|█▊        | 87/485 [00:46<03:31,  1.88it/s, now=None]\u001b[A\u001b[A"
     ]
    },
    {
     "name": "stdout",
     "output_type": "stream",
     "text": [
      "[[[ 100  660]\n",
      "  [ 564  452]\n",
      "  [ 716  452]\n",
      "  [1180  660]]]\n",
      "361.395794678 m 201.625179756 m\n"
     ]
    },
    {
     "name": "stderr",
     "output_type": "stream",
     "text": [
      "\n",
      "\n",
      "t:  18%|█▊        | 88/485 [00:46<03:28,  1.91it/s, now=None]\u001b[A\u001b[A"
     ]
    },
    {
     "name": "stdout",
     "output_type": "stream",
     "text": [
      "[[[ 100  660]\n",
      "  [ 564  452]\n",
      "  [ 716  452]\n",
      "  [1180  660]]]\n",
      "258.971067312 m 241.732829179 m\n"
     ]
    },
    {
     "name": "stderr",
     "output_type": "stream",
     "text": [
      "\n",
      "\n",
      "t:  18%|█▊        | 89/485 [00:47<03:34,  1.84it/s, now=None]\u001b[A\u001b[A"
     ]
    },
    {
     "name": "stdout",
     "output_type": "stream",
     "text": [
      "[[[ 100  660]\n",
      "  [ 564  452]\n",
      "  [ 716  452]\n",
      "  [1180  660]]]\n",
      "212.929220652 m 231.920207889 m\n"
     ]
    },
    {
     "name": "stderr",
     "output_type": "stream",
     "text": [
      "\n",
      "\n",
      "t:  19%|█▊        | 90/485 [00:48<03:31,  1.87it/s, now=None]\u001b[A\u001b[A"
     ]
    },
    {
     "name": "stdout",
     "output_type": "stream",
     "text": [
      "[[[ 100  660]\n",
      "  [ 564  452]\n",
      "  [ 716  452]\n",
      "  [1180  660]]]\n",
      "234.024590609 m 260.536756517 m\n"
     ]
    },
    {
     "name": "stderr",
     "output_type": "stream",
     "text": [
      "\n",
      "\n",
      "t:  19%|█▉        | 91/485 [00:48<03:39,  1.79it/s, now=None]\u001b[A\u001b[A"
     ]
    },
    {
     "name": "stdout",
     "output_type": "stream",
     "text": [
      "[[[ 100  660]\n",
      "  [ 564  452]\n",
      "  [ 716  452]\n",
      "  [1180  660]]]\n",
      "298.313501331 m 305.856669566 m\n"
     ]
    },
    {
     "name": "stderr",
     "output_type": "stream",
     "text": [
      "\n",
      "\n",
      "t:  19%|█▉        | 92/485 [00:49<03:34,  1.83it/s, now=None]\u001b[A\u001b[A"
     ]
    },
    {
     "name": "stdout",
     "output_type": "stream",
     "text": [
      "[[[ 100  660]\n",
      "  [ 564  452]\n",
      "  [ 716  452]\n",
      "  [1180  660]]]\n",
      "274.409722166 m 257.675978344 m\n"
     ]
    },
    {
     "name": "stderr",
     "output_type": "stream",
     "text": [
      "\n",
      "\n",
      "t:  19%|█▉        | 93/485 [00:49<03:33,  1.84it/s, now=None]\u001b[A\u001b[A"
     ]
    },
    {
     "name": "stdout",
     "output_type": "stream",
     "text": [
      "[[[ 100  660]\n",
      "  [ 564  452]\n",
      "  [ 716  452]\n",
      "  [1180  660]]]\n",
      "326.286470762 m 290.01433869 m\n"
     ]
    },
    {
     "name": "stderr",
     "output_type": "stream",
     "text": [
      "\n",
      "\n",
      "t:  19%|█▉        | 94/485 [00:50<03:33,  1.84it/s, now=None]\u001b[A\u001b[A"
     ]
    },
    {
     "name": "stdout",
     "output_type": "stream",
     "text": [
      "[[[ 100  660]\n",
      "  [ 564  452]\n",
      "  [ 716  452]\n",
      "  [1180  660]]]\n",
      "252.073873288 m 296.6828851 m\n"
     ]
    },
    {
     "name": "stderr",
     "output_type": "stream",
     "text": [
      "\n",
      "\n",
      "t:  20%|█▉        | 95/485 [00:50<03:26,  1.88it/s, now=None]\u001b[A\u001b[A"
     ]
    },
    {
     "name": "stdout",
     "output_type": "stream",
     "text": [
      "[[[ 100  660]\n",
      "  [ 564  452]\n",
      "  [ 716  452]\n",
      "  [1180  660]]]\n",
      "245.883611707 m 234.329969692 m\n"
     ]
    },
    {
     "name": "stderr",
     "output_type": "stream",
     "text": [
      "\n",
      "\n",
      "t:  20%|█▉        | 96/485 [00:51<03:25,  1.89it/s, now=None]\u001b[A\u001b[A"
     ]
    },
    {
     "name": "stdout",
     "output_type": "stream",
     "text": [
      "[[[ 100  660]\n",
      "  [ 564  452]\n",
      "  [ 716  452]\n",
      "  [1180  660]]]\n",
      "123.438883912 m 244.899963908 m\n"
     ]
    },
    {
     "name": "stderr",
     "output_type": "stream",
     "text": [
      "\n",
      "\n",
      "t:  20%|██        | 97/485 [00:51<03:22,  1.91it/s, now=None]\u001b[A\u001b[A"
     ]
    },
    {
     "name": "stdout",
     "output_type": "stream",
     "text": [
      "[[[ 100  660]\n",
      "  [ 564  452]\n",
      "  [ 716  452]\n",
      "  [1180  660]]]\n",
      "302.494404207 m 182.775802953 m\n"
     ]
    },
    {
     "name": "stderr",
     "output_type": "stream",
     "text": [
      "\n",
      "\n",
      "t:  20%|██        | 98/485 [00:52<03:30,  1.84it/s, now=None]\u001b[A\u001b[A"
     ]
    },
    {
     "name": "stdout",
     "output_type": "stream",
     "text": [
      "[[[ 100  660]\n",
      "  [ 564  452]\n",
      "  [ 716  452]\n",
      "  [1180  660]]]\n",
      "142.646766898 m 171.611888099 m\n"
     ]
    },
    {
     "name": "stderr",
     "output_type": "stream",
     "text": [
      "\n",
      "\n",
      "t:  20%|██        | 99/485 [00:52<03:32,  1.81it/s, now=None]\u001b[A\u001b[A"
     ]
    },
    {
     "name": "stdout",
     "output_type": "stream",
     "text": [
      "[[[ 100  660]\n",
      "  [ 564  452]\n",
      "  [ 716  452]\n",
      "  [1180  660]]]\n",
      "101.320452977 m 180.32213793 m\n"
     ]
    },
    {
     "name": "stderr",
     "output_type": "stream",
     "text": [
      "\n",
      "\n",
      "t:  21%|██        | 100/485 [00:53<03:27,  1.86it/s, now=None]\u001b[A\u001b[A"
     ]
    },
    {
     "name": "stdout",
     "output_type": "stream",
     "text": [
      "[[[ 100  660]\n",
      "  [ 564  452]\n",
      "  [ 716  452]\n",
      "  [1180  660]]]\n",
      "92.5630555808 m 189.859456144 m\n"
     ]
    },
    {
     "name": "stderr",
     "output_type": "stream",
     "text": [
      "\n",
      "\n",
      "t:  21%|██        | 101/485 [00:54<03:29,  1.83it/s, now=None]\u001b[A\u001b[A"
     ]
    },
    {
     "name": "stdout",
     "output_type": "stream",
     "text": [
      "[[[ 100  660]\n",
      "  [ 564  452]\n",
      "  [ 716  452]\n",
      "  [1180  660]]]\n",
      "94.2430867883 m 196.072596228 m\n"
     ]
    },
    {
     "name": "stderr",
     "output_type": "stream",
     "text": [
      "\n",
      "\n",
      "t:  21%|██        | 102/485 [00:54<03:25,  1.87it/s, now=None]\u001b[A\u001b[A"
     ]
    },
    {
     "name": "stdout",
     "output_type": "stream",
     "text": [
      "[[[ 100  660]\n",
      "  [ 564  452]\n",
      "  [ 716  452]\n",
      "  [1180  660]]]\n",
      "91.5185741812 m 220.560174255 m\n"
     ]
    },
    {
     "name": "stderr",
     "output_type": "stream",
     "text": [
      "\n",
      "\n",
      "t:  21%|██        | 103/485 [00:55<03:24,  1.87it/s, now=None]\u001b[A\u001b[A"
     ]
    },
    {
     "name": "stdout",
     "output_type": "stream",
     "text": [
      "[[[ 100  660]\n",
      "  [ 564  452]\n",
      "  [ 716  452]\n",
      "  [1180  660]]]\n",
      "89.9421110876 m 231.759604677 m\n"
     ]
    },
    {
     "name": "stderr",
     "output_type": "stream",
     "text": [
      "\n",
      "\n",
      "t:  21%|██▏       | 104/485 [00:55<03:18,  1.92it/s, now=None]\u001b[A\u001b[A"
     ]
    },
    {
     "name": "stdout",
     "output_type": "stream",
     "text": [
      "[[[ 100  660]\n",
      "  [ 564  452]\n",
      "  [ 716  452]\n",
      "  [1180  660]]]\n"
     ]
    },
    {
     "name": "stderr",
     "output_type": "stream",
     "text": [
      "\n",
      "\n",
      "t:  22%|██▏       | 105/485 [00:56<03:29,  1.81it/s, now=None]\u001b[A\u001b[A"
     ]
    },
    {
     "name": "stdout",
     "output_type": "stream",
     "text": [
      "76.7465874292 m 206.710655175 m\n",
      "[[[ 100  660]\n",
      "  [ 564  452]\n",
      "  [ 716  452]\n",
      "  [1180  660]]]\n",
      "107.721112173 m 219.095799266 m\n"
     ]
    },
    {
     "name": "stderr",
     "output_type": "stream",
     "text": [
      "\n",
      "\n",
      "t:  22%|██▏       | 106/485 [00:56<03:27,  1.83it/s, now=None]\u001b[A\u001b[A"
     ]
    },
    {
     "name": "stdout",
     "output_type": "stream",
     "text": [
      "[[[ 100  660]\n",
      "  [ 564  452]\n",
      "  [ 716  452]\n",
      "  [1180  660]]]\n",
      "117.237515682 m 298.024288946 m\n"
     ]
    },
    {
     "name": "stderr",
     "output_type": "stream",
     "text": [
      "\n",
      "\n",
      "t:  22%|██▏       | 107/485 [00:57<03:30,  1.79it/s, now=None]\u001b[A\u001b[A"
     ]
    },
    {
     "name": "stdout",
     "output_type": "stream",
     "text": [
      "[[[ 100  660]\n",
      "  [ 564  452]\n",
      "  [ 716  452]\n",
      "  [1180  660]]]\n",
      "117.126236034 m 329.680532016 m\n"
     ]
    },
    {
     "name": "stderr",
     "output_type": "stream",
     "text": [
      "\n",
      "\n",
      "t:  22%|██▏       | 108/485 [00:57<03:24,  1.84it/s, now=None]\u001b[A\u001b[A"
     ]
    },
    {
     "name": "stdout",
     "output_type": "stream",
     "text": [
      "[[[ 100  660]\n",
      "  [ 564  452]\n",
      "  [ 716  452]\n",
      "  [1180  660]]]\n",
      "100.192638443 m 298.758759574 m\n"
     ]
    },
    {
     "name": "stderr",
     "output_type": "stream",
     "text": [
      "\n",
      "\n",
      "t:  22%|██▏       | 109/485 [00:58<03:24,  1.84it/s, now=None]\u001b[A\u001b[A"
     ]
    },
    {
     "name": "stdout",
     "output_type": "stream",
     "text": [
      "[[[ 100  660]\n",
      "  [ 564  452]\n",
      "  [ 716  452]\n",
      "  [1180  660]]]\n",
      "229.74581517 m 296.796407993 m\n"
     ]
    },
    {
     "name": "stderr",
     "output_type": "stream",
     "text": [
      "\n",
      "\n",
      "t:  23%|██▎       | 110/485 [00:58<03:25,  1.82it/s, now=None]\u001b[A\u001b[A"
     ]
    },
    {
     "name": "stdout",
     "output_type": "stream",
     "text": [
      "[[[ 100  660]\n",
      "  [ 564  452]\n",
      "  [ 716  452]\n",
      "  [1180  660]]]\n",
      "126.225406467 m 289.501281465 m\n"
     ]
    },
    {
     "name": "stderr",
     "output_type": "stream",
     "text": [
      "\n",
      "\n",
      "t:  23%|██▎       | 111/485 [00:59<03:26,  1.81it/s, now=None]\u001b[A\u001b[A"
     ]
    },
    {
     "name": "stdout",
     "output_type": "stream",
     "text": [
      "[[[ 100  660]\n",
      "  [ 564  452]\n",
      "  [ 716  452]\n",
      "  [1180  660]]]\n",
      "42.5006556431 m 287.134009015 m\n"
     ]
    },
    {
     "name": "stderr",
     "output_type": "stream",
     "text": [
      "\n",
      "\n",
      "t:  23%|██▎       | 112/485 [01:00<03:24,  1.82it/s, now=None]\u001b[A\u001b[A"
     ]
    },
    {
     "name": "stdout",
     "output_type": "stream",
     "text": [
      "[[[ 100  660]\n",
      "  [ 564  452]\n",
      "  [ 716  452]\n",
      "  [1180  660]]]\n",
      "78.6327237191 m 280.072643113 m\n"
     ]
    },
    {
     "name": "stderr",
     "output_type": "stream",
     "text": [
      "\n",
      "\n",
      "t:  23%|██▎       | 113/485 [01:00<03:23,  1.83it/s, now=None]\u001b[A\u001b[A"
     ]
    },
    {
     "name": "stdout",
     "output_type": "stream",
     "text": [
      "[[[ 100  660]\n",
      "  [ 564  452]\n",
      "  [ 716  452]\n",
      "  [1180  660]]]\n",
      "68.7329510111 m 298.026209093 m\n"
     ]
    },
    {
     "name": "stderr",
     "output_type": "stream",
     "text": [
      "\n",
      "\n",
      "t:  24%|██▎       | 114/485 [01:01<03:29,  1.77it/s, now=None]\u001b[A\u001b[A"
     ]
    },
    {
     "name": "stdout",
     "output_type": "stream",
     "text": [
      "[[[ 100  660]\n",
      "  [ 564  452]\n",
      "  [ 716  452]\n",
      "  [1180  660]]]\n",
      "82.5380418065 m 348.869906956 m\n"
     ]
    },
    {
     "name": "stderr",
     "output_type": "stream",
     "text": [
      "\n",
      "\n",
      "t:  24%|██▎       | 115/485 [01:01<03:33,  1.74it/s, now=None]\u001b[A\u001b[A"
     ]
    },
    {
     "name": "stdout",
     "output_type": "stream",
     "text": [
      "[[[ 100  660]\n",
      "  [ 564  452]\n",
      "  [ 716  452]\n",
      "  [1180  660]]]\n",
      "99.1397046221 m 378.837059839 m\n"
     ]
    },
    {
     "name": "stderr",
     "output_type": "stream",
     "text": [
      "\n",
      "\n",
      "t:  24%|██▍       | 116/485 [01:02<03:27,  1.78it/s, now=None]\u001b[A\u001b[A"
     ]
    },
    {
     "name": "stdout",
     "output_type": "stream",
     "text": [
      "[[[ 100  660]\n",
      "  [ 564  452]\n",
      "  [ 716  452]\n",
      "  [1180  660]]]\n",
      "138.213618553 m 357.657279687 m\n"
     ]
    },
    {
     "name": "stderr",
     "output_type": "stream",
     "text": [
      "\n",
      "\n",
      "t:  24%|██▍       | 117/485 [01:02<03:21,  1.83it/s, now=None]\u001b[A\u001b[A"
     ]
    },
    {
     "name": "stdout",
     "output_type": "stream",
     "text": [
      "[[[ 100  660]\n",
      "  [ 564  452]\n",
      "  [ 716  452]\n",
      "  [1180  660]]]\n",
      "29.9879125799 m 347.279804453 m\n"
     ]
    },
    {
     "name": "stderr",
     "output_type": "stream",
     "text": [
      "\n",
      "\n",
      "t:  24%|██▍       | 118/485 [01:03<03:23,  1.80it/s, now=None]\u001b[A\u001b[A"
     ]
    },
    {
     "name": "stdout",
     "output_type": "stream",
     "text": [
      "[[[ 100  660]\n",
      "  [ 564  452]\n",
      "  [ 716  452]\n",
      "  [1180  660]]]\n",
      "23.8261965835 m 336.542472689 m\n"
     ]
    },
    {
     "name": "stderr",
     "output_type": "stream",
     "text": [
      "\n",
      "\n",
      "t:  25%|██▍       | 119/485 [01:04<03:28,  1.75it/s, now=None]\u001b[A\u001b[A"
     ]
    },
    {
     "name": "stdout",
     "output_type": "stream",
     "text": [
      "[[[ 100  660]\n",
      "  [ 564  452]\n",
      "  [ 716  452]\n",
      "  [1180  660]]]\n",
      "27.3150585496 m 302.757421388 m\n"
     ]
    },
    {
     "name": "stderr",
     "output_type": "stream",
     "text": [
      "\n",
      "\n",
      "t:  25%|██▍       | 120/485 [01:04<03:25,  1.77it/s, now=None]\u001b[A\u001b[A"
     ]
    },
    {
     "name": "stdout",
     "output_type": "stream",
     "text": [
      "[[[ 100  660]\n",
      "  [ 564  452]\n",
      "  [ 716  452]\n",
      "  [1180  660]]]\n"
     ]
    },
    {
     "name": "stderr",
     "output_type": "stream",
     "text": [
      "\n",
      "\n",
      "t:  25%|██▍       | 121/485 [01:05<03:35,  1.69it/s, now=None]\u001b[A\u001b[A"
     ]
    },
    {
     "name": "stdout",
     "output_type": "stream",
     "text": [
      "271.965215209 m 198.808830393 m\n",
      "[[[ 100  660]\n",
      "  [ 564  452]\n",
      "  [ 716  452]\n",
      "  [1180  660]]]\n",
      "1514.24320318 m 406.515795927 m\n"
     ]
    },
    {
     "name": "stderr",
     "output_type": "stream",
     "text": [
      "\n",
      "\n",
      "t:  25%|██▌       | 122/485 [01:05<03:28,  1.74it/s, now=None]\u001b[A\u001b[A"
     ]
    },
    {
     "name": "stdout",
     "output_type": "stream",
     "text": [
      "[[[ 100  660]\n",
      "  [ 564  452]\n",
      "  [ 716  452]\n",
      "  [1180  660]]]\n",
      "947.923103088 m 339.109828888 m\n"
     ]
    },
    {
     "name": "stderr",
     "output_type": "stream",
     "text": [
      "\n",
      "\n",
      "t:  25%|██▌       | 123/485 [01:06<03:26,  1.75it/s, now=None]\u001b[A\u001b[A"
     ]
    },
    {
     "name": "stdout",
     "output_type": "stream",
     "text": [
      "[[[ 100  660]\n",
      "  [ 564  452]\n",
      "  [ 716  452]\n",
      "  [1180  660]]]\n",
      "174.72620216 m 373.903273047 m\n"
     ]
    },
    {
     "name": "stderr",
     "output_type": "stream",
     "text": [
      "\n",
      "\n",
      "t:  26%|██▌       | 124/485 [01:06<03:27,  1.74it/s, now=None]\u001b[A\u001b[A"
     ]
    },
    {
     "name": "stdout",
     "output_type": "stream",
     "text": [
      "[[[ 100  660]\n",
      "  [ 564  452]\n",
      "  [ 716  452]\n",
      "  [1180  660]]]\n",
      "64.4892657474 m 385.172703651 m\n"
     ]
    },
    {
     "name": "stderr",
     "output_type": "stream",
     "text": [
      "\n",
      "\n",
      "t:  26%|██▌       | 125/485 [01:07<03:22,  1.77it/s, now=None]\u001b[A\u001b[A"
     ]
    },
    {
     "name": "stdout",
     "output_type": "stream",
     "text": [
      "[[[ 100  660]\n",
      "  [ 564  452]\n",
      "  [ 716  452]\n",
      "  [1180  660]]]\n",
      "52.2416695311 m 412.109414704 m\n"
     ]
    },
    {
     "name": "stderr",
     "output_type": "stream",
     "text": [
      "\n",
      "\n",
      "t:  26%|██▌       | 126/485 [01:08<03:21,  1.78it/s, now=None]\u001b[A\u001b[A"
     ]
    },
    {
     "name": "stdout",
     "output_type": "stream",
     "text": [
      "[[[ 100  660]\n",
      "  [ 564  452]\n",
      "  [ 716  452]\n",
      "  [1180  660]]]\n",
      "27.4275161243 m 373.63994087 m\n"
     ]
    },
    {
     "name": "stderr",
     "output_type": "stream",
     "text": [
      "\n",
      "\n",
      "t:  26%|██▌       | 127/485 [01:08<03:16,  1.82it/s, now=None]\u001b[A\u001b[A"
     ]
    },
    {
     "name": "stdout",
     "output_type": "stream",
     "text": [
      "[[[ 100  660]\n",
      "  [ 564  452]\n",
      "  [ 716  452]\n",
      "  [1180  660]]]\n"
     ]
    },
    {
     "name": "stderr",
     "output_type": "stream",
     "text": [
      "\n",
      "\n",
      "t:  26%|██▋       | 128/485 [01:09<03:30,  1.70it/s, now=None]\u001b[A\u001b[A"
     ]
    },
    {
     "name": "stdout",
     "output_type": "stream",
     "text": [
      "22.2080503832 m 338.026539361 m\n",
      "[[[ 100  660]\n",
      "  [ 564  452]\n",
      "  [ 716  452]\n",
      "  [1180  660]]]\n",
      "12.7113737 m 232.463058148 m\n"
     ]
    },
    {
     "name": "stderr",
     "output_type": "stream",
     "text": [
      "\n",
      "\n",
      "t:  27%|██▋       | 129/485 [01:09<03:26,  1.73it/s, now=None]\u001b[A\u001b[A"
     ]
    },
    {
     "name": "stdout",
     "output_type": "stream",
     "text": [
      "[[[ 100  660]\n",
      "  [ 564  452]\n",
      "  [ 716  452]\n",
      "  [1180  660]]]\n",
      "6.48627534582 m 283.158962518 m\n"
     ]
    },
    {
     "name": "stderr",
     "output_type": "stream",
     "text": [
      "\n",
      "\n",
      "t:  27%|██▋       | 130/485 [01:10<03:21,  1.76it/s, now=None]\u001b[A\u001b[A"
     ]
    },
    {
     "name": "stdout",
     "output_type": "stream",
     "text": [
      "[[[ 100  660]\n",
      "  [ 564  452]\n",
      "  [ 716  452]\n",
      "  [1180  660]]]\n",
      "3.69861143105 m 222.546178259 m\n"
     ]
    },
    {
     "name": "stderr",
     "output_type": "stream",
     "text": [
      "\n",
      "\n",
      "t:  27%|██▋       | 131/485 [01:10<03:16,  1.80it/s, now=None]\u001b[A\u001b[A"
     ]
    },
    {
     "name": "stdout",
     "output_type": "stream",
     "text": [
      "[[[ 100  660]\n",
      "  [ 564  452]\n",
      "  [ 716  452]\n",
      "  [1180  660]]]\n"
     ]
    },
    {
     "name": "stderr",
     "output_type": "stream",
     "text": [
      "\n",
      "\n",
      "t:  27%|██▋       | 132/485 [01:11<03:25,  1.72it/s, now=None]\u001b[A\u001b[A"
     ]
    },
    {
     "name": "stdout",
     "output_type": "stream",
     "text": [
      "2.87901772287 m 233.432327339 m\n",
      "[[[ 100  660]\n",
      "  [ 564  452]\n",
      "  [ 716  452]\n",
      "  [1180  660]]]\n",
      "3.78478120022 m 150.517820403 m\n"
     ]
    },
    {
     "name": "stderr",
     "output_type": "stream",
     "text": [
      "\n",
      "\n",
      "t:  27%|██▋       | 133/485 [01:12<03:23,  1.73it/s, now=None]\u001b[A\u001b[A"
     ]
    },
    {
     "name": "stdout",
     "output_type": "stream",
     "text": [
      "[[[ 100  660]\n",
      "  [ 564  452]\n",
      "  [ 716  452]\n",
      "  [1180  660]]]\n",
      "321.402282371 m 134.247410279 m\n"
     ]
    },
    {
     "name": "stderr",
     "output_type": "stream",
     "text": [
      "\n",
      "\n",
      "t:  28%|██▊       | 134/485 [01:12<03:16,  1.79it/s, now=None]\u001b[A\u001b[A"
     ]
    },
    {
     "name": "stdout",
     "output_type": "stream",
     "text": [
      "[[[ 100  660]\n",
      "  [ 564  452]\n",
      "  [ 716  452]\n",
      "  [1180  660]]]\n",
      "302.926128009 m 101.483417473 m\n"
     ]
    },
    {
     "name": "stderr",
     "output_type": "stream",
     "text": [
      "\n",
      "\n",
      "t:  28%|██▊       | 135/485 [01:13<03:23,  1.72it/s, now=None]\u001b[A\u001b[A"
     ]
    },
    {
     "name": "stdout",
     "output_type": "stream",
     "text": [
      "[[[ 100  660]\n",
      "  [ 564  452]\n",
      "  [ 716  452]\n",
      "  [1180  660]]]\n",
      "256.331938805 m 857.496487098 m\n"
     ]
    },
    {
     "name": "stderr",
     "output_type": "stream",
     "text": [
      "\n",
      "\n",
      "t:  28%|██▊       | 136/485 [01:13<03:22,  1.72it/s, now=None]\u001b[A\u001b[A"
     ]
    },
    {
     "name": "stdout",
     "output_type": "stream",
     "text": [
      "[[[ 100  660]\n",
      "  [ 564  452]\n",
      "  [ 716  452]\n",
      "  [1180  660]]]\n",
      "401.903749578 m 218.235352637 m\n"
     ]
    },
    {
     "name": "stderr",
     "output_type": "stream",
     "text": [
      "\n",
      "\n",
      "t:  28%|██▊       | 137/485 [01:14<03:17,  1.76it/s, now=None]\u001b[A\u001b[A"
     ]
    },
    {
     "name": "stdout",
     "output_type": "stream",
     "text": [
      "[[[ 100  660]\n",
      "  [ 564  452]\n",
      "  [ 716  452]\n",
      "  [1180  660]]]\n",
      "4999.95229356 m 604.976767638 m\n"
     ]
    },
    {
     "name": "stderr",
     "output_type": "stream",
     "text": [
      "\n",
      "\n",
      "t:  28%|██▊       | 138/485 [01:14<03:12,  1.81it/s, now=None]\u001b[A\u001b[A"
     ]
    },
    {
     "name": "stdout",
     "output_type": "stream",
     "text": [
      "[[[ 100  660]\n",
      "  [ 564  452]\n",
      "  [ 716  452]\n",
      "  [1180  660]]]\n"
     ]
    },
    {
     "name": "stderr",
     "output_type": "stream",
     "text": [
      "\n",
      "\n",
      "t:  29%|██▊       | 139/485 [01:15<03:22,  1.70it/s, now=None]\u001b[A\u001b[A"
     ]
    },
    {
     "name": "stdout",
     "output_type": "stream",
     "text": [
      "8229.28955216 m 301.001646567 m\n",
      "[[[ 100  660]\n",
      "  [ 564  452]\n",
      "  [ 716  452]\n",
      "  [1180  660]]]\n",
      "28709.471146 m 19035.7872242 m\n"
     ]
    },
    {
     "name": "stderr",
     "output_type": "stream",
     "text": [
      "\n",
      "\n",
      "t:  29%|██▉       | 140/485 [01:16<03:25,  1.68it/s, now=None]\u001b[A\u001b[A"
     ]
    },
    {
     "name": "stdout",
     "output_type": "stream",
     "text": [
      "[[[ 100  660]\n",
      "  [ 564  452]\n",
      "  [ 716  452]\n",
      "  [1180  660]]]\n",
      "2766.04358487 m 414.206234596 m\n"
     ]
    },
    {
     "name": "stderr",
     "output_type": "stream",
     "text": [
      "\n",
      "\n",
      "t:  29%|██▉       | 141/485 [01:16<03:17,  1.74it/s, now=None]\u001b[A\u001b[A"
     ]
    },
    {
     "name": "stdout",
     "output_type": "stream",
     "text": [
      "[[[ 100  660]\n",
      "  [ 564  452]\n",
      "  [ 716  452]\n",
      "  [1180  660]]]\n",
      "3635.14160459 m 340.30462171 m\n"
     ]
    },
    {
     "name": "stderr",
     "output_type": "stream",
     "text": [
      "\n",
      "\n",
      "t:  29%|██▉       | 142/485 [01:17<03:13,  1.78it/s, now=None]\u001b[A\u001b[A"
     ]
    },
    {
     "name": "stdout",
     "output_type": "stream",
     "text": [
      "[[[ 100  660]\n",
      "  [ 564  452]\n",
      "  [ 716  452]\n",
      "  [1180  660]]]\n",
      "956.805932664 m 265.943273366 m\n"
     ]
    },
    {
     "name": "stderr",
     "output_type": "stream",
     "text": [
      "\n",
      "\n",
      "t:  29%|██▉       | 143/485 [01:17<03:10,  1.80it/s, now=None]\u001b[A\u001b[A"
     ]
    },
    {
     "name": "stdout",
     "output_type": "stream",
     "text": [
      "[[[ 100  660]\n",
      "  [ 564  452]\n",
      "  [ 716  452]\n",
      "  [1180  660]]]\n"
     ]
    },
    {
     "name": "stderr",
     "output_type": "stream",
     "text": [
      "\n",
      "\n",
      "t:  30%|██▉       | 144/485 [01:18<03:23,  1.67it/s, now=None]\u001b[A\u001b[A"
     ]
    },
    {
     "name": "stdout",
     "output_type": "stream",
     "text": [
      "747.853498722 m 205.505666972 m\n",
      "[[[ 100  660]\n",
      "  [ 564  452]\n",
      "  [ 716  452]\n",
      "  [1180  660]]]\n",
      "965.779765871 m 269.318688285 m\n"
     ]
    },
    {
     "name": "stderr",
     "output_type": "stream",
     "text": [
      "\n",
      "\n",
      "t:  30%|██▉       | 145/485 [01:18<03:18,  1.71it/s, now=None]\u001b[A\u001b[A"
     ]
    },
    {
     "name": "stdout",
     "output_type": "stream",
     "text": [
      "[[[ 100  660]\n",
      "  [ 564  452]\n",
      "  [ 716  452]\n",
      "  [1180  660]]]\n",
      "548.494634678 m 274.63648075 m\n"
     ]
    },
    {
     "name": "stderr",
     "output_type": "stream",
     "text": [
      "\n",
      "\n",
      "t:  30%|███       | 146/485 [01:19<03:14,  1.75it/s, now=None]\u001b[A\u001b[A"
     ]
    },
    {
     "name": "stdout",
     "output_type": "stream",
     "text": [
      "[[[ 100  660]\n",
      "  [ 564  452]\n",
      "  [ 716  452]\n",
      "  [1180  660]]]\n",
      "1161.03997152 m 306.939583063 m\n"
     ]
    },
    {
     "name": "stderr",
     "output_type": "stream",
     "text": [
      "\n",
      "\n",
      "t:  30%|███       | 147/485 [01:20<03:08,  1.79it/s, now=None]\u001b[A\u001b[A"
     ]
    },
    {
     "name": "stdout",
     "output_type": "stream",
     "text": [
      "[[[ 100  660]\n",
      "  [ 564  452]\n",
      "  [ 716  452]\n",
      "  [1180  660]]]\n"
     ]
    },
    {
     "name": "stderr",
     "output_type": "stream",
     "text": [
      "\n",
      "\n",
      "t:  31%|███       | 148/485 [01:20<03:20,  1.68it/s, now=None]\u001b[A\u001b[A"
     ]
    },
    {
     "name": "stdout",
     "output_type": "stream",
     "text": [
      "1583.02764358 m 306.348062797 m\n",
      "[[[ 100  660]\n",
      "  [ 564  452]\n",
      "  [ 716  452]\n",
      "  [1180  660]]]\n",
      "1444.79831374 m 302.831569041 m\n"
     ]
    },
    {
     "name": "stderr",
     "output_type": "stream",
     "text": [
      "\n",
      "\n",
      "t:  31%|███       | 149/485 [01:21<03:20,  1.68it/s, now=None]\u001b[A\u001b[A"
     ]
    },
    {
     "name": "stdout",
     "output_type": "stream",
     "text": [
      "[[[ 100  660]\n",
      "  [ 564  452]\n",
      "  [ 716  452]\n",
      "  [1180  660]]]\n",
      "1036.92147307 m 351.241690882 m\n"
     ]
    },
    {
     "name": "stderr",
     "output_type": "stream",
     "text": [
      "\n",
      "\n",
      "t:  31%|███       | 150/485 [01:21<03:12,  1.74it/s, now=None]\u001b[A\u001b[A"
     ]
    },
    {
     "name": "stdout",
     "output_type": "stream",
     "text": [
      "[[[ 100  660]\n",
      "  [ 564  452]\n",
      "  [ 716  452]\n",
      "  [1180  660]]]\n",
      "1702.15400944 m 266.738850928 m\n"
     ]
    },
    {
     "name": "stderr",
     "output_type": "stream",
     "text": [
      "\n",
      "\n",
      "t:  31%|███       | 151/485 [01:22<03:08,  1.77it/s, now=None]\u001b[A\u001b[A"
     ]
    },
    {
     "name": "stdout",
     "output_type": "stream",
     "text": [
      "[[[ 100  660]\n",
      "  [ 564  452]\n",
      "  [ 716  452]\n",
      "  [1180  660]]]\n",
      "624.605884755 m 242.146144689 m\n"
     ]
    },
    {
     "name": "stderr",
     "output_type": "stream",
     "text": [
      "\n",
      "\n",
      "t:  31%|███▏      | 152/485 [01:22<03:10,  1.75it/s, now=None]\u001b[A\u001b[A"
     ]
    },
    {
     "name": "stdout",
     "output_type": "stream",
     "text": [
      "[[[ 100  660]\n",
      "  [ 564  452]\n",
      "  [ 716  452]\n",
      "  [1180  660]]]\n",
      "593.804876912 m 262.824929711 m\n"
     ]
    },
    {
     "name": "stderr",
     "output_type": "stream",
     "text": [
      "\n",
      "\n",
      "t:  32%|███▏      | 153/485 [01:23<03:17,  1.69it/s, now=None]\u001b[A\u001b[A"
     ]
    },
    {
     "name": "stdout",
     "output_type": "stream",
     "text": [
      "[[[ 100  660]\n",
      "  [ 564  452]\n",
      "  [ 716  452]\n",
      "  [1180  660]]]\n",
      "478.205858167 m 235.51241718 m\n"
     ]
    },
    {
     "name": "stderr",
     "output_type": "stream",
     "text": [
      "\n",
      "\n",
      "t:  32%|███▏      | 154/485 [01:24<03:14,  1.70it/s, now=None]\u001b[A\u001b[A"
     ]
    },
    {
     "name": "stdout",
     "output_type": "stream",
     "text": [
      "[[[ 100  660]\n",
      "  [ 564  452]\n",
      "  [ 716  452]\n",
      "  [1180  660]]]\n",
      "506.274283803 m 249.283726826 m\n"
     ]
    },
    {
     "name": "stderr",
     "output_type": "stream",
     "text": [
      "\n",
      "\n",
      "t:  32%|███▏      | 155/485 [01:24<03:14,  1.69it/s, now=None]\u001b[A\u001b[A"
     ]
    },
    {
     "name": "stdout",
     "output_type": "stream",
     "text": [
      "[[[ 100  660]\n",
      "  [ 564  452]\n",
      "  [ 716  452]\n",
      "  [1180  660]]]\n",
      "542.82153034 m 236.240835713 m\n"
     ]
    },
    {
     "name": "stderr",
     "output_type": "stream",
     "text": [
      "\n",
      "\n",
      "t:  32%|███▏      | 156/485 [01:25<03:11,  1.72it/s, now=None]\u001b[A\u001b[A"
     ]
    },
    {
     "name": "stdout",
     "output_type": "stream",
     "text": [
      "[[[ 100  660]\n",
      "  [ 564  452]\n",
      "  [ 716  452]\n",
      "  [1180  660]]]\n",
      "473.01777837 m 268.175470501 m\n"
     ]
    },
    {
     "name": "stderr",
     "output_type": "stream",
     "text": [
      "\n",
      "\n",
      "t:  32%|███▏      | 157/485 [01:25<03:06,  1.75it/s, now=None]\u001b[A\u001b[A"
     ]
    },
    {
     "name": "stdout",
     "output_type": "stream",
     "text": [
      "[[[ 100  660]\n",
      "  [ 564  452]\n",
      "  [ 716  452]\n",
      "  [1180  660]]]\n"
     ]
    },
    {
     "name": "stderr",
     "output_type": "stream",
     "text": [
      "\n",
      "\n",
      "t:  33%|███▎      | 158/485 [01:26<03:14,  1.68it/s, now=None]\u001b[A\u001b[A"
     ]
    },
    {
     "name": "stdout",
     "output_type": "stream",
     "text": [
      "408.684087697 m 259.476006721 m\n",
      "[[[ 100  660]\n",
      "  [ 564  452]\n",
      "  [ 716  452]\n",
      "  [1180  660]]]\n",
      "347.796851981 m 247.171413489 m\n"
     ]
    },
    {
     "name": "stderr",
     "output_type": "stream",
     "text": [
      "\n",
      "\n",
      "t:  33%|███▎      | 159/485 [01:27<03:11,  1.70it/s, now=None]\u001b[A\u001b[A"
     ]
    },
    {
     "name": "stdout",
     "output_type": "stream",
     "text": [
      "[[[ 100  660]\n",
      "  [ 564  452]\n",
      "  [ 716  452]\n",
      "  [1180  660]]]\n",
      "302.536907138 m 251.257792076 m\n"
     ]
    },
    {
     "name": "stderr",
     "output_type": "stream",
     "text": [
      "\n",
      "\n",
      "t:  33%|███▎      | 160/485 [01:27<03:08,  1.72it/s, now=None]\u001b[A\u001b[A"
     ]
    },
    {
     "name": "stdout",
     "output_type": "stream",
     "text": [
      "[[[ 100  660]\n",
      "  [ 564  452]\n",
      "  [ 716  452]\n",
      "  [1180  660]]]\n",
      "385.401704667 m 310.606059837 m\n"
     ]
    },
    {
     "name": "stderr",
     "output_type": "stream",
     "text": [
      "\n",
      "\n",
      "t:  33%|███▎      | 161/485 [01:28<03:12,  1.68it/s, now=None]\u001b[A\u001b[A"
     ]
    },
    {
     "name": "stdout",
     "output_type": "stream",
     "text": [
      "[[[ 100  660]\n",
      "  [ 564  452]\n",
      "  [ 716  452]\n",
      "  [1180  660]]]\n",
      "416.411397115 m 330.254108193 m\n"
     ]
    },
    {
     "name": "stderr",
     "output_type": "stream",
     "text": [
      "\n",
      "\n",
      "t:  33%|███▎      | 162/485 [01:28<03:10,  1.70it/s, now=None]\u001b[A\u001b[A"
     ]
    },
    {
     "name": "stdout",
     "output_type": "stream",
     "text": [
      "[[[ 100  660]\n",
      "  [ 564  452]\n",
      "  [ 716  452]\n",
      "  [1180  660]]]\n"
     ]
    },
    {
     "name": "stderr",
     "output_type": "stream",
     "text": [
      "\n",
      "\n",
      "t:  34%|███▎      | 163/485 [01:29<03:17,  1.63it/s, now=None]\u001b[A\u001b[A"
     ]
    },
    {
     "name": "stdout",
     "output_type": "stream",
     "text": [
      "348.482557834 m 222.441633966 m\n",
      "[[[ 100  660]\n",
      "  [ 564  452]\n",
      "  [ 716  452]\n",
      "  [1180  660]]]\n",
      "354.064383551 m 231.202245907 m\n"
     ]
    },
    {
     "name": "stderr",
     "output_type": "stream",
     "text": [
      "\n",
      "\n",
      "t:  34%|███▍      | 164/485 [01:30<03:11,  1.68it/s, now=None]\u001b[A\u001b[A"
     ]
    },
    {
     "name": "stdout",
     "output_type": "stream",
     "text": [
      "[[[ 100  660]\n",
      "  [ 564  452]\n",
      "  [ 716  452]\n",
      "  [1180  660]]]\n",
      "319.985063246 m 240.065307861 m\n"
     ]
    },
    {
     "name": "stderr",
     "output_type": "stream",
     "text": [
      "\n",
      "\n",
      "t:  34%|███▍      | 165/485 [01:30<03:07,  1.71it/s, now=None]\u001b[A\u001b[A"
     ]
    },
    {
     "name": "stdout",
     "output_type": "stream",
     "text": [
      "[[[ 100  660]\n",
      "  [ 564  452]\n",
      "  [ 716  452]\n",
      "  [1180  660]]]\n",
      "303.452941211 m 229.143805445 m\n"
     ]
    },
    {
     "name": "stderr",
     "output_type": "stream",
     "text": [
      "\n",
      "\n",
      "t:  34%|███▍      | 166/485 [01:31<03:05,  1.72it/s, now=None]\u001b[A\u001b[A"
     ]
    },
    {
     "name": "stdout",
     "output_type": "stream",
     "text": [
      "[[[ 100  660]\n",
      "  [ 564  452]\n",
      "  [ 716  452]\n",
      "  [1180  660]]]\n",
      "303.787527396 m 242.504191466 m\n"
     ]
    },
    {
     "name": "stderr",
     "output_type": "stream",
     "text": [
      "\n",
      "\n",
      "t:  34%|███▍      | 167/485 [01:31<03:07,  1.70it/s, now=None]\u001b[A\u001b[A"
     ]
    },
    {
     "name": "stdout",
     "output_type": "stream",
     "text": [
      "[[[ 100  660]\n",
      "  [ 564  452]\n",
      "  [ 716  452]\n",
      "  [1180  660]]]\n",
      "313.63588372 m 225.497014588 m\n"
     ]
    },
    {
     "name": "stderr",
     "output_type": "stream",
     "text": [
      "\n",
      "\n",
      "t:  35%|███▍      | 168/485 [01:32<03:06,  1.70it/s, now=None]\u001b[A\u001b[A"
     ]
    },
    {
     "name": "stdout",
     "output_type": "stream",
     "text": [
      "[[[ 100  660]\n",
      "  [ 564  452]\n",
      "  [ 716  452]\n",
      "  [1180  660]]]\n",
      "314.403312207 m 228.380021932 m\n"
     ]
    },
    {
     "name": "stderr",
     "output_type": "stream",
     "text": [
      "\n",
      "\n",
      "t:  35%|███▍      | 169/485 [01:32<03:01,  1.74it/s, now=None]\u001b[A\u001b[A"
     ]
    },
    {
     "name": "stdout",
     "output_type": "stream",
     "text": [
      "[[[ 100  660]\n",
      "  [ 564  452]\n",
      "  [ 716  452]\n",
      "  [1180  660]]]\n",
      "277.914699674 m 214.392071318 m\n"
     ]
    },
    {
     "name": "stderr",
     "output_type": "stream",
     "text": [
      "\n",
      "\n",
      "t:  35%|███▌      | 170/485 [01:33<03:00,  1.75it/s, now=None]\u001b[A\u001b[A"
     ]
    },
    {
     "name": "stdout",
     "output_type": "stream",
     "text": [
      "[[[ 100  660]\n",
      "  [ 564  452]\n",
      "  [ 716  452]\n",
      "  [1180  660]]]\n"
     ]
    },
    {
     "name": "stderr",
     "output_type": "stream",
     "text": [
      "\n",
      "\n",
      "t:  35%|███▌      | 171/485 [01:34<03:07,  1.68it/s, now=None]\u001b[A\u001b[A"
     ]
    },
    {
     "name": "stdout",
     "output_type": "stream",
     "text": [
      "263.020462048 m 202.162963386 m\n",
      "[[[ 100  660]\n",
      "  [ 564  452]\n",
      "  [ 716  452]\n",
      "  [1180  660]]]\n",
      "203.522008217 m 258.330387264 m\n"
     ]
    },
    {
     "name": "stderr",
     "output_type": "stream",
     "text": [
      "\n",
      "\n",
      "t:  35%|███▌      | 172/485 [01:34<03:01,  1.72it/s, now=None]\u001b[A\u001b[A"
     ]
    },
    {
     "name": "stdout",
     "output_type": "stream",
     "text": [
      "[[[ 100  660]\n",
      "  [ 564  452]\n",
      "  [ 716  452]\n",
      "  [1180  660]]]\n",
      "227.745924498 m 246.026229472 m\n"
     ]
    },
    {
     "name": "stderr",
     "output_type": "stream",
     "text": [
      "\n",
      "\n",
      "t:  36%|███▌      | 173/485 [01:35<03:02,  1.71it/s, now=None]\u001b[A\u001b[A"
     ]
    },
    {
     "name": "stdout",
     "output_type": "stream",
     "text": [
      "[[[ 100  660]\n",
      "  [ 564  452]\n",
      "  [ 716  452]\n",
      "  [1180  660]]]\n",
      "196.891143376 m 243.640277698 m\n"
     ]
    },
    {
     "name": "stderr",
     "output_type": "stream",
     "text": [
      "\n",
      "\n",
      "t:  36%|███▌      | 174/485 [01:35<02:57,  1.75it/s, now=None]\u001b[A\u001b[A"
     ]
    },
    {
     "name": "stdout",
     "output_type": "stream",
     "text": [
      "[[[ 100  660]\n",
      "  [ 564  452]\n",
      "  [ 716  452]\n",
      "  [1180  660]]]\n",
      "236.691857965 m 224.483621415 m\n"
     ]
    },
    {
     "name": "stderr",
     "output_type": "stream",
     "text": [
      "\n",
      "\n",
      "t:  36%|███▌      | 175/485 [01:36<02:54,  1.77it/s, now=None]\u001b[A\u001b[A"
     ]
    },
    {
     "name": "stdout",
     "output_type": "stream",
     "text": [
      "[[[ 100  660]\n",
      "  [ 564  452]\n",
      "  [ 716  452]\n",
      "  [1180  660]]]\n",
      "252.409097233 m 277.436789565 m\n"
     ]
    },
    {
     "name": "stderr",
     "output_type": "stream",
     "text": [
      "\n",
      "\n",
      "t:  36%|███▋      | 176/485 [01:37<02:57,  1.75it/s, now=None]\u001b[A\u001b[A"
     ]
    },
    {
     "name": "stdout",
     "output_type": "stream",
     "text": [
      "[[[ 100  660]\n",
      "  [ 564  452]\n",
      "  [ 716  452]\n",
      "  [1180  660]]]\n",
      "242.679118477 m 236.432369974 m\n"
     ]
    },
    {
     "name": "stderr",
     "output_type": "stream",
     "text": [
      "\n",
      "\n",
      "t:  36%|███▋      | 177/485 [01:37<02:56,  1.75it/s, now=None]\u001b[A\u001b[A"
     ]
    },
    {
     "name": "stdout",
     "output_type": "stream",
     "text": [
      "[[[ 100  660]\n",
      "  [ 564  452]\n",
      "  [ 716  452]\n",
      "  [1180  660]]]\n",
      "279.179189941 m 306.124879263 m\n"
     ]
    },
    {
     "name": "stderr",
     "output_type": "stream",
     "text": [
      "\n",
      "\n",
      "t:  37%|███▋      | 178/485 [01:38<02:53,  1.77it/s, now=None]\u001b[A\u001b[A"
     ]
    },
    {
     "name": "stdout",
     "output_type": "stream",
     "text": [
      "[[[ 100  660]\n",
      "  [ 564  452]\n",
      "  [ 716  452]\n",
      "  [1180  660]]]\n",
      "264.691737461 m 291.034010457 m\n"
     ]
    },
    {
     "name": "stderr",
     "output_type": "stream",
     "text": [
      "\n",
      "\n",
      "t:  37%|███▋      | 179/485 [01:38<02:57,  1.72it/s, now=None]\u001b[A\u001b[A"
     ]
    },
    {
     "name": "stdout",
     "output_type": "stream",
     "text": [
      "[[[ 100  660]\n",
      "  [ 564  452]\n",
      "  [ 716  452]\n",
      "  [1180  660]]]\n",
      "227.68838155 m 294.33452137 m\n"
     ]
    },
    {
     "name": "stderr",
     "output_type": "stream",
     "text": [
      "\n",
      "\n",
      "t:  37%|███▋      | 180/485 [01:39<02:54,  1.75it/s, now=None]\u001b[A\u001b[A"
     ]
    },
    {
     "name": "stdout",
     "output_type": "stream",
     "text": [
      "[[[ 100  660]\n",
      "  [ 564  452]\n",
      "  [ 716  452]\n",
      "  [1180  660]]]\n",
      "223.413881871 m 301.167677935 m\n"
     ]
    },
    {
     "name": "stderr",
     "output_type": "stream",
     "text": [
      "\n",
      "\n",
      "t:  37%|███▋      | 181/485 [01:39<02:51,  1.77it/s, now=None]\u001b[A\u001b[A"
     ]
    },
    {
     "name": "stdout",
     "output_type": "stream",
     "text": [
      "[[[ 100  660]\n",
      "  [ 564  452]\n",
      "  [ 716  452]\n",
      "  [1180  660]]]\n",
      "268.923123005 m 294.559493896 m\n"
     ]
    },
    {
     "name": "stderr",
     "output_type": "stream",
     "text": [
      "\n",
      "\n",
      "t:  38%|███▊      | 182/485 [01:40<02:54,  1.73it/s, now=None]\u001b[A\u001b[A"
     ]
    },
    {
     "name": "stdout",
     "output_type": "stream",
     "text": [
      "[[[ 100  660]\n",
      "  [ 564  452]\n",
      "  [ 716  452]\n",
      "  [1180  660]]]\n",
      "258.359434688 m 293.244872319 m\n"
     ]
    },
    {
     "name": "stderr",
     "output_type": "stream",
     "text": [
      "\n",
      "\n",
      "t:  38%|███▊      | 183/485 [01:41<02:51,  1.76it/s, now=None]\u001b[A\u001b[A"
     ]
    },
    {
     "name": "stdout",
     "output_type": "stream",
     "text": [
      "[[[ 100  660]\n",
      "  [ 564  452]\n",
      "  [ 716  452]\n",
      "  [1180  660]]]\n",
      "269.379375724 m 300.733904639 m\n"
     ]
    },
    {
     "name": "stderr",
     "output_type": "stream",
     "text": [
      "\n",
      "\n",
      "t:  38%|███▊      | 184/485 [01:41<02:54,  1.73it/s, now=None]\u001b[A\u001b[A"
     ]
    },
    {
     "name": "stdout",
     "output_type": "stream",
     "text": [
      "[[[ 100  660]\n",
      "  [ 564  452]\n",
      "  [ 716  452]\n",
      "  [1180  660]]]\n",
      "244.619528205 m 257.012985306 m\n"
     ]
    },
    {
     "name": "stderr",
     "output_type": "stream",
     "text": [
      "\n",
      "\n",
      "t:  38%|███▊      | 185/485 [01:42<02:54,  1.72it/s, now=None]\u001b[A\u001b[A"
     ]
    },
    {
     "name": "stdout",
     "output_type": "stream",
     "text": [
      "[[[ 100  660]\n",
      "  [ 564  452]\n",
      "  [ 716  452]\n",
      "  [1180  660]]]\n",
      "239.898970903 m 260.657260636 m\n"
     ]
    },
    {
     "name": "stderr",
     "output_type": "stream",
     "text": [
      "\n",
      "\n",
      "t:  38%|███▊      | 186/485 [01:42<02:51,  1.74it/s, now=None]\u001b[A\u001b[A"
     ]
    },
    {
     "name": "stdout",
     "output_type": "stream",
     "text": [
      "[[[ 100  660]\n",
      "  [ 564  452]\n",
      "  [ 716  452]\n",
      "  [1180  660]]]\n",
      "223.529518693 m 262.410265488 m\n"
     ]
    },
    {
     "name": "stderr",
     "output_type": "stream",
     "text": [
      "\n",
      "\n",
      "t:  39%|███▊      | 187/485 [01:43<02:47,  1.78it/s, now=None]\u001b[A\u001b[A"
     ]
    },
    {
     "name": "stdout",
     "output_type": "stream",
     "text": [
      "[[[ 100  660]\n",
      "  [ 564  452]\n",
      "  [ 716  452]\n",
      "  [1180  660]]]\n",
      "244.516795923 m 211.967799718 m\n"
     ]
    },
    {
     "name": "stderr",
     "output_type": "stream",
     "text": [
      "\n",
      "\n",
      "t:  39%|███▉      | 188/485 [01:43<02:48,  1.76it/s, now=None]\u001b[A\u001b[A"
     ]
    },
    {
     "name": "stdout",
     "output_type": "stream",
     "text": [
      "[[[ 100  660]\n",
      "  [ 564  452]\n",
      "  [ 716  452]\n",
      "  [1180  660]]]\n",
      "223.331416307 m 198.25808635 m\n"
     ]
    },
    {
     "name": "stderr",
     "output_type": "stream",
     "text": [
      "\n",
      "\n",
      "t:  39%|███▉      | 189/485 [01:44<02:47,  1.77it/s, now=None]\u001b[A\u001b[A"
     ]
    },
    {
     "name": "stdout",
     "output_type": "stream",
     "text": [
      "[[[ 100  660]\n",
      "  [ 564  452]\n",
      "  [ 716  452]\n",
      "  [1180  660]]]\n"
     ]
    },
    {
     "name": "stderr",
     "output_type": "stream",
     "text": [
      "\n",
      "\n",
      "t:  39%|███▉      | 190/485 [01:45<02:52,  1.71it/s, now=None]\u001b[A\u001b[A"
     ]
    },
    {
     "name": "stdout",
     "output_type": "stream",
     "text": [
      "317.144457408 m 196.182339986 m\n",
      "[[[ 100  660]\n",
      "  [ 564  452]\n",
      "  [ 716  452]\n",
      "  [1180  660]]]\n",
      "200.083864394 m 189.138519312 m\n"
     ]
    },
    {
     "name": "stderr",
     "output_type": "stream",
     "text": [
      "\n",
      "\n",
      "t:  39%|███▉      | 191/485 [01:45<02:46,  1.76it/s, now=None]\u001b[A\u001b[A"
     ]
    },
    {
     "name": "stdout",
     "output_type": "stream",
     "text": [
      "[[[ 100  660]\n",
      "  [ 564  452]\n",
      "  [ 716  452]\n",
      "  [1180  660]]]\n",
      "335.671049098 m 196.291545045 m\n"
     ]
    },
    {
     "name": "stderr",
     "output_type": "stream",
     "text": [
      "\n",
      "\n",
      "t:  40%|███▉      | 192/485 [01:46<02:47,  1.75it/s, now=None]\u001b[A\u001b[A"
     ]
    },
    {
     "name": "stdout",
     "output_type": "stream",
     "text": [
      "[[[ 100  660]\n",
      "  [ 564  452]\n",
      "  [ 716  452]\n",
      "  [1180  660]]]\n",
      "199.826688923 m 209.787612317 m\n"
     ]
    },
    {
     "name": "stderr",
     "output_type": "stream",
     "text": [
      "\n",
      "\n",
      "t:  40%|███▉      | 193/485 [01:46<02:45,  1.76it/s, now=None]\u001b[A\u001b[A"
     ]
    },
    {
     "name": "stdout",
     "output_type": "stream",
     "text": [
      "[[[ 100  660]\n",
      "  [ 564  452]\n",
      "  [ 716  452]\n",
      "  [1180  660]]]\n",
      "317.892750162 m 224.651065518 m\n"
     ]
    },
    {
     "name": "stderr",
     "output_type": "stream",
     "text": [
      "\n",
      "\n",
      "t:  40%|████      | 194/485 [01:47<02:43,  1.78it/s, now=None]\u001b[A\u001b[A"
     ]
    },
    {
     "name": "stdout",
     "output_type": "stream",
     "text": [
      "[[[ 100  660]\n",
      "  [ 564  452]\n",
      "  [ 716  452]\n",
      "  [1180  660]]]\n",
      "181.960555231 m 206.044653158 m\n"
     ]
    },
    {
     "name": "stderr",
     "output_type": "stream",
     "text": [
      "\n",
      "\n",
      "t:  40%|████      | 195/485 [01:47<02:41,  1.79it/s, now=None]\u001b[A\u001b[A"
     ]
    },
    {
     "name": "stdout",
     "output_type": "stream",
     "text": [
      "[[[ 100  660]\n",
      "  [ 564  452]\n",
      "  [ 716  452]\n",
      "  [1180  660]]]\n"
     ]
    },
    {
     "name": "stderr",
     "output_type": "stream",
     "text": [
      "\n",
      "\n",
      "t:  40%|████      | 196/485 [01:48<02:49,  1.70it/s, now=None]\u001b[A\u001b[A"
     ]
    },
    {
     "name": "stdout",
     "output_type": "stream",
     "text": [
      "167.445187804 m 199.327456689 m\n",
      "[[[ 100  660]\n",
      "  [ 564  452]\n",
      "  [ 716  452]\n",
      "  [1180  660]]]\n",
      "162.195010991 m 203.478204288 m\n"
     ]
    },
    {
     "name": "stderr",
     "output_type": "stream",
     "text": [
      "\n",
      "\n",
      "t:  41%|████      | 197/485 [01:49<02:49,  1.70it/s, now=None]\u001b[A\u001b[A"
     ]
    },
    {
     "name": "stdout",
     "output_type": "stream",
     "text": [
      "[[[ 100  660]\n",
      "  [ 564  452]\n",
      "  [ 716  452]\n",
      "  [1180  660]]]\n",
      "161.205873966 m 193.428434478 m\n"
     ]
    },
    {
     "name": "stderr",
     "output_type": "stream",
     "text": [
      "\n",
      "\n",
      "t:  41%|████      | 198/485 [01:49<02:44,  1.74it/s, now=None]\u001b[A\u001b[A"
     ]
    },
    {
     "name": "stdout",
     "output_type": "stream",
     "text": [
      "[[[ 100  660]\n",
      "  [ 564  452]\n",
      "  [ 716  452]\n",
      "  [1180  660]]]\n",
      "169.302052189 m 190.360312268 m\n"
     ]
    },
    {
     "name": "stderr",
     "output_type": "stream",
     "text": [
      "\n",
      "\n",
      "t:  41%|████      | 199/485 [01:50<02:41,  1.77it/s, now=None]\u001b[A\u001b[A"
     ]
    },
    {
     "name": "stdout",
     "output_type": "stream",
     "text": [
      "[[[ 100  660]\n",
      "  [ 564  452]\n",
      "  [ 716  452]\n",
      "  [1180  660]]]\n"
     ]
    },
    {
     "name": "stderr",
     "output_type": "stream",
     "text": [
      "\n",
      "\n",
      "t:  41%|████      | 200/485 [01:50<02:50,  1.68it/s, now=None]\u001b[A\u001b[A"
     ]
    },
    {
     "name": "stdout",
     "output_type": "stream",
     "text": [
      "189.239196919 m 191.687767826 m\n",
      "[[[ 100  660]\n",
      "  [ 564  452]\n",
      "  [ 716  452]\n",
      "  [1180  660]]]\n",
      "180.635853046 m 189.960184703 m\n"
     ]
    },
    {
     "name": "stderr",
     "output_type": "stream",
     "text": [
      "\n",
      "\n",
      "t:  41%|████▏     | 201/485 [01:51<02:46,  1.70it/s, now=None]\u001b[A\u001b[A"
     ]
    },
    {
     "name": "stdout",
     "output_type": "stream",
     "text": [
      "[[[ 100  660]\n",
      "  [ 564  452]\n",
      "  [ 716  452]\n",
      "  [1180  660]]]\n",
      "236.762840708 m 159.439253475 m\n"
     ]
    },
    {
     "name": "stderr",
     "output_type": "stream",
     "text": [
      "\n",
      "\n",
      "t:  42%|████▏     | 202/485 [01:51<02:43,  1.73it/s, now=None]\u001b[A\u001b[A"
     ]
    },
    {
     "name": "stdout",
     "output_type": "stream",
     "text": [
      "[[[ 100  660]\n",
      "  [ 564  452]\n",
      "  [ 716  452]\n",
      "  [1180  660]]]\n",
      "257.621943322 m 168.436120871 m\n"
     ]
    },
    {
     "name": "stderr",
     "output_type": "stream",
     "text": [
      "\n",
      "\n",
      "t:  42%|████▏     | 203/485 [01:52<02:38,  1.78it/s, now=None]\u001b[A\u001b[A"
     ]
    },
    {
     "name": "stdout",
     "output_type": "stream",
     "text": [
      "[[[ 100  660]\n",
      "  [ 564  452]\n",
      "  [ 716  452]\n",
      "  [1180  660]]]\n",
      "219.056321166 m 178.239272812 m\n"
     ]
    },
    {
     "name": "stderr",
     "output_type": "stream",
     "text": [
      "\n",
      "\n",
      "t:  42%|████▏     | 204/485 [01:53<02:40,  1.75it/s, now=None]\u001b[A\u001b[A"
     ]
    },
    {
     "name": "stdout",
     "output_type": "stream",
     "text": [
      "[[[ 100  660]\n",
      "  [ 564  452]\n",
      "  [ 716  452]\n",
      "  [1180  660]]]\n",
      "219.327894253 m 187.156707496 m\n"
     ]
    },
    {
     "name": "stderr",
     "output_type": "stream",
     "text": [
      "\n",
      "\n",
      "t:  42%|████▏     | 205/485 [01:53<02:42,  1.72it/s, now=None]\u001b[A\u001b[A"
     ]
    },
    {
     "name": "stdout",
     "output_type": "stream",
     "text": [
      "[[[ 100  660]\n",
      "  [ 564  452]\n",
      "  [ 716  452]\n",
      "  [1180  660]]]\n",
      "208.309540477 m 178.05767526 m\n"
     ]
    },
    {
     "name": "stderr",
     "output_type": "stream",
     "text": [
      "\n",
      "\n",
      "t:  42%|████▏     | 206/485 [01:54<02:39,  1.75it/s, now=None]\u001b[A\u001b[A"
     ]
    },
    {
     "name": "stdout",
     "output_type": "stream",
     "text": [
      "[[[ 100  660]\n",
      "  [ 564  452]\n",
      "  [ 716  452]\n",
      "  [1180  660]]]\n",
      "240.528610982 m 192.03100377 m\n"
     ]
    },
    {
     "name": "stderr",
     "output_type": "stream",
     "text": [
      "\n",
      "\n",
      "t:  43%|████▎     | 207/485 [01:54<02:34,  1.80it/s, now=None]\u001b[A\u001b[A"
     ]
    },
    {
     "name": "stdout",
     "output_type": "stream",
     "text": [
      "[[[ 100  660]\n",
      "  [ 564  452]\n",
      "  [ 716  452]\n",
      "  [1180  660]]]\n"
     ]
    },
    {
     "name": "stderr",
     "output_type": "stream",
     "text": [
      "\n",
      "\n",
      "t:  43%|████▎     | 208/485 [01:55<02:42,  1.70it/s, now=None]\u001b[A\u001b[A"
     ]
    },
    {
     "name": "stdout",
     "output_type": "stream",
     "text": [
      "209.613986309 m 182.715394128 m\n",
      "[[[ 100  660]\n",
      "  [ 564  452]\n",
      "  [ 716  452]\n",
      "  [1180  660]]]\n",
      "406.589355261 m 188.16394036 m\n"
     ]
    },
    {
     "name": "stderr",
     "output_type": "stream",
     "text": [
      "\n",
      "\n",
      "t:  43%|████▎     | 209/485 [01:55<02:39,  1.73it/s, now=None]\u001b[A\u001b[A"
     ]
    },
    {
     "name": "stdout",
     "output_type": "stream",
     "text": [
      "[[[ 100  660]\n",
      "  [ 564  452]\n",
      "  [ 716  452]\n",
      "  [1180  660]]]\n",
      "487.127798003 m 220.948507523 m\n"
     ]
    },
    {
     "name": "stderr",
     "output_type": "stream",
     "text": [
      "\n",
      "\n",
      "t:  43%|████▎     | 210/485 [01:56<02:36,  1.76it/s, now=None]\u001b[A\u001b[A"
     ]
    },
    {
     "name": "stdout",
     "output_type": "stream",
     "text": [
      "[[[ 100  660]\n",
      "  [ 564  452]\n",
      "  [ 716  452]\n",
      "  [1180  660]]]\n",
      "118.803582753 m 222.062005047 m\n"
     ]
    },
    {
     "name": "stderr",
     "output_type": "stream",
     "text": [
      "\n",
      "\n",
      "t:  44%|████▎     | 211/485 [01:57<02:32,  1.80it/s, now=None]\u001b[A\u001b[A"
     ]
    },
    {
     "name": "stdout",
     "output_type": "stream",
     "text": [
      "[[[ 100  660]\n",
      "  [ 564  452]\n",
      "  [ 716  452]\n",
      "  [1180  660]]]\n"
     ]
    },
    {
     "name": "stderr",
     "output_type": "stream",
     "text": [
      "\n",
      "\n",
      "t:  44%|████▎     | 212/485 [01:57<02:41,  1.70it/s, now=None]\u001b[A\u001b[A"
     ]
    },
    {
     "name": "stdout",
     "output_type": "stream",
     "text": [
      "154.460400003 m 218.493130313 m\n",
      "[[[ 100  660]\n",
      "  [ 564  452]\n",
      "  [ 716  452]\n",
      "  [1180  660]]]\n",
      "149.118291719 m 202.391085316 m\n"
     ]
    },
    {
     "name": "stderr",
     "output_type": "stream",
     "text": [
      "\n",
      "\n",
      "t:  44%|████▍     | 213/485 [01:58<02:38,  1.72it/s, now=None]\u001b[A\u001b[A"
     ]
    },
    {
     "name": "stdout",
     "output_type": "stream",
     "text": [
      "[[[ 100  660]\n",
      "  [ 564  452]\n",
      "  [ 716  452]\n",
      "  [1180  660]]]\n",
      "125.010495189 m 186.610404469 m\n"
     ]
    },
    {
     "name": "stderr",
     "output_type": "stream",
     "text": [
      "\n",
      "\n",
      "t:  44%|████▍     | 214/485 [01:58<02:35,  1.75it/s, now=None]\u001b[A\u001b[A"
     ]
    },
    {
     "name": "stdout",
     "output_type": "stream",
     "text": [
      "[[[ 100  660]\n",
      "  [ 564  452]\n",
      "  [ 716  452]\n",
      "  [1180  660]]]\n",
      "138.511521507 m 184.529474151 m\n"
     ]
    },
    {
     "name": "stderr",
     "output_type": "stream",
     "text": [
      "\n",
      "\n",
      "t:  44%|████▍     | 215/485 [01:59<02:31,  1.78it/s, now=None]\u001b[A\u001b[A"
     ]
    },
    {
     "name": "stdout",
     "output_type": "stream",
     "text": [
      "[[[ 100  660]\n",
      "  [ 564  452]\n",
      "  [ 716  452]\n",
      "  [1180  660]]]\n"
     ]
    },
    {
     "name": "stderr",
     "output_type": "stream",
     "text": [
      "\n",
      "\n",
      "t:  45%|████▍     | 216/485 [02:00<02:39,  1.69it/s, now=None]\u001b[A\u001b[A"
     ]
    },
    {
     "name": "stdout",
     "output_type": "stream",
     "text": [
      "144.247025346 m 188.186074953 m\n",
      "[[[ 100  660]\n",
      "  [ 564  452]\n",
      "  [ 716  452]\n",
      "  [1180  660]]]\n",
      "171.719313476 m 184.445550462 m\n"
     ]
    },
    {
     "name": "stderr",
     "output_type": "stream",
     "text": [
      "\n",
      "\n",
      "t:  45%|████▍     | 217/485 [02:00<02:36,  1.71it/s, now=None]\u001b[A\u001b[A"
     ]
    },
    {
     "name": "stdout",
     "output_type": "stream",
     "text": [
      "[[[ 100  660]\n",
      "  [ 564  452]\n",
      "  [ 716  452]\n",
      "  [1180  660]]]\n",
      "164.534955848 m 179.663316609 m\n"
     ]
    },
    {
     "name": "stderr",
     "output_type": "stream",
     "text": [
      "\n",
      "\n",
      "t:  45%|████▍     | 218/485 [02:01<02:39,  1.67it/s, now=None]\u001b[A\u001b[A"
     ]
    },
    {
     "name": "stdout",
     "output_type": "stream",
     "text": [
      "[[[ 100  660]\n",
      "  [ 564  452]\n",
      "  [ 716  452]\n",
      "  [1180  660]]]\n",
      "137.958092392 m 178.196901859 m\n"
     ]
    },
    {
     "name": "stderr",
     "output_type": "stream",
     "text": [
      "\n",
      "\n",
      "t:  45%|████▌     | 219/485 [02:01<02:32,  1.74it/s, now=None]\u001b[A\u001b[A"
     ]
    },
    {
     "name": "stdout",
     "output_type": "stream",
     "text": [
      "[[[ 100  660]\n",
      "  [ 564  452]\n",
      "  [ 716  452]\n",
      "  [1180  660]]]\n",
      "131.308550267 m 196.809203539 m\n"
     ]
    },
    {
     "name": "stderr",
     "output_type": "stream",
     "text": [
      "\n",
      "\n",
      "t:  45%|████▌     | 220/485 [02:02<02:28,  1.78it/s, now=None]\u001b[A\u001b[A"
     ]
    },
    {
     "name": "stdout",
     "output_type": "stream",
     "text": [
      "[[[ 100  660]\n",
      "  [ 564  452]\n",
      "  [ 716  452]\n",
      "  [1180  660]]]\n",
      "154.243153238 m 213.675584838 m\n"
     ]
    },
    {
     "name": "stderr",
     "output_type": "stream",
     "text": [
      "\n",
      "\n",
      "t:  46%|████▌     | 221/485 [02:02<02:26,  1.80it/s, now=None]\u001b[A\u001b[A"
     ]
    },
    {
     "name": "stdout",
     "output_type": "stream",
     "text": [
      "[[[ 100  660]\n",
      "  [ 564  452]\n",
      "  [ 716  452]\n",
      "  [1180  660]]]\n",
      "171.678287839 m 194.155969308 m\n"
     ]
    },
    {
     "name": "stderr",
     "output_type": "stream",
     "text": [
      "\n",
      "\n",
      "t:  46%|████▌     | 222/485 [02:03<02:28,  1.77it/s, now=None]\u001b[A\u001b[A"
     ]
    },
    {
     "name": "stdout",
     "output_type": "stream",
     "text": [
      "[[[ 100  660]\n",
      "  [ 564  452]\n",
      "  [ 716  452]\n",
      "  [1180  660]]]\n",
      "153.989031593 m 212.738784139 m\n"
     ]
    },
    {
     "name": "stderr",
     "output_type": "stream",
     "text": [
      "\n",
      "\n",
      "t:  46%|████▌     | 223/485 [02:03<02:30,  1.74it/s, now=None]\u001b[A\u001b[A"
     ]
    },
    {
     "name": "stdout",
     "output_type": "stream",
     "text": [
      "[[[ 100  660]\n",
      "  [ 564  452]\n",
      "  [ 716  452]\n",
      "  [1180  660]]]\n",
      "179.681784762 m 231.34479943 m\n"
     ]
    },
    {
     "name": "stderr",
     "output_type": "stream",
     "text": [
      "\n",
      "\n",
      "t:  46%|████▌     | 224/485 [02:04<02:28,  1.76it/s, now=None]\u001b[A\u001b[A"
     ]
    },
    {
     "name": "stdout",
     "output_type": "stream",
     "text": [
      "[[[ 100  660]\n",
      "  [ 564  452]\n",
      "  [ 716  452]\n",
      "  [1180  660]]]\n",
      "199.650984192 m 234.370421047 m\n"
     ]
    },
    {
     "name": "stderr",
     "output_type": "stream",
     "text": [
      "\n",
      "\n",
      "t:  46%|████▋     | 225/485 [02:05<02:24,  1.79it/s, now=None]\u001b[A\u001b[A"
     ]
    },
    {
     "name": "stdout",
     "output_type": "stream",
     "text": [
      "[[[ 100  660]\n",
      "  [ 564  452]\n",
      "  [ 716  452]\n",
      "  [1180  660]]]\n"
     ]
    },
    {
     "name": "stderr",
     "output_type": "stream",
     "text": [
      "\n",
      "\n",
      "t:  47%|████▋     | 226/485 [02:05<02:34,  1.68it/s, now=None]\u001b[A\u001b[A"
     ]
    },
    {
     "name": "stdout",
     "output_type": "stream",
     "text": [
      "205.248552367 m 202.936844322 m\n",
      "[[[ 100  660]\n",
      "  [ 564  452]\n",
      "  [ 716  452]\n",
      "  [1180  660]]]\n",
      "202.211123848 m 211.430029893 m\n"
     ]
    },
    {
     "name": "stderr",
     "output_type": "stream",
     "text": [
      "\n",
      "\n",
      "t:  47%|████▋     | 227/485 [02:06<02:31,  1.70it/s, now=None]\u001b[A\u001b[A"
     ]
    },
    {
     "name": "stdout",
     "output_type": "stream",
     "text": [
      "[[[ 100  660]\n",
      "  [ 564  452]\n",
      "  [ 716  452]\n",
      "  [1180  660]]]\n",
      "199.418917489 m 222.809768994 m\n"
     ]
    },
    {
     "name": "stderr",
     "output_type": "stream",
     "text": [
      "\n",
      "\n",
      "t:  47%|████▋     | 228/485 [02:06<02:25,  1.77it/s, now=None]\u001b[A\u001b[A"
     ]
    },
    {
     "name": "stdout",
     "output_type": "stream",
     "text": [
      "[[[ 100  660]\n",
      "  [ 564  452]\n",
      "  [ 716  452]\n",
      "  [1180  660]]]\n",
      "189.791625823 m 188.485233141 m\n"
     ]
    },
    {
     "name": "stderr",
     "output_type": "stream",
     "text": [
      "\n",
      "\n",
      "t:  47%|████▋     | 229/485 [02:07<02:21,  1.80it/s, now=None]\u001b[A\u001b[A"
     ]
    },
    {
     "name": "stdout",
     "output_type": "stream",
     "text": [
      "[[[ 100  660]\n",
      "  [ 564  452]\n",
      "  [ 716  452]\n",
      "  [1180  660]]]\n"
     ]
    },
    {
     "name": "stderr",
     "output_type": "stream",
     "text": [
      "\n",
      "\n",
      "t:  47%|████▋     | 230/485 [02:08<02:35,  1.64it/s, now=None]\u001b[A\u001b[A"
     ]
    },
    {
     "name": "stdout",
     "output_type": "stream",
     "text": [
      "211.415701248 m 204.725905761 m\n",
      "[[[ 100  660]\n",
      "  [ 564  452]\n",
      "  [ 716  452]\n",
      "  [1180  660]]]\n",
      "250.325117181 m 221.869324481 m\n"
     ]
    },
    {
     "name": "stderr",
     "output_type": "stream",
     "text": [
      "\n",
      "\n",
      "t:  48%|████▊     | 231/485 [02:08<02:35,  1.63it/s, now=None]\u001b[A\u001b[A"
     ]
    },
    {
     "name": "stdout",
     "output_type": "stream",
     "text": [
      "[[[ 100  660]\n",
      "  [ 564  452]\n",
      "  [ 716  452]\n",
      "  [1180  660]]]\n",
      "251.594283261 m 213.973107765 m\n"
     ]
    },
    {
     "name": "stderr",
     "output_type": "stream",
     "text": [
      "\n",
      "\n",
      "t:  48%|████▊     | 232/485 [02:09<02:35,  1.63it/s, now=None]\u001b[A\u001b[A"
     ]
    },
    {
     "name": "stdout",
     "output_type": "stream",
     "text": [
      "[[[ 100  660]\n",
      "  [ 564  452]\n",
      "  [ 716  452]\n",
      "  [1180  660]]]\n",
      "314.073149221 m 238.63028231 m\n"
     ]
    },
    {
     "name": "stderr",
     "output_type": "stream",
     "text": [
      "\n",
      "\n",
      "t:  48%|████▊     | 233/485 [02:09<02:28,  1.70it/s, now=None]\u001b[A\u001b[A"
     ]
    },
    {
     "name": "stdout",
     "output_type": "stream",
     "text": [
      "[[[ 100  660]\n",
      "  [ 564  452]\n",
      "  [ 716  452]\n",
      "  [1180  660]]]\n",
      "938.978381426 m 229.913523743 m\n"
     ]
    },
    {
     "name": "stderr",
     "output_type": "stream",
     "text": [
      "\n",
      "\n",
      "t:  48%|████▊     | 234/485 [02:10<02:27,  1.70it/s, now=None]\u001b[A\u001b[A"
     ]
    },
    {
     "name": "stdout",
     "output_type": "stream",
     "text": [
      "[[[ 100  660]\n",
      "  [ 564  452]\n",
      "  [ 716  452]\n",
      "  [1180  660]]]\n",
      "828.277935521 m 235.232839135 m\n"
     ]
    },
    {
     "name": "stderr",
     "output_type": "stream",
     "text": [
      "\n",
      "\n",
      "t:  48%|████▊     | 235/485 [02:10<02:21,  1.77it/s, now=None]\u001b[A\u001b[A"
     ]
    },
    {
     "name": "stdout",
     "output_type": "stream",
     "text": [
      "[[[ 100  660]\n",
      "  [ 564  452]\n",
      "  [ 716  452]\n",
      "  [1180  660]]]\n"
     ]
    },
    {
     "name": "stderr",
     "output_type": "stream",
     "text": [
      "\n",
      "\n",
      "t:  49%|████▊     | 236/485 [02:11<02:27,  1.69it/s, now=None]\u001b[A\u001b[A"
     ]
    },
    {
     "name": "stdout",
     "output_type": "stream",
     "text": [
      "897.532208862 m 221.245211522 m\n",
      "[[[ 100  660]\n",
      "  [ 564  452]\n",
      "  [ 716  452]\n",
      "  [1180  660]]]\n",
      "1037.32481215 m 250.190067636 m\n"
     ]
    },
    {
     "name": "stderr",
     "output_type": "stream",
     "text": [
      "\n",
      "\n",
      "t:  49%|████▉     | 237/485 [02:12<02:24,  1.72it/s, now=None]\u001b[A\u001b[A"
     ]
    },
    {
     "name": "stdout",
     "output_type": "stream",
     "text": [
      "[[[ 100  660]\n",
      "  [ 564  452]\n",
      "  [ 716  452]\n",
      "  [1180  660]]]\n",
      "368.409434655 m 188.583623091 m\n"
     ]
    },
    {
     "name": "stderr",
     "output_type": "stream",
     "text": [
      "\n",
      "\n",
      "t:  49%|████▉     | 238/485 [02:12<02:19,  1.78it/s, now=None]\u001b[A\u001b[A"
     ]
    },
    {
     "name": "stdout",
     "output_type": "stream",
     "text": [
      "[[[ 100  660]\n",
      "  [ 564  452]\n",
      "  [ 716  452]\n",
      "  [1180  660]]]\n",
      "265.602030168 m 231.425439482 m\n"
     ]
    },
    {
     "name": "stderr",
     "output_type": "stream",
     "text": [
      "\n",
      "\n",
      "t:  49%|████▉     | 239/485 [02:13<02:16,  1.81it/s, now=None]\u001b[A\u001b[A"
     ]
    },
    {
     "name": "stdout",
     "output_type": "stream",
     "text": [
      "[[[ 100  660]\n",
      "  [ 564  452]\n",
      "  [ 716  452]\n",
      "  [1180  660]]]\n"
     ]
    },
    {
     "name": "stderr",
     "output_type": "stream",
     "text": [
      "\n",
      "\n",
      "t:  49%|████▉     | 240/485 [02:13<02:21,  1.74it/s, now=None]\u001b[A\u001b[A"
     ]
    },
    {
     "name": "stdout",
     "output_type": "stream",
     "text": [
      "524.530969301 m 204.639286424 m\n",
      "[[[ 100  660]\n",
      "  [ 564  452]\n",
      "  [ 716  452]\n",
      "  [1180  660]]]\n",
      "482.983298746 m 237.710440602 m\n"
     ]
    },
    {
     "name": "stderr",
     "output_type": "stream",
     "text": [
      "\n",
      "\n",
      "t:  50%|████▉     | 241/485 [02:14<02:20,  1.73it/s, now=None]\u001b[A\u001b[A"
     ]
    },
    {
     "name": "stdout",
     "output_type": "stream",
     "text": [
      "[[[ 100  660]\n",
      "  [ 564  452]\n",
      "  [ 716  452]\n",
      "  [1180  660]]]\n",
      "394.998726118 m 205.238172175 m\n"
     ]
    },
    {
     "name": "stderr",
     "output_type": "stream",
     "text": [
      "\n",
      "\n",
      "t:  50%|████▉     | 242/485 [02:14<02:17,  1.77it/s, now=None]\u001b[A\u001b[A"
     ]
    },
    {
     "name": "stdout",
     "output_type": "stream",
     "text": [
      "[[[ 100  660]\n",
      "  [ 564  452]\n",
      "  [ 716  452]\n",
      "  [1180  660]]]\n",
      "272.062474232 m 223.620924452 m\n"
     ]
    },
    {
     "name": "stderr",
     "output_type": "stream",
     "text": [
      "\n",
      "\n",
      "t:  50%|█████     | 243/485 [02:15<02:14,  1.80it/s, now=None]\u001b[A\u001b[A"
     ]
    },
    {
     "name": "stdout",
     "output_type": "stream",
     "text": [
      "[[[ 100  660]\n",
      "  [ 564  452]\n",
      "  [ 716  452]\n",
      "  [1180  660]]]\n"
     ]
    },
    {
     "name": "stderr",
     "output_type": "stream",
     "text": [
      "\n",
      "\n",
      "t:  50%|█████     | 244/485 [02:16<02:17,  1.76it/s, now=None]\u001b[A\u001b[A"
     ]
    },
    {
     "name": "stdout",
     "output_type": "stream",
     "text": [
      "276.714345525 m 227.110795009 m\n",
      "[[[ 100  660]\n",
      "  [ 564  452]\n",
      "  [ 716  452]\n",
      "  [1180  660]]]\n",
      "243.298000476 m 186.821941534 m\n"
     ]
    },
    {
     "name": "stderr",
     "output_type": "stream",
     "text": [
      "\n",
      "\n",
      "t:  51%|█████     | 245/485 [02:16<02:20,  1.71it/s, now=None]\u001b[A\u001b[A"
     ]
    },
    {
     "name": "stdout",
     "output_type": "stream",
     "text": [
      "[[[ 100  660]\n",
      "  [ 564  452]\n",
      "  [ 716  452]\n",
      "  [1180  660]]]\n",
      "290.258177684 m 181.717431539 m\n"
     ]
    },
    {
     "name": "stderr",
     "output_type": "stream",
     "text": [
      "\n",
      "\n",
      "t:  51%|█████     | 246/485 [02:17<02:15,  1.76it/s, now=None]\u001b[A\u001b[A"
     ]
    },
    {
     "name": "stdout",
     "output_type": "stream",
     "text": [
      "[[[ 100  660]\n",
      "  [ 564  452]\n",
      "  [ 716  452]\n",
      "  [1180  660]]]\n",
      "379.037403844 m 254.558822576 m\n"
     ]
    },
    {
     "name": "stderr",
     "output_type": "stream",
     "text": [
      "\n",
      "\n",
      "t:  51%|█████     | 247/485 [02:17<02:11,  1.81it/s, now=None]\u001b[A\u001b[A"
     ]
    },
    {
     "name": "stdout",
     "output_type": "stream",
     "text": [
      "[[[ 100  660]\n",
      "  [ 564  452]\n",
      "  [ 716  452]\n",
      "  [1180  660]]]\n"
     ]
    },
    {
     "name": "stderr",
     "output_type": "stream",
     "text": [
      "\n",
      "\n",
      "t:  51%|█████     | 248/485 [02:18<02:19,  1.70it/s, now=None]\u001b[A\u001b[A"
     ]
    },
    {
     "name": "stdout",
     "output_type": "stream",
     "text": [
      "285.174289934 m 187.188925706 m\n",
      "[[[ 100  660]\n",
      "  [ 564  452]\n",
      "  [ 716  452]\n",
      "  [1180  660]]]\n",
      "166.671937866 m 229.763841313 m\n"
     ]
    },
    {
     "name": "stderr",
     "output_type": "stream",
     "text": [
      "\n",
      "\n",
      "t:  51%|█████▏    | 249/485 [02:19<02:17,  1.71it/s, now=None]\u001b[A\u001b[A"
     ]
    },
    {
     "name": "stdout",
     "output_type": "stream",
     "text": [
      "[[[ 100  660]\n",
      "  [ 564  452]\n",
      "  [ 716  452]\n",
      "  [1180  660]]]\n",
      "136.937025538 m 217.414605339 m\n"
     ]
    },
    {
     "name": "stderr",
     "output_type": "stream",
     "text": [
      "\n",
      "\n",
      "t:  52%|█████▏    | 250/485 [02:19<02:15,  1.73it/s, now=None]\u001b[A\u001b[A"
     ]
    },
    {
     "name": "stdout",
     "output_type": "stream",
     "text": [
      "[[[ 100  660]\n",
      "  [ 564  452]\n",
      "  [ 716  452]\n",
      "  [1180  660]]]\n",
      "154.064995773 m 245.287424579 m\n"
     ]
    },
    {
     "name": "stderr",
     "output_type": "stream",
     "text": [
      "\n",
      "\n",
      "t:  52%|█████▏    | 251/485 [02:20<02:11,  1.78it/s, now=None]\u001b[A\u001b[A"
     ]
    },
    {
     "name": "stdout",
     "output_type": "stream",
     "text": [
      "[[[ 100  660]\n",
      "  [ 564  452]\n",
      "  [ 716  452]\n",
      "  [1180  660]]]\n",
      "136.845629187 m 249.807378337 m\n"
     ]
    },
    {
     "name": "stderr",
     "output_type": "stream",
     "text": [
      "\n",
      "\n",
      "t:  52%|█████▏    | 252/485 [02:20<02:08,  1.81it/s, now=None]\u001b[A\u001b[A"
     ]
    },
    {
     "name": "stdout",
     "output_type": "stream",
     "text": [
      "[[[ 100  660]\n",
      "  [ 564  452]\n",
      "  [ 716  452]\n",
      "  [1180  660]]]\n",
      "148.520218931 m 225.145803644 m\n"
     ]
    },
    {
     "name": "stderr",
     "output_type": "stream",
     "text": [
      "\n",
      "\n",
      "t:  52%|█████▏    | 253/485 [02:21<02:06,  1.83it/s, now=None]\u001b[A\u001b[A"
     ]
    },
    {
     "name": "stdout",
     "output_type": "stream",
     "text": [
      "[[[ 100  660]\n",
      "  [ 564  452]\n",
      "  [ 716  452]\n",
      "  [1180  660]]]\n"
     ]
    },
    {
     "name": "stderr",
     "output_type": "stream",
     "text": [
      "\n",
      "\n",
      "t:  52%|█████▏    | 254/485 [02:21<02:13,  1.72it/s, now=None]\u001b[A\u001b[A"
     ]
    },
    {
     "name": "stdout",
     "output_type": "stream",
     "text": [
      "151.11392629 m 229.675383259 m\n",
      "[[[ 100  660]\n",
      "  [ 564  452]\n",
      "  [ 716  452]\n",
      "  [1180  660]]]\n",
      "138.668795658 m 231.995320998 m\n"
     ]
    },
    {
     "name": "stderr",
     "output_type": "stream",
     "text": [
      "\n",
      "\n",
      "t:  53%|█████▎    | 255/485 [02:22<02:11,  1.74it/s, now=None]\u001b[A\u001b[A"
     ]
    },
    {
     "name": "stdout",
     "output_type": "stream",
     "text": [
      "[[[ 100  660]\n",
      "  [ 564  452]\n",
      "  [ 716  452]\n",
      "  [1180  660]]]\n",
      "123.972732092 m 211.942085921 m\n"
     ]
    },
    {
     "name": "stderr",
     "output_type": "stream",
     "text": [
      "\n",
      "\n",
      "t:  53%|█████▎    | 256/485 [02:22<02:12,  1.72it/s, now=None]\u001b[A\u001b[A"
     ]
    },
    {
     "name": "stdout",
     "output_type": "stream",
     "text": [
      "[[[ 100  660]\n",
      "  [ 564  452]\n",
      "  [ 716  452]\n",
      "  [1180  660]]]\n",
      "145.246788569 m 182.159670262 m\n"
     ]
    },
    {
     "name": "stderr",
     "output_type": "stream",
     "text": [
      "\n",
      "\n",
      "t:  53%|█████▎    | 257/485 [02:23<02:08,  1.78it/s, now=None]\u001b[A\u001b[A"
     ]
    },
    {
     "name": "stdout",
     "output_type": "stream",
     "text": [
      "[[[ 100  660]\n",
      "  [ 564  452]\n",
      "  [ 716  452]\n",
      "  [1180  660]]]\n",
      "142.808761554 m 194.955588198 m\n"
     ]
    },
    {
     "name": "stderr",
     "output_type": "stream",
     "text": [
      "\n",
      "\n",
      "t:  53%|█████▎    | 258/485 [02:24<02:08,  1.76it/s, now=None]\u001b[A\u001b[A"
     ]
    },
    {
     "name": "stdout",
     "output_type": "stream",
     "text": [
      "[[[ 100  660]\n",
      "  [ 564  452]\n",
      "  [ 716  452]\n",
      "  [1180  660]]]\n",
      "151.809001042 m 173.441414599 m\n"
     ]
    },
    {
     "name": "stderr",
     "output_type": "stream",
     "text": [
      "\n",
      "\n",
      "t:  53%|█████▎    | 259/485 [02:24<02:06,  1.79it/s, now=None]\u001b[A\u001b[A"
     ]
    },
    {
     "name": "stdout",
     "output_type": "stream",
     "text": [
      "[[[ 100  660]\n",
      "  [ 564  452]\n",
      "  [ 716  452]\n",
      "  [1180  660]]]\n",
      "150.554712646 m 178.866054684 m\n"
     ]
    },
    {
     "name": "stderr",
     "output_type": "stream",
     "text": [
      "\n",
      "\n",
      "t:  54%|█████▎    | 260/485 [02:25<02:04,  1.81it/s, now=None]\u001b[A\u001b[A"
     ]
    },
    {
     "name": "stdout",
     "output_type": "stream",
     "text": [
      "[[[ 100  660]\n",
      "  [ 564  452]\n",
      "  [ 716  452]\n",
      "  [1180  660]]]\n",
      "159.78749947 m 195.092729621 m\n"
     ]
    },
    {
     "name": "stderr",
     "output_type": "stream",
     "text": [
      "\n",
      "\n",
      "t:  54%|█████▍    | 261/485 [02:25<02:01,  1.85it/s, now=None]\u001b[A\u001b[A"
     ]
    },
    {
     "name": "stdout",
     "output_type": "stream",
     "text": [
      "[[[ 100  660]\n",
      "  [ 564  452]\n",
      "  [ 716  452]\n",
      "  [1180  660]]]\n",
      "154.373532987"
     ]
    },
    {
     "name": "stderr",
     "output_type": "stream",
     "text": [
      "\n",
      "\n",
      "t:  54%|█████▍    | 262/485 [02:26<02:04,  1.80it/s, now=None]\u001b[A\u001b[A"
     ]
    },
    {
     "name": "stdout",
     "output_type": "stream",
     "text": [
      " m 174.259965799 m\n",
      "[[[ 100  660]\n",
      "  [ 564  452]\n",
      "  [ 716  452]\n",
      "  [1180  660]]]\n",
      "160.562667796 m 164.742584161 m\n"
     ]
    },
    {
     "name": "stderr",
     "output_type": "stream",
     "text": [
      "\n",
      "\n",
      "t:  54%|█████▍    | 263/485 [02:26<02:06,  1.75it/s, now=None]\u001b[A\u001b[A"
     ]
    },
    {
     "name": "stdout",
     "output_type": "stream",
     "text": [
      "[[[ 100  660]\n",
      "  [ 564  452]\n",
      "  [ 716  452]\n",
      "  [1180  660]]]\n",
      "156.672322104 m 172.913320034 m\n"
     ]
    },
    {
     "name": "stderr",
     "output_type": "stream",
     "text": [
      "\n",
      "\n",
      "t:  54%|█████▍    | 264/485 [02:27<02:03,  1.79it/s, now=None]\u001b[A\u001b[A"
     ]
    },
    {
     "name": "stdout",
     "output_type": "stream",
     "text": [
      "[[[ 100  660]\n",
      "  [ 564  452]\n",
      "  [ 716  452]\n",
      "  [1180  660]]]\n",
      "152.742099806 m 166.290265468 m\n"
     ]
    },
    {
     "name": "stderr",
     "output_type": "stream",
     "text": [
      "\n",
      "\n",
      "t:  55%|█████▍    | 265/485 [02:27<01:58,  1.85it/s, now=None]\u001b[A\u001b[A"
     ]
    },
    {
     "name": "stdout",
     "output_type": "stream",
     "text": [
      "[[[ 100  660]\n",
      "  [ 564  452]\n",
      "  [ 716  452]\n",
      "  [1180  660]]]\n",
      "101.573772523 m 183.431968921 m\n"
     ]
    },
    {
     "name": "stderr",
     "output_type": "stream",
     "text": [
      "\n",
      "\n",
      "t:  55%|█████▍    | 266/485 [02:28<02:01,  1.80it/s, now=None]\u001b[A\u001b[A"
     ]
    },
    {
     "name": "stdout",
     "output_type": "stream",
     "text": [
      "[[[ 100  660]\n",
      "  [ 564  452]\n",
      "  [ 716  452]\n",
      "  [1180  660]]]\n",
      "130.71270884 m 974.725469766 m\n"
     ]
    },
    {
     "name": "stderr",
     "output_type": "stream",
     "text": [
      "\n",
      "\n",
      "t:  55%|█████▌    | 267/485 [02:29<02:04,  1.76it/s, now=None]\u001b[A\u001b[A"
     ]
    },
    {
     "name": "stdout",
     "output_type": "stream",
     "text": [
      "[[[ 100  660]\n",
      "  [ 564  452]\n",
      "  [ 716  452]\n",
      "  [1180  660]]]\n",
      "133.591777192 m 1015.90201207 m\n"
     ]
    },
    {
     "name": "stderr",
     "output_type": "stream",
     "text": [
      "\n",
      "\n",
      "t:  55%|█████▌    | 268/485 [02:29<02:00,  1.79it/s, now=None]\u001b[A\u001b[A"
     ]
    },
    {
     "name": "stdout",
     "output_type": "stream",
     "text": [
      "[[[ 100  660]\n",
      "  [ 564  452]\n",
      "  [ 716  452]\n",
      "  [1180  660]]]\n"
     ]
    },
    {
     "name": "stderr",
     "output_type": "stream",
     "text": [
      "\n",
      "\n",
      "t:  55%|█████▌    | 269/485 [02:30<02:04,  1.74it/s, now=None]\u001b[A\u001b[A"
     ]
    },
    {
     "name": "stdout",
     "output_type": "stream",
     "text": [
      "115.109889156 m 217.730832958 m\n",
      "[[[ 100  660]\n",
      "  [ 564  452]\n",
      "  [ 716  452]\n",
      "  [1180  660]]]\n",
      "124.470820337 m 230.839194059 m\n"
     ]
    },
    {
     "name": "stderr",
     "output_type": "stream",
     "text": [
      "\n",
      "\n",
      "t:  56%|█████▌    | 270/485 [02:30<02:02,  1.75it/s, now=None]\u001b[A\u001b[A"
     ]
    },
    {
     "name": "stdout",
     "output_type": "stream",
     "text": [
      "[[[ 100  660]\n",
      "  [ 564  452]\n",
      "  [ 716  452]\n",
      "  [1180  660]]]\n",
      "214.387425721 m 331.983797882 m\n"
     ]
    },
    {
     "name": "stderr",
     "output_type": "stream",
     "text": [
      "\n",
      "\n",
      "t:  56%|█████▌    | 271/485 [02:31<02:00,  1.77it/s, now=None]\u001b[A\u001b[A"
     ]
    },
    {
     "name": "stdout",
     "output_type": "stream",
     "text": [
      "[[[ 100  660]\n",
      "  [ 564  452]\n",
      "  [ 716  452]\n",
      "  [1180  660]]]\n",
      "205.730497526 m 225.453616984 m\n"
     ]
    },
    {
     "name": "stderr",
     "output_type": "stream",
     "text": [
      "\n",
      "\n",
      "t:  56%|█████▌    | 272/485 [02:31<01:57,  1.81it/s, now=None]\u001b[A\u001b[A"
     ]
    },
    {
     "name": "stdout",
     "output_type": "stream",
     "text": [
      "[[[ 100  660]\n",
      "  [ 564  452]\n",
      "  [ 716  452]\n",
      "  [1180  660]]]\n",
      "199.058272476 m 242.876445126 m\n"
     ]
    },
    {
     "name": "stderr",
     "output_type": "stream",
     "text": [
      "\n",
      "\n",
      "t:  56%|█████▋    | 273/485 [02:32<01:59,  1.77it/s, now=None]\u001b[A\u001b[A"
     ]
    },
    {
     "name": "stdout",
     "output_type": "stream",
     "text": [
      "[[[ 100  660]\n",
      "  [ 564  452]\n",
      "  [ 716  452]\n",
      "  [1180  660]]]\n",
      "474.641214967 m 251.390677276 m\n"
     ]
    },
    {
     "name": "stderr",
     "output_type": "stream",
     "text": [
      "\n",
      "\n",
      "t:  56%|█████▋    | 274/485 [02:33<02:01,  1.74it/s, now=None]\u001b[A\u001b[A"
     ]
    },
    {
     "name": "stdout",
     "output_type": "stream",
     "text": [
      "[[[ 100  660]\n",
      "  [ 564  452]\n",
      "  [ 716  452]\n",
      "  [1180  660]]]\n",
      "224.593355427 m 249.08561036 m\n"
     ]
    },
    {
     "name": "stderr",
     "output_type": "stream",
     "text": [
      "\n",
      "\n",
      "t:  57%|█████▋    | 275/485 [02:33<01:57,  1.79it/s, now=None]\u001b[A\u001b[A"
     ]
    },
    {
     "name": "stdout",
     "output_type": "stream",
     "text": [
      "[[[ 100  660]\n",
      "  [ 564  452]\n",
      "  [ 716  452]\n",
      "  [1180  660]]]\n",
      "104.069850766 m 222.438043527 m\n"
     ]
    },
    {
     "name": "stderr",
     "output_type": "stream",
     "text": [
      "\n",
      "\n",
      "t:  57%|█████▋    | 276/485 [02:34<01:53,  1.84it/s, now=None]\u001b[A\u001b[A"
     ]
    },
    {
     "name": "stdout",
     "output_type": "stream",
     "text": [
      "[[[ 100  660]\n",
      "  [ 564  452]\n",
      "  [ 716  452]\n",
      "  [1180  660]]]\n",
      "93.9442690773 m 234.427511232 m\n"
     ]
    },
    {
     "name": "stderr",
     "output_type": "stream",
     "text": [
      "\n",
      "\n",
      "t:  57%|█████▋    | 277/485 [02:34<01:56,  1.79it/s, now=None]\u001b[A\u001b[A"
     ]
    },
    {
     "name": "stdout",
     "output_type": "stream",
     "text": [
      "[[[ 100  660]\n",
      "  [ 564  452]\n",
      "  [ 716  452]\n",
      "  [1180  660]]]\n",
      "97.2076060001 m 235.992053766 m\n"
     ]
    },
    {
     "name": "stderr",
     "output_type": "stream",
     "text": [
      "\n",
      "\n",
      "t:  57%|█████▋    | 278/485 [02:35<01:59,  1.74it/s, now=None]\u001b[A\u001b[A"
     ]
    },
    {
     "name": "stdout",
     "output_type": "stream",
     "text": [
      "[[[ 100  660]\n",
      "  [ 564  452]\n",
      "  [ 716  452]\n",
      "  [1180  660]]]\n",
      "95.3072162975 m 952.591926912 m\n"
     ]
    },
    {
     "name": "stderr",
     "output_type": "stream",
     "text": [
      "\n",
      "\n",
      "t:  58%|█████▊    | 279/485 [02:35<01:55,  1.78it/s, now=None]\u001b[A\u001b[A"
     ]
    },
    {
     "name": "stdout",
     "output_type": "stream",
     "text": [
      "[[[ 100  660]\n",
      "  [ 564  452]\n",
      "  [ 716  452]\n",
      "  [1180  660]]]\n",
      "120.114172614 m 344.447363938 m\n"
     ]
    },
    {
     "name": "stderr",
     "output_type": "stream",
     "text": [
      "\n",
      "\n",
      "t:  58%|█████▊    | 280/485 [02:36<01:53,  1.81it/s, now=None]\u001b[A\u001b[A"
     ]
    },
    {
     "name": "stdout",
     "output_type": "stream",
     "text": [
      "[[[ 100  660]\n",
      "  [ 564  452]\n",
      "  [ 716  452]\n",
      "  [1180  660]]]\n"
     ]
    },
    {
     "name": "stderr",
     "output_type": "stream",
     "text": [
      "\n",
      "\n",
      "t:  58%|█████▊    | 281/485 [02:37<02:01,  1.68it/s, now=None]\u001b[A\u001b[A"
     ]
    },
    {
     "name": "stdout",
     "output_type": "stream",
     "text": [
      "118.573813255 m 1364.40635856 m\n",
      "[[[ 100  660]\n",
      "  [ 564  452]\n",
      "  [ 716  452]\n",
      "  [1180  660]]]\n",
      "137.79395349 m 4469.93736573 m\n"
     ]
    },
    {
     "name": "stderr",
     "output_type": "stream",
     "text": [
      "\n",
      "\n",
      "t:  58%|█████▊    | 282/485 [02:37<01:58,  1.72it/s, now=None]\u001b[A\u001b[A"
     ]
    },
    {
     "name": "stdout",
     "output_type": "stream",
     "text": [
      "[[[ 100  660]\n",
      "  [ 564  452]\n",
      "  [ 716  452]\n",
      "  [1180  660]]]\n",
      "134.201532674 m 2785.2396067 m\n"
     ]
    },
    {
     "name": "stderr",
     "output_type": "stream",
     "text": [
      "\n",
      "\n",
      "t:  58%|█████▊    | 283/485 [02:38<01:55,  1.75it/s, now=None]\u001b[A\u001b[A"
     ]
    },
    {
     "name": "stdout",
     "output_type": "stream",
     "text": [
      "[[[ 100  660]\n",
      "  [ 564  452]\n",
      "  [ 716  452]\n",
      "  [1180  660]]]\n",
      "130.826794087 m 1990.17670256 m\n"
     ]
    },
    {
     "name": "stderr",
     "output_type": "stream",
     "text": [
      "\n",
      "\n",
      "t:  59%|█████▊    | 284/485 [02:38<01:51,  1.80it/s, now=None]\u001b[A\u001b[A"
     ]
    },
    {
     "name": "stdout",
     "output_type": "stream",
     "text": [
      "[[[ 100  660]\n",
      "  [ 564  452]\n",
      "  [ 716  452]\n",
      "  [1180  660]]]\n",
      "228.498081693 m 208.354382059 m\n"
     ]
    },
    {
     "name": "stderr",
     "output_type": "stream",
     "text": [
      "\n",
      "\n",
      "t:  59%|█████▉    | 285/485 [02:39<01:53,  1.76it/s, now=None]\u001b[A\u001b[A"
     ]
    },
    {
     "name": "stdout",
     "output_type": "stream",
     "text": [
      "[[[ 100  660]\n",
      "  [ 564  452]\n",
      "  [ 716  452]\n",
      "  [1180  660]]]\n",
      "253.660891952 m 223.046893818 m\n"
     ]
    },
    {
     "name": "stderr",
     "output_type": "stream",
     "text": [
      "\n",
      "\n",
      "t:  59%|█████▉    | 286/485 [02:39<01:55,  1.72it/s, now=None]\u001b[A\u001b[A"
     ]
    },
    {
     "name": "stdout",
     "output_type": "stream",
     "text": [
      "[[[ 100  660]\n",
      "  [ 564  452]\n",
      "  [ 716  452]\n",
      "  [1180  660]]]\n",
      "264.854962357 m 210.503165427 m\n"
     ]
    },
    {
     "name": "stderr",
     "output_type": "stream",
     "text": [
      "\n",
      "\n",
      "t:  59%|█████▉    | 287/485 [02:40<01:51,  1.78it/s, now=None]\u001b[A\u001b[A"
     ]
    },
    {
     "name": "stdout",
     "output_type": "stream",
     "text": [
      "[[[ 100  660]\n",
      "  [ 564  452]\n",
      "  [ 716  452]\n",
      "  [1180  660]]]\n",
      "243.991556529 m 272.590435342 m\n"
     ]
    },
    {
     "name": "stderr",
     "output_type": "stream",
     "text": [
      "\n",
      "\n",
      "t:  59%|█████▉    | 288/485 [02:40<01:48,  1.81it/s, now=None]\u001b[A\u001b[A"
     ]
    },
    {
     "name": "stdout",
     "output_type": "stream",
     "text": [
      "[[[ 100  660]\n",
      "  [ 564  452]\n",
      "  [ 716  452]\n",
      "  [1180  660]]]\n",
      "284.272834786 m 233.786950086 m\n"
     ]
    },
    {
     "name": "stderr",
     "output_type": "stream",
     "text": [
      "\n",
      "\n",
      "t:  60%|█████▉    | 289/485 [02:41<01:51,  1.76it/s, now=None]\u001b[A\u001b[A"
     ]
    },
    {
     "name": "stdout",
     "output_type": "stream",
     "text": [
      "[[[ 100  660]\n",
      "  [ 564  452]\n",
      "  [ 716  452]\n",
      "  [1180  660]]]\n",
      "445.36161641 m 239.336457785 m\n"
     ]
    },
    {
     "name": "stderr",
     "output_type": "stream",
     "text": [
      "\n",
      "\n",
      "t:  60%|█████▉    | 290/485 [02:42<01:54,  1.70it/s, now=None]\u001b[A\u001b[A"
     ]
    },
    {
     "name": "stdout",
     "output_type": "stream",
     "text": [
      "[[[ 100  660]\n",
      "  [ 564  452]\n",
      "  [ 716  452]\n",
      "  [1180  660]]]\n",
      "318.770276963 m 209.599784959 m\n"
     ]
    },
    {
     "name": "stderr",
     "output_type": "stream",
     "text": [
      "\n",
      "\n",
      "t:  60%|██████    | 291/485 [02:42<01:50,  1.76it/s, now=None]\u001b[A\u001b[A"
     ]
    },
    {
     "name": "stdout",
     "output_type": "stream",
     "text": [
      "[[[ 100  660]\n",
      "  [ 564  452]\n",
      "  [ 716  452]\n",
      "  [1180  660]]]\n",
      "400.859967301 m 227.011109197 m\n"
     ]
    },
    {
     "name": "stderr",
     "output_type": "stream",
     "text": [
      "\n",
      "\n",
      "t:  60%|██████    | 292/485 [02:43<01:47,  1.80it/s, now=None]\u001b[A\u001b[A"
     ]
    },
    {
     "name": "stdout",
     "output_type": "stream",
     "text": [
      "[[[ 100  660]\n",
      "  [ 564  452]\n",
      "  [ 716  452]\n",
      "  [1180  660]]]\n"
     ]
    },
    {
     "name": "stderr",
     "output_type": "stream",
     "text": [
      "\n",
      "\n",
      "t:  60%|██████    | 293/485 [02:43<01:53,  1.69it/s, now=None]\u001b[A\u001b[A"
     ]
    },
    {
     "name": "stdout",
     "output_type": "stream",
     "text": [
      "402.048492783 m 235.59462879 m\n",
      "[[[ 100  660]\n",
      "  [ 564  452]\n",
      "  [ 716  452]\n",
      "  [1180  660]]]\n",
      "273.046998441 m 223.045192767 m\n"
     ]
    },
    {
     "name": "stderr",
     "output_type": "stream",
     "text": [
      "\n",
      "\n",
      "t:  61%|██████    | 294/485 [02:44<01:54,  1.67it/s, now=None]\u001b[A\u001b[A"
     ]
    },
    {
     "name": "stdout",
     "output_type": "stream",
     "text": [
      "[[[ 100  660]\n",
      "  [ 564  452]\n",
      "  [ 716  452]\n",
      "  [1180  660]]]\n",
      "426.399294218 m 419.645705292 m\n"
     ]
    },
    {
     "name": "stderr",
     "output_type": "stream",
     "text": [
      "\n",
      "\n",
      "t:  61%|██████    | 295/485 [02:45<01:56,  1.63it/s, now=None]\u001b[A\u001b[A"
     ]
    },
    {
     "name": "stdout",
     "output_type": "stream",
     "text": [
      "[[[ 100  660]\n",
      "  [ 564  452]\n",
      "  [ 716  452]\n",
      "  [1180  660]]]\n",
      "494.900580028 m 261.744388234 m\n"
     ]
    },
    {
     "name": "stderr",
     "output_type": "stream",
     "text": [
      "\n",
      "\n",
      "t:  61%|██████    | 296/485 [02:45<01:57,  1.61it/s, now=None]\u001b[A\u001b[A"
     ]
    },
    {
     "name": "stdout",
     "output_type": "stream",
     "text": [
      "[[[ 100  660]\n",
      "  [ 564  452]\n",
      "  [ 716  452]\n",
      "  [1180  660]]]\n",
      "492.934330732 m 269.075751266 m\n"
     ]
    },
    {
     "name": "stderr",
     "output_type": "stream",
     "text": [
      "\n",
      "\n",
      "t:  61%|██████    | 297/485 [02:46<01:51,  1.68it/s, now=None]\u001b[A\u001b[A"
     ]
    },
    {
     "name": "stdout",
     "output_type": "stream",
     "text": [
      "[[[ 100  660]\n",
      "  [ 564  452]\n",
      "  [ 716  452]\n",
      "  [1180  660]]]\n"
     ]
    },
    {
     "name": "stderr",
     "output_type": "stream",
     "text": [
      "\n",
      "\n",
      "t:  61%|██████▏   | 298/485 [02:46<01:54,  1.64it/s, now=None]\u001b[A\u001b[A"
     ]
    },
    {
     "name": "stdout",
     "output_type": "stream",
     "text": [
      "503.84597773 m 251.497496632 m\n",
      "[[[ 100  660]\n",
      "  [ 564  452]\n",
      "  [ 716  452]\n",
      "  [1180  660]]]\n",
      "738.636782165 m 280.604716375 m\n"
     ]
    },
    {
     "name": "stderr",
     "output_type": "stream",
     "text": [
      "\n",
      "\n",
      "t:  62%|██████▏   | 299/485 [02:47<01:49,  1.70it/s, now=None]\u001b[A\u001b[A"
     ]
    },
    {
     "name": "stdout",
     "output_type": "stream",
     "text": [
      "[[[ 100  660]\n",
      "  [ 564  452]\n",
      "  [ 716  452]\n",
      "  [1180  660]]]\n",
      "846.744326018 m 337.792272258 m\n"
     ]
    },
    {
     "name": "stderr",
     "output_type": "stream",
     "text": [
      "\n",
      "\n",
      "t:  62%|██████▏   | 300/485 [02:48<01:45,  1.76it/s, now=None]\u001b[A\u001b[A"
     ]
    },
    {
     "name": "stdout",
     "output_type": "stream",
     "text": [
      "[[[ 100  660]\n",
      "  [ 564  452]\n",
      "  [ 716  452]\n",
      "  [1180  660]]]\n",
      "779.992490134 m 323.092375048 m\n"
     ]
    },
    {
     "name": "stderr",
     "output_type": "stream",
     "text": [
      "\n",
      "\n",
      "t:  62%|██████▏   | 301/485 [02:48<01:41,  1.81it/s, now=None]\u001b[A\u001b[A"
     ]
    },
    {
     "name": "stdout",
     "output_type": "stream",
     "text": [
      "[[[ 100  660]\n",
      "  [ 564  452]\n",
      "  [ 716  452]\n",
      "  [1180  660]]]\n",
      "718.707737908 m 333.73862618 m\n"
     ]
    },
    {
     "name": "stderr",
     "output_type": "stream",
     "text": [
      "\n",
      "\n",
      "t:  62%|██████▏   | 302/485 [02:49<01:42,  1.78it/s, now=None]\u001b[A\u001b[A"
     ]
    },
    {
     "name": "stdout",
     "output_type": "stream",
     "text": [
      "[[[ 100  660]\n",
      "  [ 564  452]\n",
      "  [ 716  452]\n",
      "  [1180  660]]]\n",
      "605.186108992 m 308.233567142 m\n"
     ]
    },
    {
     "name": "stderr",
     "output_type": "stream",
     "text": [
      "\n",
      "\n",
      "t:  62%|██████▏   | 303/485 [02:49<01:43,  1.76it/s, now=None]\u001b[A\u001b[A"
     ]
    },
    {
     "name": "stdout",
     "output_type": "stream",
     "text": [
      "[[[ 100  660]\n",
      "  [ 564  452]\n",
      "  [ 716  452]\n",
      "  [1180  660]]]\n",
      "607.251175268 m 298.789516923 m\n"
     ]
    },
    {
     "name": "stderr",
     "output_type": "stream",
     "text": [
      "\n",
      "\n",
      "t:  63%|██████▎   | 304/485 [02:50<01:41,  1.78it/s, now=None]\u001b[A\u001b[A"
     ]
    },
    {
     "name": "stdout",
     "output_type": "stream",
     "text": [
      "[[[ 100  660]\n",
      "  [ 564  452]\n",
      "  [ 716  452]\n",
      "  [1180  660]]]\n",
      "523.775048707 m 293.573855264 m\n"
     ]
    },
    {
     "name": "stderr",
     "output_type": "stream",
     "text": [
      "\n",
      "\n",
      "t:  63%|██████▎   | 305/485 [02:50<01:38,  1.83it/s, now=None]\u001b[A\u001b[A"
     ]
    },
    {
     "name": "stdout",
     "output_type": "stream",
     "text": [
      "[[[ 100  660]\n",
      "  [ 564  452]\n",
      "  [ 716  452]\n",
      "  [1180  660]]]\n"
     ]
    },
    {
     "name": "stderr",
     "output_type": "stream",
     "text": [
      "\n",
      "\n",
      "t:  63%|██████▎   | 306/485 [02:51<01:42,  1.74it/s, now=None]\u001b[A\u001b[A"
     ]
    },
    {
     "name": "stdout",
     "output_type": "stream",
     "text": [
      "629.913731095 m 303.388541819 m\n",
      "[[[ 100  660]\n",
      "  [ 564  452]\n",
      "  [ 716  452]\n",
      "  [1180  660]]]\n",
      "734.202195453 m 277.552195352 m\n"
     ]
    },
    {
     "name": "stderr",
     "output_type": "stream",
     "text": [
      "\n",
      "\n",
      "t:  63%|██████▎   | 307/485 [02:52<01:42,  1.73it/s, now=None]\u001b[A\u001b[A"
     ]
    },
    {
     "name": "stdout",
     "output_type": "stream",
     "text": [
      "[[[ 100  660]\n",
      "  [ 564  452]\n",
      "  [ 716  452]\n",
      "  [1180  660]]]\n",
      "716.658213537 m 343.888307862 m\n"
     ]
    },
    {
     "name": "stderr",
     "output_type": "stream",
     "text": [
      "\n",
      "\n",
      "t:  64%|██████▎   | 308/485 [02:52<01:39,  1.78it/s, now=None]\u001b[A\u001b[A"
     ]
    },
    {
     "name": "stdout",
     "output_type": "stream",
     "text": [
      "[[[ 100  660]\n",
      "  [ 564  452]\n",
      "  [ 716  452]\n",
      "  [1180  660]]]\n",
      "687.046854656 m 354.747141041 m\n"
     ]
    },
    {
     "name": "stderr",
     "output_type": "stream",
     "text": [
      "\n",
      "\n",
      "t:  64%|██████▎   | 309/485 [02:53<01:37,  1.81it/s, now=None]\u001b[A\u001b[A"
     ]
    },
    {
     "name": "stdout",
     "output_type": "stream",
     "text": [
      "[[[ 100  660]\n",
      "  [ 564  452]\n",
      "  [ 716  452]\n",
      "  [1180  660]]]\n"
     ]
    },
    {
     "name": "stderr",
     "output_type": "stream",
     "text": [
      "\n",
      "\n",
      "t:  64%|██████▍   | 310/485 [02:53<01:41,  1.73it/s, now=None]\u001b[A\u001b[A"
     ]
    },
    {
     "name": "stdout",
     "output_type": "stream",
     "text": [
      "666.609320245 m 335.310804615 m\n",
      "[[[ 100  660]\n",
      "  [ 564  452]\n",
      "  [ 716  452]\n",
      "  [1180  660]]]\n",
      "601.398784299 m 386.282967931 m\n"
     ]
    },
    {
     "name": "stderr",
     "output_type": "stream",
     "text": [
      "\n",
      "\n",
      "t:  64%|██████▍   | 311/485 [02:54<01:39,  1.74it/s, now=None]\u001b[A\u001b[A"
     ]
    },
    {
     "name": "stdout",
     "output_type": "stream",
     "text": [
      "[[[ 100  660]\n",
      "  [ 564  452]\n",
      "  [ 716  452]\n",
      "  [1180  660]]]\n",
      "850.658514586 m 468.983023215 m\n"
     ]
    },
    {
     "name": "stderr",
     "output_type": "stream",
     "text": [
      "\n",
      "\n",
      "t:  64%|██████▍   | 312/485 [02:54<01:36,  1.79it/s, now=None]\u001b[A\u001b[A"
     ]
    },
    {
     "name": "stdout",
     "output_type": "stream",
     "text": [
      "[[[ 100  660]\n",
      "  [ 564  452]\n",
      "  [ 716  452]\n",
      "  [1180  660]]]\n",
      "999.578261425 m 629.54675458 m\n"
     ]
    },
    {
     "name": "stderr",
     "output_type": "stream",
     "text": [
      "\n",
      "\n",
      "t:  65%|██████▍   | 313/485 [02:55<01:34,  1.82it/s, now=None]\u001b[A\u001b[A"
     ]
    },
    {
     "name": "stdout",
     "output_type": "stream",
     "text": [
      "[[[ 100  660]\n",
      "  [ 564  452]\n",
      "  [ 716  452]\n",
      "  [1180  660]]]\n",
      "3525.52508999 m 548.502917613 m\n"
     ]
    },
    {
     "name": "stderr",
     "output_type": "stream",
     "text": [
      "\n",
      "\n",
      "t:  65%|██████▍   | 314/485 [02:55<01:35,  1.78it/s, now=None]\u001b[A\u001b[A"
     ]
    },
    {
     "name": "stdout",
     "output_type": "stream",
     "text": [
      "[[[ 100  660]\n",
      "  [ 564  452]\n",
      "  [ 716  452]\n",
      "  [1180  660]]]\n",
      "6782.40879327 m 605.788300053 m\n"
     ]
    },
    {
     "name": "stderr",
     "output_type": "stream",
     "text": [
      "\n",
      "\n",
      "t:  65%|██████▍   | 315/485 [02:56<01:37,  1.75it/s, now=None]\u001b[A\u001b[A"
     ]
    },
    {
     "name": "stdout",
     "output_type": "stream",
     "text": [
      "[[[ 100  660]\n",
      "  [ 564  452]\n",
      "  [ 716  452]\n",
      "  [1180  660]]]\n",
      "4022.50136859 m 781.004327035 m\n"
     ]
    },
    {
     "name": "stderr",
     "output_type": "stream",
     "text": [
      "\n",
      "\n",
      "t:  65%|██████▌   | 316/485 [02:57<01:37,  1.73it/s, now=None]\u001b[A\u001b[A"
     ]
    },
    {
     "name": "stdout",
     "output_type": "stream",
     "text": [
      "[[[ 100  660]\n",
      "  [ 564  452]\n",
      "  [ 716  452]\n",
      "  [1180  660]]]\n",
      "1171.10397949 m 590.392746996 m\n"
     ]
    },
    {
     "name": "stderr",
     "output_type": "stream",
     "text": [
      "\n",
      "\n",
      "t:  65%|██████▌   | 317/485 [02:57<01:34,  1.78it/s, now=None]\u001b[A\u001b[A"
     ]
    },
    {
     "name": "stdout",
     "output_type": "stream",
     "text": [
      "[[[ 100  660]\n",
      "  [ 564  452]\n",
      "  [ 716  452]\n",
      "  [1180  660]]]\n"
     ]
    },
    {
     "name": "stderr",
     "output_type": "stream",
     "text": [
      "\n",
      "\n",
      "t:  66%|██████▌   | 318/485 [02:58<01:38,  1.70it/s, now=None]\u001b[A\u001b[A"
     ]
    },
    {
     "name": "stdout",
     "output_type": "stream",
     "text": [
      "1439.81448631 m 494.55532878 m\n",
      "[[[ 100  660]\n",
      "  [ 564  452]\n",
      "  [ 716  452]\n",
      "  [1180  660]]]\n",
      "2789.75793552 m 553.301387853 m\n"
     ]
    },
    {
     "name": "stderr",
     "output_type": "stream",
     "text": [
      "\n",
      "\n",
      "t:  66%|██████▌   | 319/485 [02:58<01:35,  1.74it/s, now=None]\u001b[A\u001b[A"
     ]
    },
    {
     "name": "stdout",
     "output_type": "stream",
     "text": [
      "[[[ 100  660]\n",
      "  [ 564  452]\n",
      "  [ 716  452]\n",
      "  [1180  660]]]\n",
      "1754.04211212 m 541.997595454 m\n"
     ]
    },
    {
     "name": "stderr",
     "output_type": "stream",
     "text": [
      "\n",
      "\n",
      "t:  66%|██████▌   | 320/485 [02:59<01:36,  1.71it/s, now=None]\u001b[A\u001b[A"
     ]
    },
    {
     "name": "stdout",
     "output_type": "stream",
     "text": [
      "[[[ 100  660]\n",
      "  [ 564  452]\n",
      "  [ 716  452]\n",
      "  [1180  660]]]\n",
      "1124.5387176 m 768.978707602 m\n"
     ]
    },
    {
     "name": "stderr",
     "output_type": "stream",
     "text": [
      "\n",
      "\n",
      "t:  66%|██████▌   | 321/485 [02:59<01:32,  1.78it/s, now=None]\u001b[A\u001b[A"
     ]
    },
    {
     "name": "stdout",
     "output_type": "stream",
     "text": [
      "[[[ 100  660]\n",
      "  [ 564  452]\n",
      "  [ 716  452]\n",
      "  [1180  660]]]\n",
      "1027.42194932 m 646.984483587 m\n"
     ]
    },
    {
     "name": "stderr",
     "output_type": "stream",
     "text": [
      "\n",
      "\n",
      "t:  66%|██████▋   | 322/485 [03:00<01:33,  1.74it/s, now=None]\u001b[A\u001b[A"
     ]
    },
    {
     "name": "stdout",
     "output_type": "stream",
     "text": [
      "[[[ 100  660]\n",
      "  [ 564  452]\n",
      "  [ 716  452]\n",
      "  [1180  660]]]\n",
      "2207.37798036 m 539.460360713 m\n"
     ]
    },
    {
     "name": "stderr",
     "output_type": "stream",
     "text": [
      "\n",
      "\n",
      "t:  67%|██████▋   | 323/485 [03:01<01:33,  1.73it/s, now=None]\u001b[A\u001b[A"
     ]
    },
    {
     "name": "stdout",
     "output_type": "stream",
     "text": [
      "[[[ 100  660]\n",
      "  [ 564  452]\n",
      "  [ 716  452]\n",
      "  [1180  660]]]\n",
      "2225.30816554 m 563.959444966 m\n"
     ]
    },
    {
     "name": "stderr",
     "output_type": "stream",
     "text": [
      "\n",
      "\n",
      "t:  67%|██████▋   | 324/485 [03:01<01:32,  1.75it/s, now=None]\u001b[A\u001b[A"
     ]
    },
    {
     "name": "stdout",
     "output_type": "stream",
     "text": [
      "[[[ 100  660]\n",
      "  [ 564  452]\n",
      "  [ 716  452]\n",
      "  [1180  660]]]\n",
      "1238.39915014 m 522.358470528 m\n"
     ]
    },
    {
     "name": "stderr",
     "output_type": "stream",
     "text": [
      "\n",
      "\n",
      "t:  67%|██████▋   | 325/485 [03:02<01:30,  1.78it/s, now=None]\u001b[A\u001b[A"
     ]
    },
    {
     "name": "stdout",
     "output_type": "stream",
     "text": [
      "[[[ 100  660]\n",
      "  [ 564  452]\n",
      "  [ 716  452]\n",
      "  [1180  660]]]\n",
      "1931.47155739 m 1219.41084504 m\n"
     ]
    },
    {
     "name": "stderr",
     "output_type": "stream",
     "text": [
      "\n",
      "\n",
      "t:  67%|██████▋   | 326/485 [03:02<01:28,  1.79it/s, now=None]\u001b[A\u001b[A"
     ]
    },
    {
     "name": "stdout",
     "output_type": "stream",
     "text": [
      "[[[ 100  660]\n",
      "  [ 564  452]\n",
      "  [ 716  452]\n",
      "  [1180  660]]]\n"
     ]
    },
    {
     "name": "stderr",
     "output_type": "stream",
     "text": [
      "\n",
      "\n",
      "t:  67%|██████▋   | 327/485 [03:03<01:33,  1.68it/s, now=None]\u001b[A\u001b[A"
     ]
    },
    {
     "name": "stdout",
     "output_type": "stream",
     "text": [
      "2592.03233411 m 408.801691784 m\n",
      "[[[ 100  660]\n",
      "  [ 564  452]\n",
      "  [ 716  452]\n",
      "  [1180  660]]]\n",
      "1656.83534997 m 435.501270452 m\n"
     ]
    },
    {
     "name": "stderr",
     "output_type": "stream",
     "text": [
      "\n",
      "\n",
      "t:  68%|██████▊   | 328/485 [03:03<01:30,  1.73it/s, now=None]\u001b[A\u001b[A"
     ]
    },
    {
     "name": "stdout",
     "output_type": "stream",
     "text": [
      "[[[ 100  660]\n",
      "  [ 564  452]\n",
      "  [ 716  452]\n",
      "  [1180  660]]]\n",
      "1633.17827574 m 410.927979556 m\n"
     ]
    },
    {
     "name": "stderr",
     "output_type": "stream",
     "text": [
      "\n",
      "\n",
      "t:  68%|██████▊   | 329/485 [03:04<01:30,  1.72it/s, now=None]\u001b[A\u001b[A"
     ]
    },
    {
     "name": "stdout",
     "output_type": "stream",
     "text": [
      "[[[ 100  660]\n",
      "  [ 564  452]\n",
      "  [ 716  452]\n",
      "  [1180  660]]]\n",
      "2222.78512377 m 469.06669123 m\n"
     ]
    },
    {
     "name": "stderr",
     "output_type": "stream",
     "text": [
      "\n",
      "\n",
      "t:  68%|██████▊   | 330/485 [03:05<01:27,  1.77it/s, now=None]\u001b[A\u001b[A"
     ]
    },
    {
     "name": "stdout",
     "output_type": "stream",
     "text": [
      "[[[ 100  660]\n",
      "  [ 564  452]\n",
      "  [ 716  452]\n",
      "  [1180  660]]]\n"
     ]
    },
    {
     "name": "stderr",
     "output_type": "stream",
     "text": [
      "\n",
      "\n",
      "t:  68%|██████▊   | 331/485 [03:05<01:31,  1.69it/s, now=None]\u001b[A\u001b[A"
     ]
    },
    {
     "name": "stdout",
     "output_type": "stream",
     "text": [
      "3085.37027565 m 481.426564116 m\n",
      "[[[ 100  660]\n",
      "  [ 564  452]\n",
      "  [ 716  452]\n",
      "  [1180  660]]]\n",
      "4010.59740233 m 2909.23011259 m\n"
     ]
    },
    {
     "name": "stderr",
     "output_type": "stream",
     "text": [
      "\n",
      "\n",
      "t:  68%|██████▊   | 332/485 [03:06<01:29,  1.71it/s, now=None]\u001b[A\u001b[A"
     ]
    },
    {
     "name": "stdout",
     "output_type": "stream",
     "text": [
      "[[[ 100  660]\n",
      "  [ 564  452]\n",
      "  [ 716  452]\n",
      "  [1180  660]]]\n",
      "5469.10652463 m 2841.18275246 m\n"
     ]
    },
    {
     "name": "stderr",
     "output_type": "stream",
     "text": [
      "\n",
      "\n",
      "t:  69%|██████▊   | 333/485 [03:06<01:26,  1.77it/s, now=None]\u001b[A\u001b[A"
     ]
    },
    {
     "name": "stdout",
     "output_type": "stream",
     "text": [
      "[[[ 100  660]\n",
      "  [ 564  452]\n",
      "  [ 716  452]\n",
      "  [1180  660]]]\n",
      "5603.88371703 m 3192.60033534 m\n"
     ]
    },
    {
     "name": "stderr",
     "output_type": "stream",
     "text": [
      "\n",
      "\n",
      "t:  69%|██████▉   | 334/485 [03:07<01:27,  1.73it/s, now=None]\u001b[A\u001b[A"
     ]
    },
    {
     "name": "stdout",
     "output_type": "stream",
     "text": [
      "[[[ 100  660]\n",
      "  [ 564  452]\n",
      "  [ 716  452]\n",
      "  [1180  660]]]\n",
      "3759.99320757 m 1069.73142141 m\n"
     ]
    },
    {
     "name": "stderr",
     "output_type": "stream",
     "text": [
      "\n",
      "\n",
      "t:  69%|██████▉   | 335/485 [03:07<01:25,  1.76it/s, now=None]\u001b[A\u001b[A"
     ]
    },
    {
     "name": "stdout",
     "output_type": "stream",
     "text": [
      "[[[ 100  660]\n",
      "  [ 564  452]\n",
      "  [ 716  452]\n",
      "  [1180  660]]]\n",
      "7770.31537002 m 1655.96069108 m\n"
     ]
    },
    {
     "name": "stderr",
     "output_type": "stream",
     "text": [
      "\n",
      "\n",
      "t:  69%|██████▉   | 336/485 [03:08<01:25,  1.75it/s, now=None]\u001b[A\u001b[A"
     ]
    },
    {
     "name": "stdout",
     "output_type": "stream",
     "text": [
      "[[[ 100  660]\n",
      "  [ 564  452]\n",
      "  [ 716  452]\n",
      "  [1180  660]]]\n",
      "2143.20949886 m 514.789654766 m\n"
     ]
    },
    {
     "name": "stderr",
     "output_type": "stream",
     "text": [
      "\n",
      "\n",
      "t:  69%|██████▉   | 337/485 [03:09<01:22,  1.78it/s, now=None]\u001b[A\u001b[A"
     ]
    },
    {
     "name": "stdout",
     "output_type": "stream",
     "text": [
      "[[[ 100  660]\n",
      "  [ 564  452]\n",
      "  [ 716  452]\n",
      "  [1180  660]]]\n",
      "2633.44381422 m 513.191753876 m\n"
     ]
    },
    {
     "name": "stderr",
     "output_type": "stream",
     "text": [
      "\n",
      "\n",
      "t:  70%|██████▉   | 338/485 [03:09<01:22,  1.79it/s, now=None]\u001b[A\u001b[A"
     ]
    },
    {
     "name": "stdout",
     "output_type": "stream",
     "text": [
      "[[[ 100  660]\n",
      "  [ 564  452]\n",
      "  [ 716  452]\n",
      "  [1180  660]]]\n",
      "3998.44796561 m 1434.16173844 m\n"
     ]
    },
    {
     "name": "stderr",
     "output_type": "stream",
     "text": [
      "\n",
      "\n",
      "t:  70%|██████▉   | 339/485 [03:10<01:20,  1.81it/s, now=None]\u001b[A\u001b[A"
     ]
    },
    {
     "name": "stdout",
     "output_type": "stream",
     "text": [
      "[[[ 100  660]\n",
      "  [ 564  452]\n",
      "  [ 716  452]\n",
      "  [1180  660]]]\n"
     ]
    },
    {
     "name": "stderr",
     "output_type": "stream",
     "text": [
      "\n",
      "\n",
      "t:  70%|███████   | 340/485 [03:10<01:25,  1.69it/s, now=None]\u001b[A\u001b[A"
     ]
    },
    {
     "name": "stdout",
     "output_type": "stream",
     "text": [
      "9592.04579956 m 396.286755848 m\n",
      "[[[ 100  660]\n",
      "  [ 564  452]\n",
      "  [ 716  452]\n",
      "  [1180  660]]]\n",
      "7092.50783463 m 569.820037019 m\n"
     ]
    },
    {
     "name": "stderr",
     "output_type": "stream",
     "text": [
      "\n",
      "\n",
      "t:  70%|███████   | 341/485 [03:11<01:24,  1.70it/s, now=None]\u001b[A\u001b[A"
     ]
    },
    {
     "name": "stdout",
     "output_type": "stream",
     "text": [
      "[[[ 100  660]\n",
      "  [ 564  452]\n",
      "  [ 716  452]\n",
      "  [1180  660]]]\n",
      "208502.202749 m 824.456370086 m\n"
     ]
    },
    {
     "name": "stderr",
     "output_type": "stream",
     "text": [
      "\n",
      "\n",
      "t:  71%|███████   | 342/485 [03:11<01:21,  1.75it/s, now=None]\u001b[A\u001b[A"
     ]
    },
    {
     "name": "stdout",
     "output_type": "stream",
     "text": [
      "[[[ 100  660]\n",
      "  [ 564  452]\n",
      "  [ 716  452]\n",
      "  [1180  660]]]\n",
      "19257.6919361 m 439.590419348 m\n"
     ]
    },
    {
     "name": "stderr",
     "output_type": "stream",
     "text": [
      "\n",
      "\n",
      "t:  71%|███████   | 343/485 [03:12<01:19,  1.78it/s, now=None]\u001b[A\u001b[A"
     ]
    },
    {
     "name": "stdout",
     "output_type": "stream",
     "text": [
      "[[[ 100  660]\n",
      "  [ 564  452]\n",
      "  [ 716  452]\n",
      "  [1180  660]]]\n"
     ]
    },
    {
     "name": "stderr",
     "output_type": "stream",
     "text": [
      "\n",
      "\n",
      "t:  71%|███████   | 344/485 [03:13<01:24,  1.68it/s, now=None]\u001b[A\u001b[A"
     ]
    },
    {
     "name": "stdout",
     "output_type": "stream",
     "text": [
      "10799.5631246 m 737.263984216 m\n",
      "[[[ 100  660]\n",
      "  [ 564  452]\n",
      "  [ 716  452]\n",
      "  [1180  660]]]\n",
      "5738.79795478 m 718.120568268 m\n"
     ]
    },
    {
     "name": "stderr",
     "output_type": "stream",
     "text": [
      "\n",
      "\n",
      "t:  71%|███████   | 345/485 [03:13<01:22,  1.70it/s, now=None]\u001b[A\u001b[A"
     ]
    },
    {
     "name": "stdout",
     "output_type": "stream",
     "text": [
      "[[[ 100  660]\n",
      "  [ 564  452]\n",
      "  [ 716  452]\n",
      "  [1180  660]]]\n",
      "11288.8023749 m 2969.21937482 m\n"
     ]
    },
    {
     "name": "stderr",
     "output_type": "stream",
     "text": [
      "\n",
      "\n",
      "t:  71%|███████▏  | 346/485 [03:14<01:19,  1.74it/s, now=None]\u001b[A\u001b[A"
     ]
    },
    {
     "name": "stdout",
     "output_type": "stream",
     "text": [
      "[[[ 100  660]\n",
      "  [ 564  452]\n",
      "  [ 716  452]\n",
      "  [1180  660]]]\n",
      "10421.6583886 m 1538.88877071 m\n"
     ]
    },
    {
     "name": "stderr",
     "output_type": "stream",
     "text": [
      "\n",
      "\n",
      "t:  72%|███████▏  | 347/485 [03:14<01:16,  1.80it/s, now=None]\u001b[A\u001b[A"
     ]
    },
    {
     "name": "stdout",
     "output_type": "stream",
     "text": [
      "[[[ 100  660]\n",
      "  [ 564  452]\n",
      "  [ 716  452]\n",
      "  [1180  660]]]\n"
     ]
    },
    {
     "name": "stderr",
     "output_type": "stream",
     "text": [
      "\n",
      "\n",
      "t:  72%|███████▏  | 348/485 [03:15<01:21,  1.69it/s, now=None]\u001b[A\u001b[A"
     ]
    },
    {
     "name": "stdout",
     "output_type": "stream",
     "text": [
      "1398.53621549 m 353.241668659 m\n",
      "[[[ 100  660]\n",
      "  [ 564  452]\n",
      "  [ 716  452]\n",
      "  [1180  660]]]\n",
      "2115.72907577 m 688.913499676 m\n"
     ]
    },
    {
     "name": "stderr",
     "output_type": "stream",
     "text": [
      "\n",
      "\n",
      "t:  72%|███████▏  | 349/485 [03:16<01:20,  1.69it/s, now=None]\u001b[A\u001b[A"
     ]
    },
    {
     "name": "stdout",
     "output_type": "stream",
     "text": [
      "[[[ 100  660]\n",
      "  [ 564  452]\n",
      "  [ 716  452]\n",
      "  [1180  660]]]\n",
      "2779.06778087 m 2161.02133106 m\n"
     ]
    },
    {
     "name": "stderr",
     "output_type": "stream",
     "text": [
      "\n",
      "\n",
      "t:  72%|███████▏  | 350/485 [03:16<01:17,  1.75it/s, now=None]\u001b[A\u001b[A"
     ]
    },
    {
     "name": "stdout",
     "output_type": "stream",
     "text": [
      "[[[ 100  660]\n",
      "  [ 564  452]\n",
      "  [ 716  452]\n",
      "  [1180  660]]]\n",
      "4118.18068743 m 797.767810791 m\n"
     ]
    },
    {
     "name": "stderr",
     "output_type": "stream",
     "text": [
      "\n",
      "\n",
      "t:  72%|███████▏  | 351/485 [03:17<01:15,  1.78it/s, now=None]\u001b[A\u001b[A"
     ]
    },
    {
     "name": "stdout",
     "output_type": "stream",
     "text": [
      "[[[ 100  660]\n",
      "  [ 564  452]\n",
      "  [ 716  452]\n",
      "  [1180  660]]]\n"
     ]
    },
    {
     "name": "stderr",
     "output_type": "stream",
     "text": [
      "\n",
      "\n",
      "t:  73%|███████▎  | 352/485 [03:17<01:19,  1.66it/s, now=None]\u001b[A\u001b[A"
     ]
    },
    {
     "name": "stdout",
     "output_type": "stream",
     "text": [
      "3691.11807385 m 27933.16614 m\n",
      "[[[ 100  660]\n",
      "  [ 564  452]\n",
      "  [ 716  452]\n",
      "  [1180  660]]]\n",
      "5507.64952812 m 525.371171102 m\n"
     ]
    },
    {
     "name": "stderr",
     "output_type": "stream",
     "text": [
      "\n",
      "\n",
      "t:  73%|███████▎  | 353/485 [03:18<01:18,  1.68it/s, now=None]\u001b[A\u001b[A"
     ]
    },
    {
     "name": "stdout",
     "output_type": "stream",
     "text": [
      "[[[ 100  660]\n",
      "  [ 564  452]\n",
      "  [ 716  452]\n",
      "  [1180  660]]]\n",
      "1865.07811502 m 8285.62933162 m\n"
     ]
    },
    {
     "name": "stderr",
     "output_type": "stream",
     "text": [
      "\n",
      "\n",
      "t:  73%|███████▎  | 354/485 [03:18<01:15,  1.74it/s, now=None]\u001b[A\u001b[A"
     ]
    },
    {
     "name": "stdout",
     "output_type": "stream",
     "text": [
      "[[[ 100  660]\n",
      "  [ 564  452]\n",
      "  [ 716  452]\n",
      "  [1180  660]]]\n",
      "1568.6764307 m 4349.50550123 m\n"
     ]
    },
    {
     "name": "stderr",
     "output_type": "stream",
     "text": [
      "\n",
      "\n",
      "t:  73%|███████▎  | 355/485 [03:19<01:13,  1.78it/s, now=None]\u001b[A\u001b[A"
     ]
    },
    {
     "name": "stdout",
     "output_type": "stream",
     "text": [
      "[[[ 100  660]\n",
      "  [ 564  452]\n",
      "  [ 716  452]\n",
      "  [1180  660]]]\n",
      "2208.31098621 m 5886.186943 m\n"
     ]
    },
    {
     "name": "stderr",
     "output_type": "stream",
     "text": [
      "\n",
      "\n",
      "t:  73%|███████▎  | 356/485 [03:20<01:13,  1.75it/s, now=None]\u001b[A\u001b[A"
     ]
    },
    {
     "name": "stdout",
     "output_type": "stream",
     "text": [
      "[[[ 100  660]\n",
      "  [ 564  452]\n",
      "  [ 716  452]\n",
      "  [1180  660]]]\n",
      "2998.40416874 m 4189.82748893 m\n"
     ]
    },
    {
     "name": "stderr",
     "output_type": "stream",
     "text": [
      "\n",
      "\n",
      "t:  74%|███████▎  | 357/485 [03:20<01:13,  1.74it/s, now=None]\u001b[A\u001b[A"
     ]
    },
    {
     "name": "stdout",
     "output_type": "stream",
     "text": [
      "[[[ 100  660]\n",
      "  [ 564  452]\n",
      "  [ 716  452]\n",
      "  [1180  660]]]\n",
      "1803.51195415 m 11558.5467341 m\n"
     ]
    },
    {
     "name": "stderr",
     "output_type": "stream",
     "text": [
      "\n",
      "\n",
      "t:  74%|███████▍  | 358/485 [03:21<01:11,  1.78it/s, now=None]\u001b[A\u001b[A"
     ]
    },
    {
     "name": "stdout",
     "output_type": "stream",
     "text": [
      "[[[ 100  660]\n",
      "  [ 564  452]\n",
      "  [ 716  452]\n",
      "  [1180  660]]]\n",
      "2276.13290854 m 1966.84439475 m\n"
     ]
    },
    {
     "name": "stderr",
     "output_type": "stream",
     "text": [
      "\n",
      "\n",
      "t:  74%|███████▍  | 359/485 [03:21<01:09,  1.81it/s, now=None]\u001b[A\u001b[A"
     ]
    },
    {
     "name": "stdout",
     "output_type": "stream",
     "text": [
      "[[[ 100  660]\n",
      "  [ 564  452]\n",
      "  [ 716  452]\n",
      "  [1180  660]]]\n"
     ]
    },
    {
     "name": "stderr",
     "output_type": "stream",
     "text": [
      "\n",
      "\n",
      "t:  74%|███████▍  | 360/485 [03:22<01:12,  1.71it/s, now=None]\u001b[A\u001b[A"
     ]
    },
    {
     "name": "stdout",
     "output_type": "stream",
     "text": [
      "3712.69553916 m 1769.80852674 m\n",
      "[[[ 100  660]\n",
      "  [ 564  452]\n",
      "  [ 716  452]\n",
      "  [1180  660]]]\n",
      "2666.34855085 m 464.301981381 m\n"
     ]
    },
    {
     "name": "stderr",
     "output_type": "stream",
     "text": [
      "\n",
      "\n",
      "t:  74%|███████▍  | 361/485 [03:22<01:12,  1.72it/s, now=None]\u001b[A\u001b[A"
     ]
    },
    {
     "name": "stdout",
     "output_type": "stream",
     "text": [
      "[[[ 100  660]\n",
      "  [ 564  452]\n",
      "  [ 716  452]\n",
      "  [1180  660]]]\n",
      "3526.13436231 m 4184.01754867 m\n"
     ]
    },
    {
     "name": "stderr",
     "output_type": "stream",
     "text": [
      "\n",
      "\n",
      "t:  75%|███████▍  | 362/485 [03:23<01:09,  1.77it/s, now=None]\u001b[A\u001b[A"
     ]
    },
    {
     "name": "stdout",
     "output_type": "stream",
     "text": [
      "[[[ 100  660]\n",
      "  [ 564  452]\n",
      "  [ 716  452]\n",
      "  [1180  660]]]\n",
      "4319.42076042 m 510.544542012 m\n"
     ]
    },
    {
     "name": "stderr",
     "output_type": "stream",
     "text": [
      "\n",
      "\n",
      "t:  75%|███████▍  | 363/485 [03:24<01:07,  1.80it/s, now=None]\u001b[A\u001b[A"
     ]
    },
    {
     "name": "stdout",
     "output_type": "stream",
     "text": [
      "[[[ 100  660]\n",
      "  [ 564  452]\n",
      "  [ 716  452]\n",
      "  [1180  660]]]\n"
     ]
    },
    {
     "name": "stderr",
     "output_type": "stream",
     "text": [
      "\n",
      "\n",
      "t:  75%|███████▌  | 364/485 [03:24<01:09,  1.74it/s, now=None]\u001b[A\u001b[A"
     ]
    },
    {
     "name": "stdout",
     "output_type": "stream",
     "text": [
      "3666.462996 m 2345.90233069 m\n",
      "[[[ 100  660]\n",
      "  [ 564  452]\n",
      "  [ 716  452]\n",
      "  [1180  660]]]\n",
      "2902.12190118 m 1478.96713952 m\n"
     ]
    },
    {
     "name": "stderr",
     "output_type": "stream",
     "text": [
      "\n",
      "\n",
      "t:  75%|███████▌  | 365/485 [03:25<01:10,  1.71it/s, now=None]\u001b[A\u001b[A"
     ]
    },
    {
     "name": "stdout",
     "output_type": "stream",
     "text": [
      "[[[ 100  660]\n",
      "  [ 564  452]\n",
      "  [ 716  452]\n",
      "  [1180  660]]]\n",
      "2369.11567269 m 1126.99768565 m\n"
     ]
    },
    {
     "name": "stderr",
     "output_type": "stream",
     "text": [
      "\n",
      "\n",
      "t:  75%|███████▌  | 366/485 [03:25<01:07,  1.75it/s, now=None]\u001b[A\u001b[A"
     ]
    },
    {
     "name": "stdout",
     "output_type": "stream",
     "text": [
      "[[[ 100  660]\n",
      "  [ 564  452]\n",
      "  [ 716  452]\n",
      "  [1180  660]]]\n",
      "6316.81143394 m 831.706120235 m\n"
     ]
    },
    {
     "name": "stderr",
     "output_type": "stream",
     "text": [
      "\n",
      "\n",
      "t:  76%|███████▌  | 367/485 [03:26<01:06,  1.79it/s, now=None]\u001b[A\u001b[A"
     ]
    },
    {
     "name": "stdout",
     "output_type": "stream",
     "text": [
      "[[[ 100  660]\n",
      "  [ 564  452]\n",
      "  [ 716  452]\n",
      "  [1180  660]]]\n"
     ]
    },
    {
     "name": "stderr",
     "output_type": "stream",
     "text": [
      "\n",
      "\n",
      "t:  76%|███████▌  | 368/485 [03:26<01:08,  1.71it/s, now=None]\u001b[A\u001b[A"
     ]
    },
    {
     "name": "stdout",
     "output_type": "stream",
     "text": [
      "5021.23005701 m 1216.72932261 m\n",
      "[[[ 100  660]\n",
      "  [ 564  452]\n",
      "  [ 716  452]\n",
      "  [1180  660]]]\n",
      "2398.64060261 m 1594.64677623 m\n"
     ]
    },
    {
     "name": "stderr",
     "output_type": "stream",
     "text": [
      "\n",
      "\n",
      "t:  76%|███████▌  | 369/485 [03:27<01:07,  1.71it/s, now=None]\u001b[A\u001b[A"
     ]
    },
    {
     "name": "stdout",
     "output_type": "stream",
     "text": [
      "[[[ 100  660]\n",
      "  [ 564  452]\n",
      "  [ 716  452]\n",
      "  [1180  660]]]\n",
      "4609.91938349 m 623.401627065 m\n"
     ]
    },
    {
     "name": "stderr",
     "output_type": "stream",
     "text": [
      "\n",
      "\n",
      "t:  76%|███████▋  | 370/485 [03:28<01:05,  1.76it/s, now=None]\u001b[A\u001b[A"
     ]
    },
    {
     "name": "stdout",
     "output_type": "stream",
     "text": [
      "[[[ 100  660]\n",
      "  [ 564  452]\n",
      "  [ 716  452]\n",
      "  [1180  660]]]\n",
      "13401.2803799 m 502.938344884 m\n"
     ]
    },
    {
     "name": "stderr",
     "output_type": "stream",
     "text": [
      "\n",
      "\n",
      "t:  76%|███████▋  | 371/485 [03:28<01:03,  1.79it/s, now=None]\u001b[A\u001b[A"
     ]
    },
    {
     "name": "stdout",
     "output_type": "stream",
     "text": [
      "[[[ 100  660]\n",
      "  [ 564  452]\n",
      "  [ 716  452]\n",
      "  [1180  660]]]\n"
     ]
    },
    {
     "name": "stderr",
     "output_type": "stream",
     "text": [
      "\n",
      "\n",
      "t:  77%|███████▋  | 372/485 [03:29<01:04,  1.75it/s, now=None]\u001b[A\u001b[A"
     ]
    },
    {
     "name": "stdout",
     "output_type": "stream",
     "text": [
      "29183.6548788 m 415.661504094 m\n",
      "[[[ 100  660]\n",
      "  [ 564  452]\n",
      "  [ 716  452]\n",
      "  [1180  660]]]\n",
      "6775.95409201 m 4600.03543155 m\n"
     ]
    },
    {
     "name": "stderr",
     "output_type": "stream",
     "text": [
      "\n",
      "\n",
      "t:  77%|███████▋  | 373/485 [03:29<01:04,  1.73it/s, now=None]\u001b[A\u001b[A"
     ]
    },
    {
     "name": "stdout",
     "output_type": "stream",
     "text": [
      "[[[ 100  660]\n",
      "  [ 564  452]\n",
      "  [ 716  452]\n",
      "  [1180  660]]]\n",
      "18731.7473879 m 464.766229904 m\n"
     ]
    },
    {
     "name": "stderr",
     "output_type": "stream",
     "text": [
      "\n",
      "\n",
      "t:  77%|███████▋  | 374/485 [03:30<01:03,  1.74it/s, now=None]\u001b[A\u001b[A"
     ]
    },
    {
     "name": "stdout",
     "output_type": "stream",
     "text": [
      "[[[ 100  660]\n",
      "  [ 564  452]\n",
      "  [ 716  452]\n",
      "  [1180  660]]]\n",
      "3927.25540439 m 508.985121188 m\n"
     ]
    },
    {
     "name": "stderr",
     "output_type": "stream",
     "text": [
      "\n",
      "\n",
      "t:  77%|███████▋  | 375/485 [03:30<01:02,  1.77it/s, now=None]\u001b[A\u001b[A"
     ]
    },
    {
     "name": "stdout",
     "output_type": "stream",
     "text": [
      "[[[ 100  660]\n",
      "  [ 564  452]\n",
      "  [ 716  452]\n",
      "  [1180  660]]]\n"
     ]
    },
    {
     "name": "stderr",
     "output_type": "stream",
     "text": [
      "\n",
      "\n",
      "t:  78%|███████▊  | 376/485 [03:31<01:05,  1.67it/s, now=None]\u001b[A\u001b[A"
     ]
    },
    {
     "name": "stdout",
     "output_type": "stream",
     "text": [
      "6123.58152898 m 644.134732979 m\n",
      "[[[ 100  660]\n",
      "  [ 564  452]\n",
      "  [ 716  452]\n",
      "  [1180  660]]]\n",
      "3297.01208424 m 658.008304573 m\n"
     ]
    },
    {
     "name": "stderr",
     "output_type": "stream",
     "text": [
      "\n",
      "\n",
      "t:  78%|███████▊  | 377/485 [03:32<01:03,  1.69it/s, now=None]\u001b[A\u001b[A"
     ]
    },
    {
     "name": "stdout",
     "output_type": "stream",
     "text": [
      "[[[ 100  660]\n",
      "  [ 564  452]\n",
      "  [ 716  452]\n",
      "  [1180  660]]]\n",
      "2346.84418248 m 684.630532411 m\n"
     ]
    },
    {
     "name": "stderr",
     "output_type": "stream",
     "text": [
      "\n",
      "\n",
      "t:  78%|███████▊  | 378/485 [03:32<01:01,  1.74it/s, now=None]\u001b[A\u001b[A"
     ]
    },
    {
     "name": "stdout",
     "output_type": "stream",
     "text": [
      "[[[ 100  660]\n",
      "  [ 564  452]\n",
      "  [ 716  452]\n",
      "  [1180  660]]]\n",
      "2091.54094538 m 574.946736381 m\n"
     ]
    },
    {
     "name": "stderr",
     "output_type": "stream",
     "text": [
      "\n",
      "\n",
      "t:  78%|███████▊  | 379/485 [03:33<00:59,  1.78it/s, now=None]\u001b[A\u001b[A"
     ]
    },
    {
     "name": "stdout",
     "output_type": "stream",
     "text": [
      "[[[ 100  660]\n",
      "  [ 564  452]\n",
      "  [ 716  452]\n",
      "  [1180  660]]]\n"
     ]
    },
    {
     "name": "stderr",
     "output_type": "stream",
     "text": [
      "\n",
      "\n",
      "t:  78%|███████▊  | 380/485 [03:33<01:00,  1.73it/s, now=None]\u001b[A\u001b[A"
     ]
    },
    {
     "name": "stdout",
     "output_type": "stream",
     "text": [
      "2381.88292917 m 579.681791043 m\n",
      "[[[ 100  660]\n",
      "  [ 564  452]\n",
      "  [ 716  452]\n",
      "  [1180  660]]]\n",
      "3511.06459165 m 3199.90934945 m\n"
     ]
    },
    {
     "name": "stderr",
     "output_type": "stream",
     "text": [
      "\n",
      "\n",
      "t:  79%|███████▊  | 381/485 [03:34<01:01,  1.69it/s, now=None]\u001b[A\u001b[A"
     ]
    },
    {
     "name": "stdout",
     "output_type": "stream",
     "text": [
      "[[[ 100  660]\n",
      "  [ 564  452]\n",
      "  [ 716  452]\n",
      "  [1180  660]]]\n",
      "4970.45330043 m 4490.03953762 m\n"
     ]
    },
    {
     "name": "stderr",
     "output_type": "stream",
     "text": [
      "\n",
      "\n",
      "t:  79%|███████▉  | 382/485 [03:35<00:59,  1.75it/s, now=None]\u001b[A\u001b[A"
     ]
    },
    {
     "name": "stdout",
     "output_type": "stream",
     "text": [
      "[[[ 100  660]\n",
      "  [ 564  452]\n",
      "  [ 716  452]\n",
      "  [1180  660]]]\n",
      "2976.88772097 m 3498.84953723 m\n"
     ]
    },
    {
     "name": "stderr",
     "output_type": "stream",
     "text": [
      "\n",
      "\n",
      "t:  79%|███████▉  | 383/485 [03:35<00:57,  1.78it/s, now=None]\u001b[A\u001b[A"
     ]
    },
    {
     "name": "stdout",
     "output_type": "stream",
     "text": [
      "[[[ 100  660]\n",
      "  [ 564  452]\n",
      "  [ 716  452]\n",
      "  [1180  660]]]\n"
     ]
    },
    {
     "name": "stderr",
     "output_type": "stream",
     "text": [
      "\n",
      "\n",
      "t:  79%|███████▉  | 384/485 [03:36<01:00,  1.68it/s, now=None]\u001b[A\u001b[A"
     ]
    },
    {
     "name": "stdout",
     "output_type": "stream",
     "text": [
      "2893.00491072 m 6732.68680785 m\n",
      "[[[ 100  660]\n",
      "  [ 564  452]\n",
      "  [ 716  452]\n",
      "  [1180  660]]]\n",
      "2535.61122202 m 6331.02923095 m\n"
     ]
    },
    {
     "name": "stderr",
     "output_type": "stream",
     "text": [
      "\n",
      "\n",
      "t:  79%|███████▉  | 385/485 [03:36<00:59,  1.69it/s, now=None]\u001b[A\u001b[A"
     ]
    },
    {
     "name": "stdout",
     "output_type": "stream",
     "text": [
      "[[[ 100  660]\n",
      "  [ 564  452]\n",
      "  [ 716  452]\n",
      "  [1180  660]]]\n",
      "2071.41543481 m 3848.75784482 m\n"
     ]
    },
    {
     "name": "stderr",
     "output_type": "stream",
     "text": [
      "\n",
      "\n",
      "t:  80%|███████▉  | 386/485 [03:37<00:56,  1.74it/s, now=None]\u001b[A\u001b[A"
     ]
    },
    {
     "name": "stdout",
     "output_type": "stream",
     "text": [
      "[[[ 100  660]\n",
      "  [ 564  452]\n",
      "  [ 716  452]\n",
      "  [1180  660]]]\n",
      "2301.41940549 m 5009.27973906 m\n"
     ]
    },
    {
     "name": "stderr",
     "output_type": "stream",
     "text": [
      "\n",
      "\n",
      "t:  80%|███████▉  | 387/485 [03:37<00:55,  1.77it/s, now=None]\u001b[A\u001b[A"
     ]
    },
    {
     "name": "stdout",
     "output_type": "stream",
     "text": [
      "[[[ 100  660]\n",
      "  [ 564  452]\n",
      "  [ 716  452]\n",
      "  [1180  660]]]\n"
     ]
    },
    {
     "name": "stderr",
     "output_type": "stream",
     "text": [
      "\n",
      "\n",
      "t:  80%|████████  | 388/485 [03:38<00:55,  1.74it/s, now=None]\u001b[A\u001b[A"
     ]
    },
    {
     "name": "stdout",
     "output_type": "stream",
     "text": [
      "2123.99512131 m 4291.46681118 m\n",
      "[[[ 100  660]\n",
      "  [ 564  452]\n",
      "  [ 716  452]\n",
      "  [1180  660]]]\n",
      "2154.2771696 m 45253.7276164 m\n"
     ]
    },
    {
     "name": "stderr",
     "output_type": "stream",
     "text": [
      "\n",
      "\n",
      "t:  80%|████████  | 389/485 [03:39<00:56,  1.70it/s, now=None]\u001b[A\u001b[A"
     ]
    },
    {
     "name": "stdout",
     "output_type": "stream",
     "text": [
      "[[[ 100  660]\n",
      "  [ 564  452]\n",
      "  [ 716  452]\n",
      "  [1180  660]]]\n",
      "100828.905596 m 100828.905596 m\n"
     ]
    },
    {
     "name": "stderr",
     "output_type": "stream",
     "text": [
      "\n",
      "\n",
      "t:  80%|████████  | 390/485 [03:39<00:55,  1.70it/s, now=None]\u001b[A\u001b[A"
     ]
    },
    {
     "name": "stdout",
     "output_type": "stream",
     "text": [
      "[[[ 100  660]\n",
      "  [ 564  452]\n",
      "  [ 716  452]\n",
      "  [1180  660]]]\n",
      "47274.9059902 m 47274.9059902 m\n"
     ]
    },
    {
     "name": "stderr",
     "output_type": "stream",
     "text": [
      "\n",
      "\n",
      "t:  81%|████████  | 391/485 [03:40<00:53,  1.74it/s, now=None]\u001b[A\u001b[A"
     ]
    },
    {
     "name": "stdout",
     "output_type": "stream",
     "text": [
      "[[[ 100  660]\n",
      "  [ 564  452]\n",
      "  [ 716  452]\n",
      "  [1180  660]]]\n",
      "11664.395555 m 11664.395555 m\n"
     ]
    },
    {
     "name": "stderr",
     "output_type": "stream",
     "text": [
      "\n",
      "\n",
      "t:  81%|████████  | 392/485 [03:40<00:52,  1.78it/s, now=None]\u001b[A\u001b[A"
     ]
    },
    {
     "name": "stdout",
     "output_type": "stream",
     "text": [
      "[[[ 100  660]\n",
      "  [ 564  452]\n",
      "  [ 716  452]\n",
      "  [1180  660]]]\n",
      "17075.6801175 m 17075.6801175 m\n"
     ]
    },
    {
     "name": "stderr",
     "output_type": "stream",
     "text": [
      "\n",
      "\n",
      "t:  81%|████████  | 393/485 [03:41<00:50,  1.82it/s, now=None]\u001b[A\u001b[A"
     ]
    },
    {
     "name": "stdout",
     "output_type": "stream",
     "text": [
      "[[[ 100  660]\n",
      "  [ 564  452]\n",
      "  [ 716  452]\n",
      "  [1180  660]]]\n",
      "33017.345407 m 33017.345407 m\n"
     ]
    },
    {
     "name": "stderr",
     "output_type": "stream",
     "text": [
      "\n",
      "\n",
      "t:  81%|████████  | 394/485 [03:41<00:49,  1.83it/s, now=None]\u001b[A\u001b[A"
     ]
    },
    {
     "name": "stdout",
     "output_type": "stream",
     "text": [
      "[[[ 100  660]\n",
      "  [ 564  452]\n",
      "  [ 716  452]\n",
      "  [1180  660]]]\n"
     ]
    },
    {
     "name": "stderr",
     "output_type": "stream",
     "text": [
      "\n",
      "\n",
      "t:  81%|████████▏ | 395/485 [03:42<00:52,  1.71it/s, now=None]\u001b[A\u001b[A"
     ]
    },
    {
     "name": "stdout",
     "output_type": "stream",
     "text": [
      "24132.643623 m 24132.643623 m\n",
      "[[[ 100  660]\n",
      "  [ 564  452]\n",
      "  [ 716  452]\n",
      "  [1180  660]]]\n",
      "33852.9571059 m 33852.9571059 m\n"
     ]
    },
    {
     "name": "stderr",
     "output_type": "stream",
     "text": [
      "\n",
      "\n",
      "t:  82%|████████▏ | 396/485 [03:43<00:51,  1.72it/s, now=None]\u001b[A\u001b[A"
     ]
    },
    {
     "name": "stdout",
     "output_type": "stream",
     "text": [
      "[[[ 100  660]\n",
      "  [ 564  452]\n",
      "  [ 716  452]\n",
      "  [1180  660]]]\n",
      "7690.27487269 m 7690.27487269 m\n"
     ]
    },
    {
     "name": "stderr",
     "output_type": "stream",
     "text": [
      "\n",
      "\n",
      "t:  82%|████████▏ | 397/485 [03:43<00:50,  1.75it/s, now=None]\u001b[A\u001b[A"
     ]
    },
    {
     "name": "stdout",
     "output_type": "stream",
     "text": [
      "[[[ 100  660]\n",
      "  [ 564  452]\n",
      "  [ 716  452]\n",
      "  [1180  660]]]\n",
      "6483.76516895 m 6483.76516895 m\n"
     ]
    },
    {
     "name": "stderr",
     "output_type": "stream",
     "text": [
      "\n",
      "\n",
      "t:  82%|████████▏ | 398/485 [03:44<00:48,  1.78it/s, now=None]\u001b[A\u001b[A"
     ]
    },
    {
     "name": "stdout",
     "output_type": "stream",
     "text": [
      "[[[ 100  660]\n",
      "  [ 564  452]\n",
      "  [ 716  452]\n",
      "  [1180  660]]]\n"
     ]
    },
    {
     "name": "stderr",
     "output_type": "stream",
     "text": [
      "\n",
      "\n",
      "t:  82%|████████▏ | 399/485 [03:44<00:50,  1.70it/s, now=None]\u001b[A\u001b[A"
     ]
    },
    {
     "name": "stdout",
     "output_type": "stream",
     "text": [
      "5075.30213894 m 3047.42729378 m\n",
      "[[[ 100  660]\n",
      "  [ 564  452]\n",
      "  [ 716  452]\n",
      "  [1180  660]]]\n",
      "308.936314933 m 1177.05933598 m\n"
     ]
    },
    {
     "name": "stderr",
     "output_type": "stream",
     "text": [
      "\n",
      "\n",
      "t:  82%|████████▏ | 400/485 [03:45<00:49,  1.71it/s, now=None]\u001b[A\u001b[A"
     ]
    },
    {
     "name": "stdout",
     "output_type": "stream",
     "text": [
      "[[[ 100  660]\n",
      "  [ 564  452]\n",
      "  [ 716  452]\n",
      "  [1180  660]]]\n",
      "345.528442724 m 1177.25770622 m\n"
     ]
    },
    {
     "name": "stderr",
     "output_type": "stream",
     "text": [
      "\n",
      "\n",
      "t:  83%|████████▎ | 401/485 [03:45<00:47,  1.77it/s, now=None]\u001b[A\u001b[A"
     ]
    },
    {
     "name": "stdout",
     "output_type": "stream",
     "text": [
      "[[[ 100  660]\n",
      "  [ 564  452]\n",
      "  [ 716  452]\n",
      "  [1180  660]]]\n",
      "5436.56912942 m 2944.35036363 m\n"
     ]
    },
    {
     "name": "stderr",
     "output_type": "stream",
     "text": [
      "\n",
      "\n",
      "t:  83%|████████▎ | 402/485 [03:46<00:45,  1.82it/s, now=None]\u001b[A\u001b[A"
     ]
    },
    {
     "name": "stdout",
     "output_type": "stream",
     "text": [
      "[[[ 100  660]\n",
      "  [ 564  452]\n",
      "  [ 716  452]\n",
      "  [1180  660]]]\n"
     ]
    },
    {
     "name": "stderr",
     "output_type": "stream",
     "text": [
      "\n",
      "\n",
      "t:  83%|████████▎ | 403/485 [03:47<00:48,  1.70it/s, now=None]\u001b[A\u001b[A"
     ]
    },
    {
     "name": "stdout",
     "output_type": "stream",
     "text": [
      "3130.90468959 m 3790.39964415 m\n",
      "[[[ 100  660]\n",
      "  [ 564  452]\n",
      "  [ 716  452]\n",
      "  [1180  660]]]\n",
      "4407.89218321 m 18873.9012217 m\n"
     ]
    },
    {
     "name": "stderr",
     "output_type": "stream",
     "text": [
      "\n",
      "\n",
      "t:  83%|████████▎ | 404/485 [03:47<00:46,  1.75it/s, now=None]\u001b[A\u001b[A"
     ]
    },
    {
     "name": "stdout",
     "output_type": "stream",
     "text": [
      "[[[ 100  660]\n",
      "  [ 564  452]\n",
      "  [ 716  452]\n",
      "  [1180  660]]]\n",
      "3052.12171661 m 161747.385887 m\n"
     ]
    },
    {
     "name": "stderr",
     "output_type": "stream",
     "text": [
      "\n",
      "\n",
      "t:  84%|████████▎ | 405/485 [03:48<00:44,  1.81it/s, now=None]\u001b[A\u001b[A"
     ]
    },
    {
     "name": "stdout",
     "output_type": "stream",
     "text": [
      "[[[ 100  660]\n",
      "  [ 564  452]\n",
      "  [ 716  452]\n",
      "  [1180  660]]]\n",
      "1215.41470328 m 1786.17981214 m\n"
     ]
    },
    {
     "name": "stderr",
     "output_type": "stream",
     "text": [
      "\n",
      "\n",
      "t:  84%|████████▎ | 406/485 [03:48<00:43,  1.84it/s, now=None]\u001b[A\u001b[A"
     ]
    },
    {
     "name": "stdout",
     "output_type": "stream",
     "text": [
      "[[[ 100  660]\n",
      "  [ 564  452]\n",
      "  [ 716  452]\n",
      "  [1180  660]]]\n"
     ]
    },
    {
     "name": "stderr",
     "output_type": "stream",
     "text": [
      "\n",
      "\n",
      "t:  84%|████████▍ | 407/485 [03:49<00:45,  1.73it/s, now=None]\u001b[A\u001b[A"
     ]
    },
    {
     "name": "stdout",
     "output_type": "stream",
     "text": [
      "1102.83804083 m 1804.86828477 m\n",
      "[[[ 100  660]\n",
      "  [ 564  452]\n",
      "  [ 716  452]\n",
      "  [1180  660]]]\n",
      "1082.27438514 m 1483.95325766 m\n"
     ]
    },
    {
     "name": "stderr",
     "output_type": "stream",
     "text": [
      "\n",
      "\n",
      "t:  84%|████████▍ | 408/485 [03:49<00:44,  1.72it/s, now=None]\u001b[A\u001b[A"
     ]
    },
    {
     "name": "stdout",
     "output_type": "stream",
     "text": [
      "[[[ 100  660]\n",
      "  [ 564  452]\n",
      "  [ 716  452]\n",
      "  [1180  660]]]\n",
      "1072.43246919 m 1863.72795607 m\n"
     ]
    },
    {
     "name": "stderr",
     "output_type": "stream",
     "text": [
      "\n",
      "\n",
      "t:  84%|████████▍ | 409/485 [03:50<00:43,  1.76it/s, now=None]\u001b[A\u001b[A"
     ]
    },
    {
     "name": "stdout",
     "output_type": "stream",
     "text": [
      "[[[ 100  660]\n",
      "  [ 564  452]\n",
      "  [ 716  452]\n",
      "  [1180  660]]]\n",
      "2876.10539516 m 12324.8294683 m\n"
     ]
    },
    {
     "name": "stderr",
     "output_type": "stream",
     "text": [
      "\n",
      "\n",
      "t:  85%|████████▍ | 410/485 [03:51<00:43,  1.72it/s, now=None]\u001b[A\u001b[A"
     ]
    },
    {
     "name": "stdout",
     "output_type": "stream",
     "text": [
      "[[[ 100  660]\n",
      "  [ 564  452]\n",
      "  [ 716  452]\n",
      "  [1180  660]]]\n",
      "2116.93597246 m 4805.5556019 m\n"
     ]
    },
    {
     "name": "stderr",
     "output_type": "stream",
     "text": [
      "\n",
      "\n",
      "t:  85%|████████▍ | 411/485 [03:51<00:42,  1.74it/s, now=None]\u001b[A\u001b[A"
     ]
    },
    {
     "name": "stdout",
     "output_type": "stream",
     "text": [
      "[[[ 100  660]\n",
      "  [ 564  452]\n",
      "  [ 716  452]\n",
      "  [1180  660]]]\n",
      "2702.2612537 m 559.293227782 m\n"
     ]
    },
    {
     "name": "stderr",
     "output_type": "stream",
     "text": [
      "\n",
      "\n",
      "t:  85%|████████▍ | 412/485 [03:52<00:41,  1.76it/s, now=None]\u001b[A\u001b[A"
     ]
    },
    {
     "name": "stdout",
     "output_type": "stream",
     "text": [
      "[[[ 100  660]\n",
      "  [ 564  452]\n",
      "  [ 716  452]\n",
      "  [1180  660]]]\n",
      "1573.96932652 m 554.294038158 m\n"
     ]
    },
    {
     "name": "stderr",
     "output_type": "stream",
     "text": [
      "\n",
      "\n",
      "t:  85%|████████▌ | 413/485 [03:52<00:41,  1.73it/s, now=None]\u001b[A\u001b[A"
     ]
    },
    {
     "name": "stdout",
     "output_type": "stream",
     "text": [
      "[[[ 100  660]\n",
      "  [ 564  452]\n",
      "  [ 716  452]\n",
      "  [1180  660]]]\n",
      "1615.26073862 m 1269.63793256 m\n"
     ]
    },
    {
     "name": "stderr",
     "output_type": "stream",
     "text": [
      "\n",
      "\n",
      "t:  85%|████████▌ | 414/485 [03:53<00:41,  1.72it/s, now=None]\u001b[A\u001b[A"
     ]
    },
    {
     "name": "stdout",
     "output_type": "stream",
     "text": [
      "[[[ 100  660]\n",
      "  [ 564  452]\n",
      "  [ 716  452]\n",
      "  [1180  660]]]\n"
     ]
    },
    {
     "name": "stderr",
     "output_type": "stream",
     "text": [
      "\n",
      "\n",
      "t:  86%|████████▌ | 415/485 [03:53<00:41,  1.68it/s, now=None]\u001b[A\u001b[A"
     ]
    },
    {
     "name": "stdout",
     "output_type": "stream",
     "text": [
      "587.999334752 m 7044.71583518 m\n",
      "[[[ 100  660]\n",
      "  [ 564  452]\n",
      "  [ 716  452]\n",
      "  [1180  660]]]\n",
      "3132.53906987 m 74996.0202625 m\n"
     ]
    },
    {
     "name": "stderr",
     "output_type": "stream",
     "text": [
      "\n",
      "\n",
      "t:  86%|████████▌ | 416/485 [03:54<00:40,  1.69it/s, now=None]\u001b[A\u001b[A"
     ]
    },
    {
     "name": "stdout",
     "output_type": "stream",
     "text": [
      "[[[ 100  660]\n",
      "  [ 564  452]\n",
      "  [ 716  452]\n",
      "  [1180  660]]]\n",
      "401.41485081 m 22900.937415 m\n"
     ]
    },
    {
     "name": "stderr",
     "output_type": "stream",
     "text": [
      "\n",
      "\n",
      "t:  86%|████████▌ | 417/485 [03:55<00:39,  1.73it/s, now=None]\u001b[A\u001b[A"
     ]
    },
    {
     "name": "stdout",
     "output_type": "stream",
     "text": [
      "[[[ 100  660]\n",
      "  [ 564  452]\n",
      "  [ 716  452]\n",
      "  [1180  660]]]\n",
      "393.855891481 m 5094.96405479 m\n"
     ]
    },
    {
     "name": "stderr",
     "output_type": "stream",
     "text": [
      "\n",
      "\n",
      "t:  86%|████████▌ | 418/485 [03:55<00:37,  1.78it/s, now=None]\u001b[A\u001b[A"
     ]
    },
    {
     "name": "stdout",
     "output_type": "stream",
     "text": [
      "[[[ 100  660]\n",
      "  [ 564  452]\n",
      "  [ 716  452]\n",
      "  [1180  660]]]\n",
      "453.839321379 m 10191.5635361 m\n"
     ]
    },
    {
     "name": "stderr",
     "output_type": "stream",
     "text": [
      "\n",
      "\n",
      "t:  86%|████████▋ | 419/485 [03:56<00:37,  1.78it/s, now=None]\u001b[A\u001b[A"
     ]
    },
    {
     "name": "stdout",
     "output_type": "stream",
     "text": [
      "[[[ 100  660]\n",
      "  [ 564  452]\n",
      "  [ 716  452]\n",
      "  [1180  660]]]\n"
     ]
    },
    {
     "name": "stderr",
     "output_type": "stream",
     "text": [
      "\n",
      "\n",
      "t:  87%|████████▋ | 420/485 [03:56<00:37,  1.72it/s, now=None]\u001b[A\u001b[A"
     ]
    },
    {
     "name": "stdout",
     "output_type": "stream",
     "text": [
      "697.312214899 m 6917.27629991 m\n",
      "[[[ 100  660]\n",
      "  [ 564  452]\n",
      "  [ 716  452]\n",
      "  [1180  660]]]\n",
      "553.836177779 m 47215.5531792 m\n"
     ]
    },
    {
     "name": "stderr",
     "output_type": "stream",
     "text": [
      "\n",
      "\n",
      "t:  87%|████████▋ | 421/485 [03:57<00:36,  1.73it/s, now=None]\u001b[A\u001b[A"
     ]
    },
    {
     "name": "stdout",
     "output_type": "stream",
     "text": [
      "[[[ 100  660]\n",
      "  [ 564  452]\n",
      "  [ 716  452]\n",
      "  [1180  660]]]\n",
      "517.44005699 m 2203.68002043 m\n"
     ]
    },
    {
     "name": "stderr",
     "output_type": "stream",
     "text": [
      "\n",
      "\n",
      "t:  87%|████████▋ | 422/485 [03:57<00:35,  1.78it/s, now=None]\u001b[A\u001b[A"
     ]
    },
    {
     "name": "stdout",
     "output_type": "stream",
     "text": [
      "[[[ 100  660]\n",
      "  [ 564  452]\n",
      "  [ 716  452]\n",
      "  [1180  660]]]\n",
      "534.712099358 m 885.243701241 m\n"
     ]
    },
    {
     "name": "stderr",
     "output_type": "stream",
     "text": [
      "\n",
      "\n",
      "t:  87%|████████▋ | 423/485 [03:58<00:34,  1.82it/s, now=None]\u001b[A\u001b[A"
     ]
    },
    {
     "name": "stdout",
     "output_type": "stream",
     "text": [
      "[[[ 100  660]\n",
      "  [ 564  452]\n",
      "  [ 716  452]\n",
      "  [1180  660]]]\n"
     ]
    },
    {
     "name": "stderr",
     "output_type": "stream",
     "text": [
      "\n",
      "\n",
      "t:  87%|████████▋ | 424/485 [03:59<00:35,  1.70it/s, now=None]\u001b[A\u001b[A"
     ]
    },
    {
     "name": "stdout",
     "output_type": "stream",
     "text": [
      "1733.89732413 m 540.056317788 m\n",
      "[[[ 100  660]\n",
      "  [ 564  452]\n",
      "  [ 716  452]\n",
      "  [1180  660]]]\n",
      "683.985519449 m 619.755820841 m\n"
     ]
    },
    {
     "name": "stderr",
     "output_type": "stream",
     "text": [
      "\n",
      "\n",
      "t:  88%|████████▊ | 425/485 [03:59<00:34,  1.73it/s, now=None]\u001b[A\u001b[A"
     ]
    },
    {
     "name": "stdout",
     "output_type": "stream",
     "text": [
      "[[[ 100  660]\n",
      "  [ 564  452]\n",
      "  [ 716  452]\n",
      "  [1180  660]]]\n",
      "495.825743774 m 541.791031338 m\n"
     ]
    },
    {
     "name": "stderr",
     "output_type": "stream",
     "text": [
      "\n",
      "\n",
      "t:  88%|████████▊ | 426/485 [04:00<00:33,  1.78it/s, now=None]\u001b[A\u001b[A"
     ]
    },
    {
     "name": "stdout",
     "output_type": "stream",
     "text": [
      "[[[ 100  660]\n",
      "  [ 564  452]\n",
      "  [ 716  452]\n",
      "  [1180  660]]]\n",
      "343.383826798 m 1160.60069563 m\n"
     ]
    },
    {
     "name": "stderr",
     "output_type": "stream",
     "text": [
      "\n",
      "\n",
      "t:  88%|████████▊ | 427/485 [04:00<00:32,  1.81it/s, now=None]\u001b[A\u001b[A"
     ]
    },
    {
     "name": "stdout",
     "output_type": "stream",
     "text": [
      "[[[ 100  660]\n",
      "  [ 564  452]\n",
      "  [ 716  452]\n",
      "  [1180  660]]]\n"
     ]
    },
    {
     "name": "stderr",
     "output_type": "stream",
     "text": [
      "\n",
      "\n",
      "t:  88%|████████▊ | 428/485 [04:01<00:32,  1.77it/s, now=None]\u001b[A\u001b[A"
     ]
    },
    {
     "name": "stdout",
     "output_type": "stream",
     "text": [
      "366.253227166 m 971.621205 m\n",
      "[[[ 100  660]\n",
      "  [ 564  452]\n",
      "  [ 716  452]\n",
      "  [1180  660]]]\n",
      "408.537323362 m 802.365488044 m\n"
     ]
    },
    {
     "name": "stderr",
     "output_type": "stream",
     "text": [
      "\n",
      "\n",
      "t:  88%|████████▊ | 429/485 [04:01<00:32,  1.74it/s, now=None]\u001b[A\u001b[A"
     ]
    },
    {
     "name": "stdout",
     "output_type": "stream",
     "text": [
      "[[[ 100  660]\n",
      "  [ 564  452]\n",
      "  [ 716  452]\n",
      "  [1180  660]]]\n",
      "560.110538954 m 1071.61367933 m\n"
     ]
    },
    {
     "name": "stderr",
     "output_type": "stream",
     "text": [
      "\n",
      "\n",
      "t:  89%|████████▊ | 430/485 [04:02<00:30,  1.78it/s, now=None]\u001b[A\u001b[A"
     ]
    },
    {
     "name": "stdout",
     "output_type": "stream",
     "text": [
      "[[[ 100  660]\n",
      "  [ 564  452]\n",
      "  [ 716  452]\n",
      "  [1180  660]]]\n",
      "96897.8433042 m 569.403880611 m\n"
     ]
    },
    {
     "name": "stderr",
     "output_type": "stream",
     "text": [
      "\n",
      "\n",
      "t:  89%|████████▉ | 431/485 [04:02<00:29,  1.81it/s, now=None]\u001b[A\u001b[A"
     ]
    },
    {
     "name": "stdout",
     "output_type": "stream",
     "text": [
      "[[[ 100  660]\n",
      "  [ 564  452]\n",
      "  [ 716  452]\n",
      "  [1180  660]]]\n"
     ]
    },
    {
     "name": "stderr",
     "output_type": "stream",
     "text": [
      "\n",
      "\n",
      "t:  89%|████████▉ | 432/485 [04:03<00:30,  1.75it/s, now=None]\u001b[A\u001b[A"
     ]
    },
    {
     "name": "stdout",
     "output_type": "stream",
     "text": [
      "3563.34568615 m 1028.19220225 m\n",
      "[[[ 100  660]\n",
      "  [ 564  452]\n",
      "  [ 716  452]\n",
      "  [1180  660]]]\n",
      "40894.3739294 m 903.886129989 m\n"
     ]
    },
    {
     "name": "stderr",
     "output_type": "stream",
     "text": [
      "\n",
      "\n",
      "t:  89%|████████▉ | 433/485 [04:04<00:30,  1.72it/s, now=None]\u001b[A\u001b[A"
     ]
    },
    {
     "name": "stdout",
     "output_type": "stream",
     "text": [
      "[[[ 100  660]\n",
      "  [ 564  452]\n",
      "  [ 716  452]\n",
      "  [1180  660]]]\n",
      "7135.03629717 m 2367.04220463 m\n"
     ]
    },
    {
     "name": "stderr",
     "output_type": "stream",
     "text": [
      "\n",
      "\n",
      "t:  89%|████████▉ | 434/485 [04:04<00:28,  1.76it/s, now=None]\u001b[A\u001b[A"
     ]
    },
    {
     "name": "stdout",
     "output_type": "stream",
     "text": [
      "[[[ 100  660]\n",
      "  [ 564  452]\n",
      "  [ 716  452]\n",
      "  [1180  660]]]\n",
      "6374.82255523 m 1287.79759379 m\n"
     ]
    },
    {
     "name": "stderr",
     "output_type": "stream",
     "text": [
      "\n",
      "\n",
      "t:  90%|████████▉ | 435/485 [04:05<00:27,  1.80it/s, now=None]\u001b[A\u001b[A"
     ]
    },
    {
     "name": "stdout",
     "output_type": "stream",
     "text": [
      "[[[ 100  660]\n",
      "  [ 564  452]\n",
      "  [ 716  452]\n",
      "  [1180  660]]]\n"
     ]
    },
    {
     "name": "stderr",
     "output_type": "stream",
     "text": [
      "\n",
      "\n",
      "t:  90%|████████▉ | 436/485 [04:05<00:28,  1.70it/s, now=None]\u001b[A\u001b[A"
     ]
    },
    {
     "name": "stdout",
     "output_type": "stream",
     "text": [
      "144840.112767 m 1538.94547086 m\n",
      "[[[ 100  660]\n",
      "  [ 564  452]\n",
      "  [ 716  452]\n",
      "  [1180  660]]]\n",
      "10992.0406598 m 4553.60658661 m\n"
     ]
    },
    {
     "name": "stderr",
     "output_type": "stream",
     "text": [
      "\n",
      "\n",
      "t:  90%|█████████ | 437/485 [04:06<00:28,  1.69it/s, now=None]\u001b[A\u001b[A"
     ]
    },
    {
     "name": "stdout",
     "output_type": "stream",
     "text": [
      "[[[ 100  660]\n",
      "  [ 564  452]\n",
      "  [ 716  452]\n",
      "  [1180  660]]]\n",
      "32100.5826317 m 937.108284464 m\n"
     ]
    },
    {
     "name": "stderr",
     "output_type": "stream",
     "text": [
      "\n",
      "\n",
      "t:  90%|█████████ | 438/485 [04:07<00:27,  1.74it/s, now=None]\u001b[A\u001b[A"
     ]
    },
    {
     "name": "stdout",
     "output_type": "stream",
     "text": [
      "[[[ 100  660]\n",
      "  [ 564  452]\n",
      "  [ 716  452]\n",
      "  [1180  660]]]\n",
      "5301.56638573 m 15215.7124284 m\n"
     ]
    },
    {
     "name": "stderr",
     "output_type": "stream",
     "text": [
      "\n",
      "\n",
      "t:  91%|█████████ | 439/485 [04:07<00:26,  1.71it/s, now=None]\u001b[A\u001b[A"
     ]
    },
    {
     "name": "stdout",
     "output_type": "stream",
     "text": [
      "[[[ 100  660]\n",
      "  [ 564  452]\n",
      "  [ 716  452]\n",
      "  [1180  660]]]\n"
     ]
    },
    {
     "name": "stderr",
     "output_type": "stream",
     "text": [
      "\n",
      "\n",
      "t:  91%|█████████ | 440/485 [04:08<00:29,  1.54it/s, now=None]\u001b[A\u001b[A"
     ]
    },
    {
     "name": "stdout",
     "output_type": "stream",
     "text": [
      "6707.85514389 m 868.588015325 m\n",
      "[[[ 100  660]\n",
      "  [ 564  452]\n",
      "  [ 716  452]\n",
      "  [1180  660]]]\n",
      "4270.22743405 m 417.369650186 m\n"
     ]
    },
    {
     "name": "stderr",
     "output_type": "stream",
     "text": [
      "\n",
      "\n",
      "t:  91%|█████████ | 441/485 [04:09<00:27,  1.59it/s, now=None]\u001b[A\u001b[A"
     ]
    },
    {
     "name": "stdout",
     "output_type": "stream",
     "text": [
      "[[[ 100  660]\n",
      "  [ 564  452]\n",
      "  [ 716  452]\n",
      "  [1180  660]]]\n",
      "15754.8935146 m 360.102728474 m\n"
     ]
    },
    {
     "name": "stderr",
     "output_type": "stream",
     "text": [
      "\n",
      "\n",
      "t:  91%|█████████ | 442/485 [04:09<00:25,  1.70it/s, now=None]\u001b[A\u001b[A"
     ]
    },
    {
     "name": "stdout",
     "output_type": "stream",
     "text": [
      "[[[ 100  660]\n",
      "  [ 564  452]\n",
      "  [ 716  452]\n",
      "  [1180  660]]]\n",
      "1991.13342708 m 212.103735179 m\n"
     ]
    },
    {
     "name": "stderr",
     "output_type": "stream",
     "text": [
      "\n",
      "\n",
      "t:  91%|█████████▏| 443/485 [04:10<00:23,  1.75it/s, now=None]\u001b[A\u001b[A"
     ]
    },
    {
     "name": "stdout",
     "output_type": "stream",
     "text": [
      "[[[ 100  660]\n",
      "  [ 564  452]\n",
      "  [ 716  452]\n",
      "  [1180  660]]]\n"
     ]
    },
    {
     "name": "stderr",
     "output_type": "stream",
     "text": [
      "\n",
      "\n",
      "t:  92%|█████████▏| 444/485 [04:10<00:24,  1.67it/s, now=None]\u001b[A\u001b[A"
     ]
    },
    {
     "name": "stdout",
     "output_type": "stream",
     "text": [
      "3342.46417212 m 257.582089558 m\n",
      "[[[ 100  660]\n",
      "  [ 564  452]\n",
      "  [ 716  452]\n",
      "  [1180  660]]]\n",
      "3566.8071283 m 403.943566887 m\n"
     ]
    },
    {
     "name": "stderr",
     "output_type": "stream",
     "text": [
      "\n",
      "\n",
      "t:  92%|█████████▏| 445/485 [04:11<00:23,  1.67it/s, now=None]\u001b[A\u001b[A"
     ]
    },
    {
     "name": "stdout",
     "output_type": "stream",
     "text": [
      "[[[ 100  660]\n",
      "  [ 564  452]\n",
      "  [ 716  452]\n",
      "  [1180  660]]]\n",
      "5810.12877836 m 2325.19853192 m\n"
     ]
    },
    {
     "name": "stderr",
     "output_type": "stream",
     "text": [
      "\n",
      "\n",
      "t:  92%|█████████▏| 446/485 [04:11<00:22,  1.73it/s, now=None]\u001b[A\u001b[A"
     ]
    },
    {
     "name": "stdout",
     "output_type": "stream",
     "text": [
      "[[[ 100  660]\n",
      "  [ 564  452]\n",
      "  [ 716  452]\n",
      "  [1180  660]]]\n",
      "12350.8352709 m 8808.49519118 m\n"
     ]
    },
    {
     "name": "stderr",
     "output_type": "stream",
     "text": [
      "\n",
      "\n",
      "t:  92%|█████████▏| 447/485 [04:12<00:21,  1.75it/s, now=None]\u001b[A\u001b[A"
     ]
    },
    {
     "name": "stdout",
     "output_type": "stream",
     "text": [
      "[[[ 100  660]\n",
      "  [ 564  452]\n",
      "  [ 716  452]\n",
      "  [1180  660]]]\n",
      "12015.079712 m 7166.03040492 m\n"
     ]
    },
    {
     "name": "stderr",
     "output_type": "stream",
     "text": [
      "\n",
      "\n",
      "t:  92%|█████████▏| 448/485 [04:12<00:20,  1.77it/s, now=None]\u001b[A\u001b[A"
     ]
    },
    {
     "name": "stdout",
     "output_type": "stream",
     "text": [
      "[[[ 100  660]\n",
      "  [ 564  452]\n",
      "  [ 716  452]\n",
      "  [1180  660]]]\n",
      "13303.3118569 m 1656.42383174 m\n"
     ]
    },
    {
     "name": "stderr",
     "output_type": "stream",
     "text": [
      "\n",
      "\n",
      "t:  93%|█████████▎| 449/485 [04:13<00:21,  1.69it/s, now=None]\u001b[A\u001b[A"
     ]
    },
    {
     "name": "stdout",
     "output_type": "stream",
     "text": [
      "[[[ 100  660]\n",
      "  [ 564  452]\n",
      "  [ 716  452]\n",
      "  [1180  660]]]\n"
     ]
    },
    {
     "name": "stderr",
     "output_type": "stream",
     "text": [
      "\n",
      "\n",
      "t:  93%|█████████▎| 450/485 [04:14<00:21,  1.66it/s, now=None]\u001b[A\u001b[A"
     ]
    },
    {
     "name": "stdout",
     "output_type": "stream",
     "text": [
      "9914.03672273 m 2600.09669871 m\n",
      "[[[ 100  660]\n",
      "  [ 564  452]\n",
      "  [ 716  452]\n",
      "  [1180  660]]]\n",
      "20396.3680227 m 301.880187217 m\n"
     ]
    },
    {
     "name": "stderr",
     "output_type": "stream",
     "text": [
      "\n",
      "\n",
      "t:  93%|█████████▎| 451/485 [04:14<00:19,  1.70it/s, now=None]\u001b[A\u001b[A"
     ]
    },
    {
     "name": "stdout",
     "output_type": "stream",
     "text": [
      "[[[ 100  660]\n",
      "  [ 564  452]\n",
      "  [ 716  452]\n",
      "  [1180  660]]]\n",
      "3407.05995245 m 191.067693209 m\n"
     ]
    },
    {
     "name": "stderr",
     "output_type": "stream",
     "text": [
      "\n",
      "\n",
      "t:  93%|█████████▎| 452/485 [04:15<00:19,  1.66it/s, now=None]\u001b[A\u001b[A"
     ]
    },
    {
     "name": "stdout",
     "output_type": "stream",
     "text": [
      "[[[ 100  660]\n",
      "  [ 564  452]\n",
      "  [ 716  452]\n",
      "  [1180  660]]]\n",
      "3790.85123772 m 295.892106126 m\n"
     ]
    },
    {
     "name": "stderr",
     "output_type": "stream",
     "text": [
      "\n",
      "\n",
      "t:  93%|█████████▎| 453/485 [04:16<00:19,  1.67it/s, now=None]\u001b[A\u001b[A"
     ]
    },
    {
     "name": "stdout",
     "output_type": "stream",
     "text": [
      "[[[ 100  660]\n",
      "  [ 564  452]\n",
      "  [ 716  452]\n",
      "  [1180  660]]]\n",
      "2915.2407075 m 232.690872429 m\n"
     ]
    },
    {
     "name": "stderr",
     "output_type": "stream",
     "text": [
      "\n",
      "\n",
      "t:  94%|█████████▎| 454/485 [04:16<00:18,  1.72it/s, now=None]\u001b[A\u001b[A"
     ]
    },
    {
     "name": "stdout",
     "output_type": "stream",
     "text": [
      "[[[ 100  660]\n",
      "  [ 564  452]\n",
      "  [ 716  452]\n",
      "  [1180  660]]]\n",
      "3616.67994002 m 336.881239891 m\n"
     ]
    },
    {
     "name": "stderr",
     "output_type": "stream",
     "text": [
      "\n",
      "\n",
      "t:  94%|█████████▍| 455/485 [04:17<00:17,  1.75it/s, now=None]\u001b[A\u001b[A"
     ]
    },
    {
     "name": "stdout",
     "output_type": "stream",
     "text": [
      "[[[ 100  660]\n",
      "  [ 564  452]\n",
      "  [ 716  452]\n",
      "  [1180  660]]]\n",
      "1449.00467711 m 528.09545908 m\n"
     ]
    },
    {
     "name": "stderr",
     "output_type": "stream",
     "text": [
      "\n",
      "\n",
      "t:  94%|█████████▍| 456/485 [04:17<00:16,  1.76it/s, now=None]\u001b[A\u001b[A"
     ]
    },
    {
     "name": "stdout",
     "output_type": "stream",
     "text": [
      "[[[ 100  660]\n",
      "  [ 564  452]\n",
      "  [ 716  452]\n",
      "  [1180  660]]]\n"
     ]
    },
    {
     "name": "stderr",
     "output_type": "stream",
     "text": [
      "\n",
      "\n",
      "t:  94%|█████████▍| 457/485 [04:18<00:16,  1.67it/s, now=None]\u001b[A\u001b[A"
     ]
    },
    {
     "name": "stdout",
     "output_type": "stream",
     "text": [
      "1633.60783733 m 291.673430408 m\n",
      "[[[ 100  660]\n",
      "  [ 564  452]\n",
      "  [ 716  452]\n",
      "  [1180  660]]]\n",
      "2004.59244165 m 259.742098783 m\n"
     ]
    },
    {
     "name": "stderr",
     "output_type": "stream",
     "text": [
      "\n",
      "\n",
      "t:  94%|█████████▍| 458/485 [04:18<00:16,  1.67it/s, now=None]\u001b[A\u001b[A"
     ]
    },
    {
     "name": "stdout",
     "output_type": "stream",
     "text": [
      "[[[ 100  660]\n",
      "  [ 564  452]\n",
      "  [ 716  452]\n",
      "  [1180  660]]]\n",
      "6363.53895997 m 351.73025054 m\n"
     ]
    },
    {
     "name": "stderr",
     "output_type": "stream",
     "text": [
      "\n",
      "\n",
      "t:  95%|█████████▍| 459/485 [04:19<00:15,  1.65it/s, now=None]\u001b[A\u001b[A"
     ]
    },
    {
     "name": "stdout",
     "output_type": "stream",
     "text": [
      "[[[ 100  660]\n",
      "  [ 564  452]\n",
      "  [ 716  452]\n",
      "  [1180  660]]]\n",
      "10055.8079711 m 373.860142019 m\n"
     ]
    },
    {
     "name": "stderr",
     "output_type": "stream",
     "text": [
      "\n",
      "\n",
      "t:  95%|█████████▍| 460/485 [04:20<00:14,  1.70it/s, now=None]\u001b[A\u001b[A"
     ]
    },
    {
     "name": "stdout",
     "output_type": "stream",
     "text": [
      "[[[ 100  660]\n",
      "  [ 564  452]\n",
      "  [ 716  452]\n",
      "  [1180  660]]]\n",
      "6236.09406741 m 64.4279529038 m\n"
     ]
    },
    {
     "name": "stderr",
     "output_type": "stream",
     "text": [
      "\n",
      "\n",
      "t:  95%|█████████▌| 461/485 [04:20<00:13,  1.76it/s, now=None]\u001b[A\u001b[A"
     ]
    },
    {
     "name": "stdout",
     "output_type": "stream",
     "text": [
      "[[[ 100  660]\n",
      "  [ 564  452]\n",
      "  [ 716  452]\n",
      "  [1180  660]]]\n",
      "9717.1188945 m 470.291154795 m\n"
     ]
    },
    {
     "name": "stderr",
     "output_type": "stream",
     "text": [
      "\n",
      "\n",
      "t:  95%|█████████▌| 462/485 [04:21<00:13,  1.77it/s, now=None]\u001b[A\u001b[A"
     ]
    },
    {
     "name": "stdout",
     "output_type": "stream",
     "text": [
      "[[[ 100  660]\n",
      "  [ 564  452]\n",
      "  [ 716  452]\n",
      "  [1180  660]]]\n"
     ]
    },
    {
     "name": "stderr",
     "output_type": "stream",
     "text": [
      "\n",
      "\n",
      "t:  95%|█████████▌| 463/485 [04:21<00:13,  1.67it/s, now=None]\u001b[A\u001b[A"
     ]
    },
    {
     "name": "stdout",
     "output_type": "stream",
     "text": [
      "8504.05530839 m 513.359959601 m\n",
      "[[[ 100  660]\n",
      "  [ 564  452]\n",
      "  [ 716  452]\n",
      "  [1180  660]]]\n",
      "289.379349838 m 13227.3139032 m\n"
     ]
    },
    {
     "name": "stderr",
     "output_type": "stream",
     "text": [
      "\n",
      "\n",
      "t:  96%|█████████▌| 464/485 [04:22<00:12,  1.69it/s, now=None]\u001b[A\u001b[A"
     ]
    },
    {
     "name": "stdout",
     "output_type": "stream",
     "text": [
      "[[[ 100  660]\n",
      "  [ 564  452]\n",
      "  [ 716  452]\n",
      "  [1180  660]]]\n",
      "1491.09488479 m 214.547279819 m\n"
     ]
    },
    {
     "name": "stderr",
     "output_type": "stream",
     "text": [
      "\n",
      "\n",
      "t:  96%|█████████▌| 465/485 [04:22<00:11,  1.74it/s, now=None]\u001b[A\u001b[A"
     ]
    },
    {
     "name": "stdout",
     "output_type": "stream",
     "text": [
      "[[[ 100  660]\n",
      "  [ 564  452]\n",
      "  [ 716  452]\n",
      "  [1180  660]]]\n",
      "524.576442259 m 283.15563097 m\n"
     ]
    },
    {
     "name": "stderr",
     "output_type": "stream",
     "text": [
      "\n",
      "\n",
      "t:  96%|█████████▌| 466/485 [04:23<00:10,  1.78it/s, now=None]\u001b[A\u001b[A"
     ]
    },
    {
     "name": "stdout",
     "output_type": "stream",
     "text": [
      "[[[ 100  660]\n",
      "  [ 564  452]\n",
      "  [ 716  452]\n",
      "  [1180  660]]]\n"
     ]
    },
    {
     "name": "stderr",
     "output_type": "stream",
     "text": [
      "\n",
      "\n",
      "t:  96%|█████████▋| 467/485 [04:24<00:10,  1.68it/s, now=None]\u001b[A\u001b[A"
     ]
    },
    {
     "name": "stdout",
     "output_type": "stream",
     "text": [
      "2250.30160915 m 109.566220741 m\n",
      "[[[ 100  660]\n",
      "  [ 564  452]\n",
      "  [ 716  452]\n",
      "  [1180  660]]]\n",
      "301.323047166 m 199.875646339 m\n"
     ]
    },
    {
     "name": "stderr",
     "output_type": "stream",
     "text": [
      "\n",
      "\n",
      "t:  96%|█████████▋| 468/485 [04:24<00:10,  1.68it/s, now=None]\u001b[A\u001b[A"
     ]
    },
    {
     "name": "stdout",
     "output_type": "stream",
     "text": [
      "[[[ 100  660]\n",
      "  [ 564  452]\n",
      "  [ 716  452]\n",
      "  [1180  660]]]\n",
      "324.115717473 m 191.232905399 m\n"
     ]
    },
    {
     "name": "stderr",
     "output_type": "stream",
     "text": [
      "\n",
      "\n",
      "t:  97%|█████████▋| 469/485 [04:25<00:09,  1.73it/s, now=None]\u001b[A\u001b[A"
     ]
    },
    {
     "name": "stdout",
     "output_type": "stream",
     "text": [
      "[[[ 100  660]\n",
      "  [ 564  452]\n",
      "  [ 716  452]\n",
      "  [1180  660]]]\n",
      "310.123624299 m 301.608520329 m\n"
     ]
    },
    {
     "name": "stderr",
     "output_type": "stream",
     "text": [
      "\n",
      "\n",
      "t:  97%|█████████▋| 470/485 [04:25<00:08,  1.77it/s, now=None]\u001b[A\u001b[A"
     ]
    },
    {
     "name": "stdout",
     "output_type": "stream",
     "text": [
      "[[[ 100  660]\n",
      "  [ 564  452]\n",
      "  [ 716  452]\n",
      "  [1180  660]]]\n",
      "397.57698725 m 62.2149038065 m\n"
     ]
    },
    {
     "name": "stderr",
     "output_type": "stream",
     "text": [
      "\n",
      "\n",
      "t:  97%|█████████▋| 471/485 [04:26<00:07,  1.78it/s, now=None]\u001b[A\u001b[A"
     ]
    },
    {
     "name": "stdout",
     "output_type": "stream",
     "text": [
      "[[[ 100  660]\n",
      "  [ 564  452]\n",
      "  [ 716  452]\n",
      "  [1180  660]]]\n",
      "629.962097735 m 223.359388541 m\n"
     ]
    },
    {
     "name": "stderr",
     "output_type": "stream",
     "text": [
      "\n",
      "\n",
      "t:  97%|█████████▋| 472/485 [04:27<00:07,  1.70it/s, now=None]\u001b[A\u001b[A"
     ]
    },
    {
     "name": "stdout",
     "output_type": "stream",
     "text": [
      "[[[ 100  660]\n",
      "  [ 564  452]\n",
      "  [ 716  452]\n",
      "  [1180  660]]]\n",
      "947.770516845 m 141.115893043 m\n"
     ]
    },
    {
     "name": "stderr",
     "output_type": "stream",
     "text": [
      "\n",
      "\n",
      "t:  98%|█████████▊| 473/485 [04:27<00:06,  1.73it/s, now=None]\u001b[A\u001b[A"
     ]
    },
    {
     "name": "stdout",
     "output_type": "stream",
     "text": [
      "[[[ 100  660]\n",
      "  [ 564  452]\n",
      "  [ 716  452]\n",
      "  [1180  660]]]\n"
     ]
    },
    {
     "name": "stderr",
     "output_type": "stream",
     "text": [
      "\n",
      "\n",
      "t:  98%|█████████▊| 474/485 [04:28<00:06,  1.71it/s, now=None]\u001b[A\u001b[A"
     ]
    },
    {
     "name": "stdout",
     "output_type": "stream",
     "text": [
      "523.012978635 m 192.269449358 m\n",
      "[[[ 100  660]\n",
      "  [ 564  452]\n",
      "  [ 716  452]\n",
      "  [1180  660]]]\n",
      "3050.44262942 m 220.755950805 m\n"
     ]
    },
    {
     "name": "stderr",
     "output_type": "stream",
     "text": [
      "\n",
      "\n",
      "t:  98%|█████████▊| 475/485 [04:28<00:05,  1.75it/s, now=None]\u001b[A\u001b[A"
     ]
    },
    {
     "name": "stdout",
     "output_type": "stream",
     "text": [
      "[[[ 100  660]\n",
      "  [ 564  452]\n",
      "  [ 716  452]\n",
      "  [1180  660]]]\n",
      "1744.21054783 m 2810.58230619 m\n"
     ]
    },
    {
     "name": "stderr",
     "output_type": "stream",
     "text": [
      "\n",
      "\n",
      "t:  98%|█████████▊| 476/485 [04:29<00:05,  1.75it/s, now=None]\u001b[A\u001b[A"
     ]
    },
    {
     "name": "stdout",
     "output_type": "stream",
     "text": [
      "[[[ 100  660]\n",
      "  [ 564  452]\n",
      "  [ 716  452]\n",
      "  [1180  660]]]\n",
      "2499.44720209 m 997.068499071 m\n"
     ]
    },
    {
     "name": "stderr",
     "output_type": "stream",
     "text": [
      "\n",
      "\n",
      "t:  98%|█████████▊| 477/485 [04:29<00:04,  1.78it/s, now=None]\u001b[A\u001b[A"
     ]
    },
    {
     "name": "stdout",
     "output_type": "stream",
     "text": [
      "[[[ 100  660]\n",
      "  [ 564  452]\n",
      "  [ 716  452]\n",
      "  [1180  660]]]\n",
      "2289.32411013 m 3676.48109884 m\n"
     ]
    },
    {
     "name": "stderr",
     "output_type": "stream",
     "text": [
      "\n",
      "\n",
      "t:  99%|█████████▊| 478/485 [04:30<00:03,  1.76it/s, now=None]\u001b[A\u001b[A"
     ]
    },
    {
     "name": "stdout",
     "output_type": "stream",
     "text": [
      "[[[ 100  660]\n",
      "  [ 564  452]\n",
      "  [ 716  452]\n",
      "  [1180  660]]]\n",
      "3805.34666227 m 517.417514771 m\n"
     ]
    },
    {
     "name": "stderr",
     "output_type": "stream",
     "text": [
      "\n",
      "\n",
      "t:  99%|█████████▉| 479/485 [04:31<00:03,  1.71it/s, now=None]\u001b[A\u001b[A"
     ]
    },
    {
     "name": "stdout",
     "output_type": "stream",
     "text": [
      "[[[ 100  660]\n",
      "  [ 564  452]\n",
      "  [ 716  452]\n",
      "  [1180  660]]]\n",
      "2153.08299886 m 268.389397514 m\n"
     ]
    },
    {
     "name": "stderr",
     "output_type": "stream",
     "text": [
      "\n",
      "\n",
      "t:  99%|█████████▉| 480/485 [04:31<00:02,  1.76it/s, now=None]\u001b[A\u001b[A"
     ]
    },
    {
     "name": "stdout",
     "output_type": "stream",
     "text": [
      "[[[ 100  660]\n",
      "  [ 564  452]\n",
      "  [ 716  452]\n",
      "  [1180  660]]]\n",
      "6241.77634743 m 248.747143667 m\n"
     ]
    },
    {
     "name": "stderr",
     "output_type": "stream",
     "text": [
      "\n",
      "\n",
      "t:  99%|█████████▉| 481/485 [04:32<00:02,  1.78it/s, now=None]\u001b[A\u001b[A"
     ]
    },
    {
     "name": "stdout",
     "output_type": "stream",
     "text": [
      "[[[ 100  660]\n",
      "  [ 564  452]\n",
      "  [ 716  452]\n",
      "  [1180  660]]]\n",
      "6002.6744881 m 209.352751943 m\n"
     ]
    },
    {
     "name": "stderr",
     "output_type": "stream",
     "text": [
      "\n",
      "\n",
      "t:  99%|█████████▉| 482/485 [04:32<00:01,  1.77it/s, now=None]\u001b[A\u001b[A"
     ]
    },
    {
     "name": "stdout",
     "output_type": "stream",
     "text": [
      "[[[ 100  660]\n",
      "  [ 564  452]\n",
      "  [ 716  452]\n",
      "  [1180  660]]]\n",
      "1560.16073477 m 191.423750061 m\n"
     ]
    },
    {
     "name": "stderr",
     "output_type": "stream",
     "text": [
      "\n",
      "\n",
      "t: 100%|█████████▉| 483/485 [04:33<00:01,  1.72it/s, now=None]\u001b[A\u001b[A"
     ]
    },
    {
     "name": "stdout",
     "output_type": "stream",
     "text": [
      "[[[ 100  660]\n",
      "  [ 564  452]\n",
      "  [ 716  452]\n",
      "  [1180  660]]]\n",
      "1842.47763039 m 155.663368457 m\n"
     ]
    },
    {
     "name": "stderr",
     "output_type": "stream",
     "text": [
      "\n",
      "\n",
      "t: 100%|█████████▉| 484/485 [04:33<00:00,  1.71it/s, now=None]\u001b[A\u001b[A"
     ]
    },
    {
     "name": "stdout",
     "output_type": "stream",
     "text": [
      "[[[ 100  660]\n",
      "  [ 564  452]\n",
      "  [ 716  452]\n",
      "  [1180  660]]]\n",
      "1373.13866767 m 131.492418181 m\n"
     ]
    },
    {
     "name": "stderr",
     "output_type": "stream",
     "text": [
      "\n",
      "\n",
      "t: 100%|██████████| 485/485 [04:34<00:00,  1.74it/s, now=None]\u001b[A\u001b[A"
     ]
    },
    {
     "name": "stdout",
     "output_type": "stream",
     "text": [
      "[[[ 100  660]\n",
      "  [ 564  452]\n",
      "  [ 716  452]\n",
      "  [1180  660]]]\n",
      "1373.13866767 m 131.492418181 m\n"
     ]
    },
    {
     "name": "stderr",
     "output_type": "stream",
     "text": [
      "\n",
      "\n",
      "                                                                A\u001b[A\n",
      "t:   2%|▏         | 20/1260 [3:54:24<13:39,  1.51it/s, now=None]\n",
      "                                                                \u001b[A\n",
      "t:   2%|▏         | 20/1260 [3:54:24<13:39,  1.51it/s, now=None]\n",
      "t:   1%|          | 15/1260 [3:52:52<14:01,  1.48it/s, now=None]\u001b[A"
     ]
    },
    {
     "name": "stdout",
     "output_type": "stream",
     "text": [
      "Moviepy - Done !\n",
      "Moviepy - video ready out_put_challenge_video.mp4\n",
      "CPU times: user 6min 21s, sys: 12.5 s, total: 6min 34s\n",
      "Wall time: 4min 42s\n"
     ]
    }
   ],
   "source": [
    "def abs_sobel_thresh(img, orient='x', sobel_kernel=3, thresh=(0, 255)):\n",
    "    # Calculate directional gradient\n",
    "    # Apply threshold\n",
    "    # Convert to grayscale\n",
    "    gray = cv2.cvtColor(img, cv2.COLOR_BGR2GRAY)\n",
    "    # Apply x or y gradient with the OpenCV Sobel() function\n",
    "    # and take the absolute value\n",
    "    if orient == 'x':\n",
    "        abs_sobel = np.absolute(cv2.Sobel(gray, cv2.CV_64F, 1, 0, ksize=sobel_kernel))\n",
    "    if orient == 'y':\n",
    "        abs_sobel = np.absolute(cv2.Sobel(gray, cv2.CV_64F, 0, 1, ksize=sobel_kernel))\n",
    "    # Rescale back to 8 bit integer\n",
    "    scaled_sobel = np.uint8(255*abs_sobel/np.max(abs_sobel))\n",
    "    # Create a copy and apply the threshold\n",
    "    grad_binary = np.zeros_like(scaled_sobel)\n",
    "    # Here I'm using inclusive (>=, <=) thresholds, but exclusive is ok too\n",
    "    grad_binary[(scaled_sobel >= thresh[0]) & (scaled_sobel <= thresh[1])] = 1\n",
    "\n",
    "    # Return the result\n",
    "    return grad_binary\n",
    "\n",
    "def mag_thresh(image, sobel_kernel=3, mag_thresh=(0, 255)):\n",
    "    # Calculate gradient magnitude\n",
    "    # Apply threshold\n",
    "    # Convert to grayscale\n",
    "    gray = cv2.cvtColor(img, cv2.COLOR_BGR2GRAY)\n",
    "    # Take both Sobel x and y gradients\n",
    "    sobelx = cv2.Sobel(gray, cv2.CV_64F, 1, 0, ksize=sobel_kernel)\n",
    "    sobely = cv2.Sobel(gray, cv2.CV_64F, 0, 1, ksize=sobel_kernel)\n",
    "    # Calculate the gradient magnitude\n",
    "    gradmag = np.sqrt(sobelx**2 + sobely**2)\n",
    "    # Rescale to 8 bit\n",
    "    scale_factor = np.max(gradmag)/255 \n",
    "    gradmag = (gradmag/scale_factor).astype(np.uint8) \n",
    "    # Create a binary image of ones where threshold is met, zeros otherwise\n",
    "    mag_binary = np.zeros_like(gradmag)\n",
    "    mag_binary[(gradmag >= mag_thresh[0]) & (gradmag <= mag_thresh[1])] = 1\n",
    "\n",
    "    # Return the binary image\n",
    "    return mag_binary\n",
    "\n",
    "def dir_threshold(image, sobel_kernel=3, thresh=(0, np.pi/2)):\n",
    "    # Calculate gradient direction\n",
    "    # Apply threshold\n",
    "    # Grayscale\n",
    "    gray = cv2.cvtColor(img, cv2.COLOR_BGR2GRAY)\n",
    "    # Calculate the x and y gradients\n",
    "    sobelx = cv2.Sobel(gray, cv2.CV_64F, 1, 0, ksize=sobel_kernel)\n",
    "    sobely = cv2.Sobel(gray, cv2.CV_64F, 0, 1, ksize=sobel_kernel)\n",
    "    # Take the absolute value of the gradient direction, \n",
    "    # apply a threshold, and create a binary image result\n",
    "    absgraddir = np.arctan2(np.absolute(sobely), np.absolute(sobelx))\n",
    "    dir_binary =  np.zeros_like(absgraddir)\n",
    "    dir_binary[(absgraddir >= thresh[0]) & (absgraddir <= thresh[1])] = 1\n",
    "\n",
    "    # Return the binary image\n",
    "    return dir_binary\n",
    "\n",
    "def process_grad_thresholds(image):\n",
    "    # Choose a Sobel kernel size\n",
    "    ksize = 9 # Choose a larger odd number to smooth gradient measurements\n",
    "\n",
    "    # Apply each of the thresholding functions\n",
    "    gradx = abs_sobel_thresh(image, orient='x', sobel_kernel=ksize, thresh=(30, 255))\n",
    "    grady = abs_sobel_thresh(image, orient='y', sobel_kernel=ksize, thresh=(20, 100))\n",
    "    mag_binary = mag_thresh(image, sobel_kernel=15, mag_thresh=(30, 255))\n",
    "    dir_binary = dir_threshold(image, sobel_kernel=15, thresh=(0.7, 1.3))\n",
    "\n",
    "    combined1 = np.zeros_like(dir_binary)\n",
    "    combined2 = np.zeros_like(dir_binary)\n",
    "    combined3 = np.zeros_like(dir_binary)\n",
    "    combined1[(gradx == 1)] = 1\n",
    "    combined2[((mag_binary == 1) & (dir_binary == 1))] = 1\n",
    "    combined3 = cv2.bitwise_or(combined1, combined2)\n",
    "    #combined = np.uint8(np.rint(combined3*255))\n",
    "    result = gradx\n",
    "    \n",
    "#    show(gradx,0)\n",
    "#    show(grady,0)\n",
    "#   show(mag_binary,0)\n",
    "#    show(dir_binary,0)\n",
    "#    show(combined,0)\n",
    "\n",
    "    image_poly = np.copy(image)\n",
    "    mask_poly = np.zeros_like(gradx)\n",
    "    cut_y, vertices_poly = region_masking_vertices(image.shape)\n",
    "    vertices_poly = np.int32(vertices_poly)\n",
    "    print(vertices_poly)\n",
    "    cv2.fillPoly(mask_poly, vertices_poly, 1)\n",
    "    image_poly[mask_poly == 0,:] = [0, 0, 0]\n",
    "    image_poly = cv2.addWeighted(image_poly,0.5,image,0.5,1)\n",
    "\n",
    "    row1 = np.concatenate((image_poly,cv2.cvtColor(gradx*255,cv2.COLOR_GRAY2BGR)),axis=1)\n",
    "    row2 = np.concatenate((mag_binary,dir_binary),axis=1)\n",
    "    row2 = np.uint8(np.rint(row2*255))\n",
    "    row2 = cv2.cvtColor(row2,cv2.COLOR_GRAY2BGR)\n",
    "    row3 = np.concatenate((combined2,result),axis=1)\n",
    "    row3 = np.uint8(np.rint(row3*255))\n",
    "    row3 = cv2.cvtColor(row3,cv2.COLOR_GRAY2BGR)\n",
    "    processed_analyse = np.concatenate((row1,row2,row3),axis=0)\n",
    "    \n",
    "#    show(processed_analyse)\n",
    "    return processed_analyse, result\n",
    "\n",
    "def color_thresh(img, s_thresh=(170, 255), l_thresh=(170, 255)):\n",
    "    img = np.copy(img)\n",
    "    # Convert to HLS color space and separate the V channel\n",
    "    hls = cv2.cvtColor(img, cv2.COLOR_RGB2HLS)\n",
    "    l_channel = hls[:,:,1]\n",
    "    s_channel = hls[:,:,2]\n",
    "        \n",
    "    # Threshold color channel\n",
    "    s_binary = np.zeros_like(s_channel)\n",
    "    s_binary[(s_channel >= s_thresh[0]) & (s_channel <= s_thresh[1])] = 1\n",
    "\n",
    "    l_binary = np.zeros_like(l_channel)\n",
    "    l_binary[(l_channel >= l_thresh[0]) & (l_channel <= l_thresh[1])] = 1\n",
    "    return s_binary, l_binary\n",
    "\n",
    "def combine_grad_color_thresh(img):\n",
    "    analyse_grad,grad_binary=process_grad_thresholds(img)\n",
    "    s_binary, l_binary = color_thresh(img)\n",
    "    \n",
    "    rgb_combined = np.dstack(( np.zeros_like(grad_binary), grad_binary, s_binary)) * 255\n",
    "    binary_combined = np.zeros_like(grad_binary)\n",
    "    binary_combined[(grad_binary == 1) | (s_binary == 1)] = 1\n",
    "    \n",
    "    s_rgb = np.dstack((s_binary,s_binary,s_binary))*255\n",
    "    l_rgb = np.dstack((l_binary,l_binary,l_binary))*255\n",
    "    column = np.concatenate((s_rgb,rgb_combined),axis=1)\n",
    "    analyse_grad_color = np.concatenate((analyse_grad,column),axis=0)\n",
    "    return binary_combined, rgb_combined, analyse_grad_color\n",
    "\n",
    "def region_masking_vertices(imshape):\n",
    "    cut_y = 60\n",
    "    cut_b_trapezoid = 100\n",
    "    h_mod = imshape[0]*0.95-cut_y\n",
    "    h_trapezoid = h_mod*0.43\n",
    "    a_trapezoid = (imshape[1]-2*cut_b_trapezoid)*(h_mod/2-h_trapezoid)/(h_mod/2)\n",
    "    vertices_mask= np.array([[(cut_b_trapezoid,imshape[0]-cut_y),(imshape[1]/2-a_trapezoid/2, imshape[0]-h_trapezoid), (imshape[1]/2+a_trapezoid/2, imshape[0]-h_trapezoid), (imshape[1]-cut_b_trapezoid,imshape[0]-cut_y)]], dtype=np.float32)\n",
    "    vertices_mask = np.rint(vertices_mask)\n",
    "    return cut_y, vertices_mask\n",
    "\n",
    "def process_perspective(image):\n",
    "    # to get an image from the top view perspective\n",
    "    imshape = image.shape\n",
    "\n",
    "    cut_y, vertices_mask = region_masking_vertices(imshape)\n",
    "    \n",
    "    h_new = imshape[0]*4\n",
    "    w_new = imshape[1]*1\n",
    "    vertices_dst= np.array([[(0,h_new),(0,0), (w_new, 0), (w_new,h_new)]], dtype=np.float32)\n",
    "    \n",
    "    matrix_transform = cv2.getPerspectiveTransform(vertices_mask,vertices_dst)\n",
    "    image_dst = cv2.warpPerspective(image,matrix_transform,(w_new,h_new),flags=cv2.INTER_LINEAR)\n",
    "\n",
    "    matrix_transform_back = cv2.getPerspectiveTransform(vertices_dst,vertices_mask)\n",
    "\n",
    "    return image_dst, matrix_transform_back\n",
    "\n",
    "def find_lane_pixels_sliding_windows(binary_warped,nonzeroy,nonzerox):\n",
    "    # Take a histogram of the bottom half of the image\n",
    "    histogram = np.sum(binary_warped[binary_warped.shape[0]//2:,:], axis=0)\n",
    "    \n",
    "    # Find the peak of the left and right halves of the histogram\n",
    "    # These will be the starting point for the left and right lines\n",
    "    midpoint = np.int(histogram.shape[0]//2)\n",
    "    leftx_base = np.argmax(histogram[:midpoint])\n",
    "    rightx_base = np.argmax(histogram[midpoint:]) + midpoint\n",
    "    \n",
    "    # HYPERPARAMETERS\n",
    "    # Choose the number of sliding windows\n",
    "    nwindows = 9\n",
    "    # Set the width of the windows +/- margin\n",
    "    margin = 100\n",
    "    # Set minimum number of pixels found to recenter window\n",
    "    minpix = 50\n",
    "\n",
    "    # Set height of windows - based on nwindows above and image shape\n",
    "    window_height = np.int(binary_warped.shape[0]//nwindows)\n",
    "    \n",
    "    # Create an output image to draw on and visualize the result\n",
    "    out_img = np.dstack((binary_warped, binary_warped, binary_warped))\n",
    "    \n",
    "    \n",
    "    # Current positions to be updated later for each window in nwindows\n",
    "    leftx_current = leftx_base\n",
    "    rightx_current = rightx_base\n",
    "    \n",
    "    # Create empty lists to receive left and right lane pixel indices\n",
    "    left_lane_inds = []\n",
    "    right_lane_inds = []\n",
    "    \n",
    "    # Step through the windows one by one\n",
    "    for window in range(nwindows):\n",
    "        # Identify window boundaries in x and y (and right and left)\n",
    "        win_y_low = binary_warped.shape[0] - (window+1)*window_height\n",
    "        win_y_high = binary_warped.shape[0] - window*window_height\n",
    "        win_xleft_low = leftx_current - margin\n",
    "        win_xleft_high = leftx_current + margin\n",
    "        win_xright_low = rightx_current - margin\n",
    "        win_xright_high = rightx_current + margin\n",
    "\n",
    "        # Draw the windows on the visualization image\n",
    "        cv2.rectangle(out_img,(win_xleft_low,win_y_low),\n",
    "        (win_xleft_high,win_y_high),(0,255,0), 2) \n",
    "        cv2.rectangle(out_img,(win_xright_low,win_y_low),\n",
    "        (win_xright_high,win_y_high),(0,255,0), 2) \n",
    "\n",
    "        # Identify the nonzero pixels in x and y within the window #\n",
    "        good_left_inds = ((nonzeroy >= win_y_low) & (nonzeroy < win_y_high) & \n",
    "        (nonzerox >= win_xleft_low) &  (nonzerox < win_xleft_high)).nonzero()[0]\n",
    "        good_right_inds = ((nonzeroy >= win_y_low) & (nonzeroy < win_y_high) & \n",
    "        (nonzerox >= win_xright_low) &  (nonzerox < win_xright_high)).nonzero()[0]\n",
    "\n",
    "        # Append these indices to the lists\n",
    "        left_lane_inds.append(good_left_inds)\n",
    "        right_lane_inds.append(good_right_inds)\n",
    "\n",
    "        # If you found > minpix pixels, recenter next window on their mean position\n",
    "        if len(good_left_inds) > minpix:\n",
    "            leftx_current = np.int(np.mean(nonzerox[good_left_inds]))\n",
    "        if len(good_right_inds) > minpix:        \n",
    "            rightx_current = np.int(np.mean(nonzerox[good_right_inds]))\n",
    "        \n",
    "    return left_lane_inds, right_lane_inds, out_img\n",
    "\n",
    "def find_lane_pixels_last_fit(nonzeroy,nonzerox):\n",
    "    # Create empty lists to receive left and right lane pixel indices\n",
    "    left_lane_inds = []\n",
    "    right_lane_inds = []\n",
    "    \n",
    "    left_fit = Left_Lane.current_fit\n",
    "    right_fit = Right_Lane.current_fit\n",
    "    left_lane_inds = ((nonzerox > (left_fit[0]*(nonzeroy**2) + left_fit[1]*nonzeroy + \n",
    "                left_fit[2] - margin)) & (nonzerox < (left_fit[0]*(nonzeroy**2) + \n",
    "                left_fit[1]*nonzeroy + left_fit[2] + margin)))\n",
    "    right_lane_inds = ((nonzerox > (right_fit[0]*(nonzeroy**2) + right_fit[1]*nonzeroy + \n",
    "                right_fit[2] - margin)) & (nonzerox < (right_fit[0]*(nonzeroy**2) + \n",
    "                right_fit[1]*nonzeroy + right_fit[2] + margin)))\n",
    "    \n",
    "    return left_lane_inds, right_lane_inds\n",
    "\n",
    "    \n",
    "def find_lane_pixels(binary_warped):\n",
    "    # Identify the x and y positions of all nonzero pixels in the image\n",
    "    nonzero = binary_warped.nonzero()\n",
    "    nonzeroy = np.array(nonzero[0])\n",
    "    nonzerox = np.array(nonzero[1])   \n",
    "\n",
    "    \n",
    "    left_lane_inds, right_lane_inds = find_lane_pixels_last_fit(nonzeroy,nonzerox)\n",
    "           \n",
    "\n",
    "    # Concatenate the arrays of indices (previously was a list of lists of pixels)\n",
    "    try:\n",
    "        left_lane_inds = np.concatenate(left_lane_inds)\n",
    "        right_lane_inds = np.concatenate(right_lane_inds)\n",
    "    except ValueError:\n",
    "        # Avoids an error if the above is not implemented fully\n",
    "        pass\n",
    "\n",
    "    \n",
    "    minpix_lane = 300\n",
    "    if (len(left_lane_inds)<=minpix_lane | len(right_lane_inds)<=minpix_lane):        \n",
    "        left_lane_inds_sw, right_lane_inds_sw, out_img = find_lane_pixels_sliding_windows(binary_warped,nonzeroy,nonzerox)\n",
    "        if len(left_lane_inds)<=minpix_lane:\n",
    "            if Left_Lane.not_detected >= 5:\n",
    "                left_lane_inds = left_lane_inds_sw\n",
    "            else:\n",
    "        if len(right_lane_inds)<=minpix_lane:\n",
    "            \n",
    "    else:\n",
    "        # Extract left and right line pixel positions\n",
    "        leftx = nonzerox[left_lane_inds]\n",
    "        lefty = nonzeroy[left_lane_inds] \n",
    "        rightx = nonzerox[right_lane_inds]\n",
    "        righty = nonzeroy[right_lane_inds]\n",
    "            \n",
    "    ## Visualization ##\n",
    "    # Colors in the left and right lane regions\n",
    "    out_img[lefty, leftx] = [255, 0, 0]\n",
    "    out_img[righty, rightx] = [0, 0, 255]\n",
    "    return leftx, lefty, rightx, righty, out_img\n",
    "\n",
    "def fit_polynomial(binary_warped):\n",
    "    # Find our lane pixels first\n",
    "    leftx, lefty, rightx, righty, out_img = find_lane_pixels(binary_warped)\n",
    "    # Fit a second order polynomial to each using `np.polyfit`\n",
    "    left_fit = np.polyfit(lefty, leftx, 2)\n",
    "    right_fit = np.polyfit(righty, rightx, 2)\n",
    "    Left_Lane.current_fit = left_fit\n",
    "    Right_Lane.current_fit = right_fit\n",
    "    \n",
    "    # Generate x and y values for plotting\n",
    "    ploty = np.linspace(0, binary_warped.shape[0]-1, binary_warped.shape[0] )\n",
    "    try:\n",
    "        left_fitx = left_fit[0]*ploty**2 + left_fit[1]*ploty + left_fit[2]\n",
    "        right_fitx = right_fit[0]*ploty**2 + right_fit[1]*ploty + right_fit[2]\n",
    "    except TypeError:\n",
    "        # Avoids an error if `left` and `right_fit` are still none or incorrect\n",
    "        print('The function failed to fit a line!')\n",
    "        left_fitx = 0*ploty**2 + 1*ploty\n",
    "        right_fitx = 0*ploty**2 + 1*ploty\n",
    "\n",
    "    ## Visualization ##\n",
    "    # Colors in the left and right lane regions\n",
    "    out_img[lefty, leftx] = [255, 0, 0]\n",
    "    out_img[righty, rightx] = [0, 0, 255]\n",
    "\n",
    "    # Plots the left and right polynomials on the lane lines\n",
    "    idx_inscope_left_fitx = (left_fitx >= 0) & (left_fitx < (binary_warped.shape[1]-0.5))\n",
    "    idx_inscope_right_fitx = (right_fitx >= 0) & (right_fitx < (binary_warped.shape[1]-0.5))\n",
    "    # converts float arrays to integer arrays\n",
    "    ploty = np.rint(ploty).astype(int)\n",
    "    left_fitx = np.rint(left_fitx).astype(int)\n",
    "    right_fitx = np.rint(right_fitx).astype(int)\n",
    "    #prin(np.max(right_fitx[idx_inscope_right_fitx]))\n",
    "   # show(binary_warped)\n",
    "    \n",
    "\n",
    "    if (Left_Lane.detected & Right_Lane.detected):\n",
    "        window_img = np.zeros_like(out_img)\n",
    "\n",
    "        # Generate a polygon to illustrate the search window area\n",
    "        # And recast the x and y points into usable format for cv2.fillPoly()\n",
    "        left_line_window1 = np.array([np.transpose(np.vstack([left_fitx-margin, ploty]))])\n",
    "        left_line_window2 = np.array([np.flipud(np.transpose(np.vstack([left_fitx+margin, \n",
    "                                  ploty])))])\n",
    "        left_line_pts = np.hstack((left_line_window1, left_line_window2))\n",
    "        right_line_window1 = np.array([np.transpose(np.vstack([right_fitx-margin, ploty]))])\n",
    "        right_line_window2 = np.array([np.flipud(np.transpose(np.vstack([right_fitx+margin, \n",
    "                                  ploty])))])\n",
    "        right_line_pts = np.hstack((right_line_window1, right_line_window2))\n",
    "        # Draw the lane onto the warped blank image\n",
    "        cv2.fillPoly(window_img, np.int_([left_line_pts]), (0,255, 0))\n",
    "        cv2.fillPoly(window_img, np.int_([right_line_pts]), (0,255, 0))\n",
    "        result = cv2.addWeighted(out_img, 1, window_img, 0.3, 0)\n",
    "    else:\n",
    "        out_img[ploty[idx_inscope_left_fitx], left_fitx[idx_inscope_left_fitx]] = [255, 255, 255]\n",
    "        out_img[ploty[idx_inscope_right_fitx], right_fitx[idx_inscope_right_fitx]] = [255, 255, 255]\n",
    "        result = out_img       \n",
    "        \n",
    "    # Define conversions in x and y from pixels space to meters\n",
    "    yscale = 30/2880 # meters per pixel in y dimension\n",
    "    xscale = 3.7/800 # meters per pixel in x dimension\n",
    "    afactor = xscale/yscale**2\n",
    "    bfactor = xscale/yscale\n",
    "    aleftscaled = left_fit[0]*afactor\n",
    "    bleftscaled = left_fit[1]*bfactor\n",
    "    arightscaled = right_fit[0]*afactor\n",
    "    brightscaled = right_fit[1]*bfactor\n",
    "    \n",
    "    # Define y-value where we want radius of curvature\n",
    "    # We'll choose the maximum y-value, corresponding to the bottom of the image\n",
    "    y_eval_scaled = np.max(ploty)*yscale\n",
    "    \n",
    "    # Calculation of R_curve (radius of curvature)\n",
    "    left_curverad = ((1 + (2*aleftscaled*y_eval_scaled + bleftscaled)**2)**1.5) / np.absolute(2*aleftscaled)\n",
    "    right_curverad = ((1 + (2*arightscaled*y_eval_scaled + brightscaled)**2)**1.5) / np.absolute(2*arightscaled)\n",
    "    print(left_curverad,'m', right_curverad,'m')\n",
    "   \n",
    "    return result,ploty,left_fitx,right_fitx\n",
    "\n",
    "def unwarp(warped,ploty,left_fitx,right_fitx,Minv,image):\n",
    "    # Create an image to draw the lines on\n",
    "    warp_zero = np.zeros_like(warped).astype(np.uint8)\n",
    "\n",
    "    # Recast the x and y points into usable format for cv2.fillPoly()\n",
    "    pts_left = np.array([np.transpose(np.vstack([left_fitx, ploty]))])\n",
    "    pts_right = np.array([np.flipud(np.transpose(np.vstack([right_fitx, ploty])))])\n",
    "#    pts = np.hstack((pts_left, pts_right))\n",
    "    pts = np.concatenate((pts_left,pts_right),axis=1)\n",
    "\n",
    "    # Draw the lane onto the warped blank image\n",
    "#    cv2.fillPoly(color_warp, np.int_([pts]), (0,255, 0))\n",
    "    cv2.fillPoly(warp_zero, pts, [0,255, 0])\n",
    "\n",
    "\n",
    "    # Warp the blank back to original image space using inverse perspective matrix (Minv)\n",
    "    newwarp = cv2.warpPerspective(warp_zero, Minv, (image.shape[1], image.shape[0])) \n",
    "    # Combine the result with the original image\n",
    "    result = cv2.addWeighted(image, 1, newwarp, 0.3, 0)\n",
    "    return result\n",
    "\n",
    "# Define a class to receive the characteristics of each line detection\n",
    "class Line():\n",
    "    def __init__(self):\n",
    "        # was the line detected in the last iteration?\n",
    "        self.detected = False  \n",
    "        # x values of the last n fits of the line\n",
    "        self.recent_xfitted = [] \n",
    "        #average x values of the fitted line over the last n iterations\n",
    "        self.bestx = None     \n",
    "        #polynomial coefficients averaged over the last n iterations\n",
    "        self.best_fit = None  \n",
    "        #polynomial coefficients for the most recent fit\n",
    "        self.current_fit = [np.array([False])]  \n",
    "        #radius of curvature of the line in some units\n",
    "        self.radius_of_curvature = None \n",
    "        #distance in meters of vehicle center from the line\n",
    "        self.line_base_pos = None \n",
    "        #difference in fit coefficients between last and new fits\n",
    "        self.diffs = np.array([0,0,0], dtype='float') \n",
    "        #x values for detected line pixels\n",
    "        self.allx = None  \n",
    "        #y values for detected line pixels\n",
    "        self.ally = None\n",
    "        #result of sanity check\n",
    "        self.sanity = False\n",
    "\n",
    "def sanity_check(left_curverad,right_curverad,left_fitx,rigth_fitx):\n",
    "    if numpy.absolute(left_curverad-right_curverad)<=100:\n",
    "        if (rigth_fitx[1]-left_fitx[1])>=700 & (rigth_fitx[1]-left_fitx[1])<=900:\n",
    "            if (rigth_fitx[-1]-left_fitx[-1])>=700 & (rigth_fitx[-1]-left_fitx[-1])<=900:\n",
    "                if numpy.absolute((rigth_fitx[-1]-left_fitx[-1]) - (rigth_fitx[-1]-left_fitx[-1]))<=100:\n",
    "                    x = 1;\n",
    "\n",
    "        \n",
    "def process_image(img):\n",
    "    binary_combined, rgb_combined, analyse_grad_color = combine_grad_color_thresh(img)\n",
    "    processed_analyse, matrix_transform_back = process_perspective(binary_combined)\n",
    "    perspec_rgb, matrix_transform_back = process_perspective(rgb_combined)\n",
    "    out_img,ploty,left_fitx,right_fitx = fit_polynomial(processed_analyse)\n",
    "    unwarped = unwarp(out_img,ploty,left_fitx,right_fitx,matrix_transform_back,img)\n",
    "    analyse_grad_color[:img.shape[0],img.shape[1]:2*img.shape[1],:] = np.copy(unwarped)\n",
    "    analyse_overall = np.concatenate((analyse_grad_color,perspec_rgb,out_img),axis=1)\n",
    "    return analyse_overall\n",
    "\n",
    "from moviepy.editor import VideoFileClip\n",
    "video = 'challenge_video.mp4'\n",
    "output = 'out_put_' + video\n",
    "clip1 = VideoFileClip(video)\n",
    "Left_Lane = Line()\n",
    "Right_Lane = Line()\n",
    "clip = clip1.fl_image(process_image) #NOTE: this function expects color images!!\n",
    "%time clip.write_videofile(output, audio=False)\n",
    "\n"
   ]
  },
  {
   "cell_type": "code",
   "execution_count": null,
   "metadata": {},
   "outputs": [],
   "source": []
  },
  {
   "cell_type": "code",
   "execution_count": null,
   "metadata": {},
   "outputs": [],
   "source": []
  }
 ],
 "metadata": {
  "kernelspec": {
   "display_name": "Python [conda env:carnd-term1]",
   "language": "python",
   "name": "conda-env-carnd-term1-py"
  },
  "language_info": {
   "codemirror_mode": {
    "name": "ipython",
    "version": 3
   },
   "file_extension": ".py",
   "mimetype": "text/x-python",
   "name": "python",
   "nbconvert_exporter": "python",
   "pygments_lexer": "ipython3",
   "version": "3.5.2"
  },
  "widgets": {
   "state": {},
   "version": "1.1.2"
  }
 },
 "nbformat": 4,
 "nbformat_minor": 2
}
